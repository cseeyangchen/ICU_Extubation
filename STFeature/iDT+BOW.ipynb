{
 "cells": [
  {
   "cell_type": "code",
   "execution_count": 1,
   "metadata": {},
   "outputs": [],
   "source": [
    "import os\n",
    "import numpy as np\n",
    "import random\n",
    "from random import sample\n",
    "from sklearn import preprocessing\n",
    "from sklearn.model_selection import StratifiedKFold\n",
    "from sklearn import svm\n",
    "from sklearn.tree import DecisionTreeClassifier\n",
    "from sklearn.neighbors import KNeighborsClassifier\n",
    "from sklearn import metrics\n",
    "import gzip\n",
    "import cv2\n",
    "from scipy.spatial import KDTree"
   ]
  },
  {
   "cell_type": "code",
   "execution_count": 2,
   "metadata": {},
   "outputs": [],
   "source": [
    "\"\"\"将单个gz文件解压为txt文件\"\"\"\n",
    "def unzip_file(input_file, output_file):\n",
    "    gfile = gzip.GzipFile(input_file)\n",
    "    open(output_file,\"wb\").write(gfile.read())\n",
    "    gfile.close()"
   ]
  },
  {
   "cell_type": "code",
   "execution_count": 3,
   "metadata": {},
   "outputs": [],
   "source": [
    "\"\"\"解压所有gz文件\"\"\"\n",
    "def unzip_folder():\n",
    "    idt_feature_zip_dir = \"../视频合集/拔管/idt_feature\"\n",
    "    idt_feature_unzip_dir = \"../视频合集/拔管/idt特征\"\n",
    "    for video_name in os.listdir(idt_feature_zip_dir):\n",
    "        video_path = os.path.join(idt_feature_zip_dir, video_name)\n",
    "        out_path = os.path.join(idt_feature_unzip_dir, video_name)\n",
    "        if not os.path.exists(out_path):\n",
    "            os.makedirs(out_path)\n",
    "        for clip_name in os.listdir(video_path):\n",
    "            txt_name = clip_name.replace(\"gz\",\"txt\")\n",
    "            input_file = os.path.join(video_path, clip_name)\n",
    "            output_file = os.path.join(out_path,txt_name)\n",
    "            unzip_file(input_file,output_file)"
   ]
  },
  {
   "cell_type": "code",
   "execution_count": 4,
   "metadata": {},
   "outputs": [],
   "source": [
    "unzip_folder()"
   ]
  },
  {
   "cell_type": "code",
   "execution_count": 4,
   "metadata": {},
   "outputs": [],
   "source": [
    "\"\"\"统计所有视频的idt向量，构建并训练bow词袋模型\"\"\"\n",
    "def create_dictionary(features):\n",
    "    dictionary_size=20\n",
    "    bow = cv2.BOWKMeansTrainer(dictionary_size)\n",
    "    for i, video in enumerate(features):\n",
    "        for clip_idx, clip in enumerate(video):\n",
    "            bow.add(np.float32(clip))\n",
    "    dictionary = bow.cluster()\n",
    "    return dictionary"
   ]
  },
  {
   "cell_type": "code",
   "execution_count": 5,
   "metadata": {},
   "outputs": [],
   "source": [
    "\"\"\"重构词向量\"\"\"\n",
    "def create_bow(dictionary, features, save_paths):\n",
    "    kdtree = KDTree(dictionary)\n",
    "    bins = dictionary.shape[0]\n",
    "    for i, video in enumerate(features):\n",
    "        for clip_idx, clip in enumerate(video):\n",
    "            dis, indices = kdtree.query(clip)\n",
    "            hist, _ = np.histogram(indices, bins=bins)\n",
    "            hist = hist / len(indices)\n",
    "\n",
    "            store_path = save_paths[i][clip_idx]  # 储存当前clip的词向量------特征\n",
    "            np.save(store_path, hist)"
   ]
  },
  {
   "cell_type": "code",
   "execution_count": 6,
   "metadata": {},
   "outputs": [],
   "source": [
    "\"\"\"主函数：处理视频并保存每个clip的bow向量\"\"\"\n",
    "def idt_clip_bow():\n",
    "    idt_feature_dir = \"../视频合集/拔管/idt特征\"\n",
    "    save_dir = \"../视频合集/拔管/idt特征bow\"\n",
    "    clips_save_path = []\n",
    "    file_dir = os.listdir(idt_feature_dir)\n",
    "    file_dir.sort()\n",
    "    features = []\n",
    "    for video_name in file_dir:\n",
    "        video_path = os.path.join(idt_feature_dir, video_name)\n",
    "        clips_path_list = os.listdir(video_path)\n",
    "        clips_path_list.sort()\n",
    "        clip_bow_path = os.path.join(save_dir, video_name)\n",
    "        if not os.path.exists(clip_bow_path):\n",
    "            os.makedirs(clip_bow_path)\n",
    "        videos = []\n",
    "        tmp = []\n",
    "        for clip in clips_path_list:\n",
    "            tmp.append(os.path.join(clip_bow_path, clip))\n",
    "            clip_path = os.path.join(video_path, clip)\n",
    "            data = np.loadtxt(clip_path)\n",
    "            # 前10列为轨迹信息，30维轨迹，96维HOG，108维HOF，96维MBHX，96维MBHY\n",
    "            feature_data = data[:, 40:436]\n",
    "            videos.append(feature_data)\n",
    "        features.append(videos)\n",
    "        clips_save_path.append(tmp)\n",
    "    print(\"Done: features 创建完成\")\n",
    "    # 构建字典\n",
    "    dictionary = create_dictionary(features)\n",
    "    print(\"Done: dictionary 创建完成\")\n",
    "    create_bow(dictionary, features, clips_save_path)\n",
    "    print(\"Done: bow 创建完成\")"
   ]
  },
  {
   "cell_type": "code",
   "execution_count": null,
   "metadata": {},
   "outputs": [],
   "source": [
    "idt_clip_bow()"
   ]
  },
  {
   "cell_type": "code",
   "execution_count": 2,
   "metadata": {},
   "outputs": [],
   "source": [
    "\"\"\"读取保存的bow词特征向量\"\"\"\n",
    "def read_bow():\n",
    "    bow_feature_path = \"./idt特征bow\"\n",
    "    labels_path = \"./标签信息\"\n",
    "    feature_sample = [[],[],[],[]]\n",
    "    filename_sample = [[],[],[],[]]\n",
    "    for videoname in sorted(os.listdir(bow_feature_path)):\n",
    "        video_feature_path = os.path.join(bow_feature_path,videoname)   # 视频路径\n",
    "        label_path = os.path.join(labels_path,videoname+\".txt\")\n",
    "        # 读取标签文件\n",
    "        label = []\n",
    "        with open(label_path,\"r\",encoding='utf-8') as f:\n",
    "            while True:\n",
    "                line = f.readline()\n",
    "                if not line:\n",
    "                    break\n",
    "                line = line.split('，')\n",
    "                label.append(eval(line[1]))\n",
    "        # 根据label读取每个clip的特征文件\n",
    "        for i in range(len(label)):\n",
    "            clipname = \"clip\"+str(i+1)+\".txt.npy\"\n",
    "            tmp_path = videoname+\"/\"+clipname\n",
    "            clip_feature_path = os.path.join(video_feature_path,clipname)\n",
    "            feature = np.load(clip_feature_path)   # 读取feature文件\n",
    "            feature_sample[label[i]-1].append(feature.tolist())\n",
    "            filename_sample[label[i]-1].append(tmp_path)\n",
    "    return feature_sample,filename_sample"
   ]
  },
  {
   "cell_type": "code",
   "execution_count": 23,
   "metadata": {},
   "outputs": [],
   "source": [
    "\"\"\"划分数据集并利用svm，knn训练\"\"\"\n",
    "def train_svm_knn(clf_num,method):\n",
    "    feature_sample,filename_sample = read_bow()\n",
    "    print(\"类别1样本数量：\",len(feature_sample[0]),\"类别1文件数量：\",len(filename_sample[0]))\n",
    "    print(\"类别2样本数量：\",len(feature_sample[1]),\"类别2文件数量：\",len(filename_sample[1]))\n",
    "    print(\"类别3样本数量：\",len(feature_sample[2]),\"类别3文件数量：\",len(filename_sample[2]))\n",
    "    print(\"类别4样本数量：\",len(feature_sample[3]),\"类别4文件数量：\",len(filename_sample[3]))\n",
    "    \n",
    "    # 选择随机种子\n",
    "    random.seed(0)\n",
    "    if clf_num == 2:\n",
    "        # 二分类\n",
    "        feature_sample_array = sample(feature_sample[0],361)+feature_sample[1]+feature_sample[3]\n",
    "        label_array = [0]*len(sample(feature_sample[0],361))+[1]*len(feature_sample[1]+feature_sample[3])\n",
    "        filename_sample_array = sample(filename_sample[0],361)+filename_sample[1]+filename_sample[3]\n",
    "    elif clf_num == 3:\n",
    "        # 三分类\n",
    "        feature_sample_array = sample(feature_sample[0],159)+sample(feature_sample[1],159)+feature_sample[3]\n",
    "        label_array = [0]*len(sample(feature_sample[0],159))+[1]*len(sample(feature_sample[1],159))+[2]*len(feature_sample[3])\n",
    "        filename_sample_array = sample(filename_sample[0],159)+sample(filename_sample[1],159)+filename_sample[3]\n",
    "    elif clf_num == 4:\n",
    "        # 四分类\n",
    "        feature_sample_array = sample(feature_sample[0],104)+sample(feature_sample[1],104)+feature_sample[2]+sample(feature_sample[3],104)\n",
    "        label_array = [0]*len(sample(feature_sample[0],104))+[1]*len(sample(feature_sample[1],104))+[2]*len(feature_sample[2])+[3]*len(sample(feature_sample[3],104))\n",
    "        filename_sample_array = sample(filename_sample[0],104)+sample(filename_sample[1],104)+filename_sample[2]+sample(filename_sample[3],104)\n",
    "    \n",
    "    # 分层k折交叉验证\n",
    "    skf = StratifiedKFold(n_splits=10)\n",
    "    # 储存每一轮的结果\n",
    "    train_score_list = []\n",
    "    test_score_list = []\n",
    "    precision_score_list = []\n",
    "    recall_score_list = []\n",
    "    f1_score_list = []\n",
    "    feature_sample_array = preprocessing.scale(feature_sample_array)   # processing预处理\n",
    "    for train, test in skf.split(feature_sample_array,label_array):\n",
    "        train_data = np.array(feature_sample_array)[train,:]   # 划分好的训练集\n",
    "        train_label = np.array(label_array)[train]\n",
    "        test_data = np.array(feature_sample_array)[test,:]   # 划分好的测试集\n",
    "        test_label = np.array(label_array)[test]\n",
    "        if method == \"SVM\":\n",
    "#             clf = svm.SVC(kernel='linear',decision_function_shape='ovr',max_iter=1e7)\n",
    "            clf = svm.SVC(kernel='linear',decision_function_shape='ovr')\n",
    "            clf.fit(train_data,train_label)\n",
    "        if method == \"KNN\":\n",
    "            clf = KNeighborsClassifier(n_neighbors=10)\n",
    "            clf.fit(train_data,train_label)\n",
    "        \n",
    "        # 采用混淆矩阵计算各种评价指标\n",
    "        predicted_train_label = clf.predict(train_data)\n",
    "        predicted_test_label = clf.predict(test_data)\n",
    "#         print(\"当前折训练集准确率：\",metrics.accuracy_score(train_label,predicted_train_label))\n",
    "        train_score_list.append(metrics.accuracy_score(train_label,predicted_train_label))\n",
    "#         print(\"当前折测试集准确率：\",metrics.accuracy_score(test_label,predicted_test_label))\n",
    "        test_score_list.append(metrics.accuracy_score(test_label,predicted_test_label))\n",
    "#         print(\"当前折精准值：\",metrics.precision_score(test_label,predicted_test_label,average='weighted'))\n",
    "        precision_score_list.append(metrics.precision_score(test_label,predicted_test_label,average='weighted'))\n",
    "#         print(\"当前折召回率：\",metrics.recall_score(test_label,predicted_test_label,average='weighted'))\n",
    "        recall_score_list.append(metrics.recall_score(test_label,predicted_test_label,average='weighted'))\n",
    "#         print(\"当前折F1：\",metrics.f1_score(test_label,predicted_test_label,average='weighted'))\n",
    "        f1_score_list.append(metrics.f1_score(test_label,predicted_test_label,average='weighted'))\n",
    "#         print(\"Done!*****************************************************\")\n",
    "       \n",
    "    print(\"Method:\",method,\" Clf_num\",clf_num)\n",
    "    print(\"训练集准确率：\",np.array(train_score_list).mean())\n",
    "    print(\"测试集准确率：\",np.array(test_score_list).mean())\n",
    "    print(\"精确率：\",np.array(precision_score_list).mean())\n",
    "    print(\"召回率：\",np.array(recall_score_list).mean())\n",
    "    print(\"F1得分：\",np.array(f1_score_list).mean())"
   ]
  },
  {
   "cell_type": "code",
   "execution_count": 24,
   "metadata": {
    "scrolled": true
   },
   "outputs": [
    {
     "name": "stdout",
     "output_type": "stream",
     "text": [
      "类别1样本数量： 511 类别1文件数量： 511\n",
      "类别2样本数量： 202 类别2文件数量： 202\n",
      "类别3样本数量： 104 类别3文件数量： 104\n",
      "类别4样本数量： 159 类别4文件数量： 159\n",
      "Method: SVM  Clf_num 2\n",
      "训练集准确率： 0.7520789380111415\n",
      "测试集准确率： 0.6953957382039574\n",
      "精确率： 0.7061062112921122\n",
      "召回率： 0.6953957382039574\n",
      "F1得分： 0.6925300198892972\n",
      "类别1样本数量： 511 类别1文件数量： 511\n",
      "类别2样本数量： 202 类别2文件数量： 202\n",
      "类别3样本数量： 104 类别3文件数量： 104\n",
      "类别4样本数量： 159 类别4文件数量： 159\n",
      "Method: KNN  Clf_num 2\n",
      "训练集准确率： 0.7900884200545217\n",
      "测试集准确率： 0.6898021308980213\n",
      "精确率： 0.6997011278507989\n",
      "召回率： 0.6898021308980213\n",
      "F1得分： 0.6850316482870648\n",
      "类别1样本数量： 511 类别1文件数量： 511\n",
      "类别2样本数量： 202 类别2文件数量： 202\n",
      "类别3样本数量： 104 类别3文件数量： 104\n",
      "类别4样本数量： 159 类别4文件数量： 159\n",
      "Method: SVM  Clf_num 3\n",
      "训练集准确率： 0.5874624600205995\n",
      "测试集准确率： 0.4379432624113475\n",
      "精确率： 0.4243153188234497\n",
      "召回率： 0.4379432624113475\n",
      "F1得分： 0.4188351937432622\n",
      "类别1样本数量： 511 类别1文件数量： 511\n",
      "类别2样本数量： 202 类别2文件数量： 202\n",
      "类别3样本数量： 104 类别3文件数量： 104\n",
      "类别4样本数量： 159 类别4文件数量： 159\n",
      "Method: KNN  Clf_num 3\n",
      "训练集准确率： 0.623568601940695\n",
      "测试集准确率： 0.486081560283688\n",
      "精确率： 0.47287501217068073\n",
      "召回率： 0.486081560283688\n",
      "F1得分： 0.4619005207386128\n",
      "类别1样本数量： 511 类别1文件数量： 511\n",
      "类别2样本数量： 202 类别2文件数量： 202\n",
      "类别3样本数量： 104 类别3文件数量： 104\n",
      "类别4样本数量： 159 类别4文件数量： 159\n",
      "Method: SVM  Clf_num 4\n",
      "训练集准确率： 0.6103016042780749\n",
      "测试集准确率： 0.5165505226480835\n",
      "精确率： 0.5113299441671034\n",
      "召回率： 0.5165505226480835\n",
      "F1得分： 0.504460315714314\n",
      "类别1样本数量： 511 类别1文件数量： 511\n",
      "类别2样本数量： 202 类别2文件数量： 202\n",
      "类别3样本数量： 104 类别3文件数量： 104\n",
      "类别4样本数量： 159 类别4文件数量： 159\n",
      "Method: KNN  Clf_num 4\n",
      "训练集准确率： 0.573709090909091\n",
      "测试集准确率： 0.49216027874564466\n",
      "精确率： 0.5068136393792265\n",
      "召回率： 0.49216027874564466\n",
      "F1得分： 0.4782403016429829\n"
     ]
    }
   ],
   "source": [
    "\"\"\"进行2，3，4分类，并利用svm，knn为分类器做对比实验\"\"\"\n",
    "cls_num = [2,3,4]\n",
    "methods = [\"SVM\",\"KNN\"]\n",
    "for num in cls_num:\n",
    "    for method in methods:\n",
    "        train_svm_knn(num,method)"
   ]
  },
  {
   "cell_type": "code",
   "execution_count": 16,
   "metadata": {},
   "outputs": [],
   "source": [
    "\"\"\"利用mlp、rvm、random forest分类器进行分类实验\"\"\"\n",
    "\"\"\"补充实验\"\"\"\n",
    "def train_supplement(clf_num,method):\n",
    "    feature_sample,filename_sample = read_bow()\n",
    "    print(\"类别1样本数量：\",len(feature_sample[0]),\"类别1文件数量：\",len(filename_sample[0]))\n",
    "    print(\"类别2样本数量：\",len(feature_sample[1]),\"类别2文件数量：\",len(filename_sample[1]))\n",
    "    print(\"类别3样本数量：\",len(feature_sample[2]),\"类别3文件数量：\",len(filename_sample[2]))\n",
    "    print(\"类别4样本数量：\",len(feature_sample[3]),\"类别4文件数量：\",len(filename_sample[3]))\n",
    "    \n",
    "    # 选择随机种子\n",
    "    random.seed(0)\n",
    "    if clf_num == 2:\n",
    "        # 二分类\n",
    "        feature_sample_array = sample(feature_sample[0],361)+feature_sample[1]+feature_sample[3]\n",
    "        label_array = [0]*len(sample(feature_sample[0],361))+[1]*len(feature_sample[1]+feature_sample[3])\n",
    "        filename_sample_array = sample(filename_sample[0],361)+filename_sample[1]+filename_sample[3]\n",
    "    elif clf_num == 3:\n",
    "        # 三分类\n",
    "        feature_sample_array = sample(feature_sample[0],159)+sample(feature_sample[1],159)+feature_sample[3]\n",
    "        label_array = [0]*len(sample(feature_sample[0],159))+[1]*len(sample(feature_sample[1],159))+[2]*len(feature_sample[3])\n",
    "        filename_sample_array = sample(filename_sample[0],159)+sample(filename_sample[1],159)+filename_sample[3]\n",
    "    elif clf_num == 4:\n",
    "        # 四分类\n",
    "        feature_sample_array = sample(feature_sample[0],104)+sample(feature_sample[1],104)+feature_sample[2]+sample(feature_sample[3],104)\n",
    "        label_array = [0]*len(sample(feature_sample[0],104))+[1]*len(sample(feature_sample[1],104))+[2]*len(feature_sample[2])+[3]*len(sample(feature_sample[3],104))\n",
    "        filename_sample_array = sample(filename_sample[0],104)+sample(filename_sample[1],104)+filename_sample[2]+sample(filename_sample[3],104)\n",
    "    \n",
    "    # 分层k折交叉验证\n",
    "    skf = StratifiedKFold(n_splits=10)\n",
    "    # 储存每一轮的结果\n",
    "    train_score_list = []\n",
    "    test_score_list = []\n",
    "    precision_score_list = []\n",
    "    recall_score_list = []\n",
    "    f1_score_list = []\n",
    "    feature_sample_array = preprocessing.scale(feature_sample_array)   # processing预处理\n",
    "    for train, test in skf.split(feature_sample_array,label_array):\n",
    "        train_data = np.array(feature_sample_array)[train,:]   # 划分好的训练集\n",
    "        train_label = np.array(label_array)[train]\n",
    "        test_data = np.array(feature_sample_array)[test,:]   # 划分好的测试集\n",
    "        test_label = np.array(label_array)[test]\n",
    "        if method == \"MLP\":\n",
    "            # 利用mlp进行多分类\n",
    "            from sklearn.neural_network import MLPClassifier\n",
    "#             clf = MLPClassifier(solver='lbfgs',alpha=1e-3,hidden_layer_sizes=(64,3))\n",
    "#             clf = MLPClassifier(solver='lbfgs',alpha=1e-6,hidden_layer_sizes=(128,6))\n",
    "            clf = MLPClassifier(solver='lbfgs',alpha=1e-6,hidden_layer_sizes=(256,9))\n",
    "            clf.fit(train_data,train_label)\n",
    "        if method == \"RVM\":\n",
    "            from sklearn_rvm import EMRVC\n",
    "            clf = EMRVC(kernel='rbf',max_iter=10)\n",
    "            clf.fit(train_data,train_label)\n",
    "        if method == \"RandomForest\":\n",
    "            from sklearn.ensemble import RandomForestClassifier\n",
    "            clf = RandomForestClassifier(max_depth=2)\n",
    "            clf.fit(train_data,train_label)\n",
    "        # 采用混淆矩阵计算各种评价指标\n",
    "        predicted_train_label = clf.predict(train_data)\n",
    "        predicted_test_label = clf.predict(test_data)\n",
    "        print(\"当前折训练集准确率：\",metrics.accuracy_score(train_label,predicted_train_label))\n",
    "        train_score_list.append(metrics.accuracy_score(train_label,predicted_train_label))\n",
    "        print(\"当前折测试集准确率：\",metrics.accuracy_score(test_label,predicted_test_label))\n",
    "        test_score_list.append(metrics.accuracy_score(test_label,predicted_test_label))\n",
    "#         print(\"当前折精准值：\",metrics.precision_score(test_label,predicted_test_label,average='weighted'))\n",
    "        precision_score_list.append(metrics.precision_score(test_label,predicted_test_label,average='weighted'))\n",
    "#         print(\"当前折召回率：\",metrics.recall_score(test_label,predicted_test_label,average='weighted'))\n",
    "        recall_score_list.append(metrics.recall_score(test_label,predicted_test_label,average='weighted'))\n",
    "#         print(\"当前折F1：\",metrics.f1_score(test_label,predicted_test_label,average='weighted'))\n",
    "        f1_score_list.append(metrics.f1_score(test_label,predicted_test_label,average='weighted'))\n",
    "#         print(\"Done!*****************************************************\")\n",
    "       \n",
    "    print(\"Method:\",method,\" Clf_num:\",clf_num)\n",
    "    print(\"训练集准确率：\",np.array(train_score_list).mean())\n",
    "    print(\"测试集准确率：\",np.array(test_score_list).mean())\n",
    "    print(\"精确率：\",np.array(precision_score_list).mean())\n",
    "    print(\"召回率：\",np.array(recall_score_list).mean())\n",
    "    print(\"F1得分：\",np.array(f1_score_list).mean())"
   ]
  },
  {
   "cell_type": "code",
   "execution_count": 17,
   "metadata": {},
   "outputs": [
    {
     "name": "stdout",
     "output_type": "stream",
     "text": [
      "类别1样本数量： 511 类别1文件数量： 511\n",
      "类别2样本数量： 202 类别2文件数量： 202\n",
      "类别3样本数量： 104 类别3文件数量： 104\n",
      "类别4样本数量： 159 类别4文件数量： 159\n"
     ]
    },
    {
     "name": "stderr",
     "output_type": "stream",
     "text": [
      "C:\\Users\\admin\\Anaconda3\\envs\\UEX\\lib\\site-packages\\sklearn_rvm\\em_rvm.py:675: FutureWarning: The default value of gamma will change from 'auto' to 'scale' in version 0.22 to account better for unscaled features. Set gamma explicitly to 'auto' or 'scale' to avoid this warning.\n",
      "  warnings.warn(\"The default value of gamma will change \"\n"
     ]
    },
    {
     "name": "stdout",
     "output_type": "stream",
     "text": [
      "当前折训练集准确率： 0.8228043143297381\n",
      "当前折测试集准确率： 0.7945205479452054\n"
     ]
    },
    {
     "name": "stderr",
     "output_type": "stream",
     "text": [
      "C:\\Users\\admin\\Anaconda3\\envs\\UEX\\lib\\site-packages\\sklearn_rvm\\em_rvm.py:675: FutureWarning: The default value of gamma will change from 'auto' to 'scale' in version 0.22 to account better for unscaled features. Set gamma explicitly to 'auto' or 'scale' to avoid this warning.\n",
      "  warnings.warn(\"The default value of gamma will change \"\n"
     ]
    },
    {
     "name": "stdout",
     "output_type": "stream",
     "text": [
      "当前折训练集准确率： 0.901386748844376\n",
      "当前折测试集准确率： 0.684931506849315\n"
     ]
    },
    {
     "name": "stderr",
     "output_type": "stream",
     "text": [
      "C:\\Users\\admin\\Anaconda3\\envs\\UEX\\lib\\site-packages\\sklearn_rvm\\em_rvm.py:675: FutureWarning: The default value of gamma will change from 'auto' to 'scale' in version 0.22 to account better for unscaled features. Set gamma explicitly to 'auto' or 'scale' to avoid this warning.\n",
      "  warnings.warn(\"The default value of gamma will change \"\n"
     ]
    },
    {
     "name": "stdout",
     "output_type": "stream",
     "text": [
      "当前折训练集准确率： 0.8753846153846154\n",
      "当前折测试集准确率： 0.6527777777777778\n"
     ]
    },
    {
     "name": "stderr",
     "output_type": "stream",
     "text": [
      "C:\\Users\\admin\\Anaconda3\\envs\\UEX\\lib\\site-packages\\sklearn_rvm\\em_rvm.py:675: FutureWarning: The default value of gamma will change from 'auto' to 'scale' in version 0.22 to account better for unscaled features. Set gamma explicitly to 'auto' or 'scale' to avoid this warning.\n",
      "  warnings.warn(\"The default value of gamma will change \"\n"
     ]
    },
    {
     "name": "stdout",
     "output_type": "stream",
     "text": [
      "当前折训练集准确率： 0.8815384615384615\n",
      "当前折测试集准确率： 0.7083333333333334\n"
     ]
    },
    {
     "name": "stderr",
     "output_type": "stream",
     "text": [
      "C:\\Users\\admin\\Anaconda3\\envs\\UEX\\lib\\site-packages\\sklearn_rvm\\em_rvm.py:675: FutureWarning: The default value of gamma will change from 'auto' to 'scale' in version 0.22 to account better for unscaled features. Set gamma explicitly to 'auto' or 'scale' to avoid this warning.\n",
      "  warnings.warn(\"The default value of gamma will change \"\n"
     ]
    },
    {
     "name": "stdout",
     "output_type": "stream",
     "text": [
      "当前折训练集准确率： 0.9338461538461539\n",
      "当前折测试集准确率： 0.6666666666666666\n"
     ]
    },
    {
     "name": "stderr",
     "output_type": "stream",
     "text": [
      "C:\\Users\\admin\\Anaconda3\\envs\\UEX\\lib\\site-packages\\sklearn_rvm\\em_rvm.py:675: FutureWarning: The default value of gamma will change from 'auto' to 'scale' in version 0.22 to account better for unscaled features. Set gamma explicitly to 'auto' or 'scale' to avoid this warning.\n",
      "  warnings.warn(\"The default value of gamma will change \"\n"
     ]
    },
    {
     "name": "stdout",
     "output_type": "stream",
     "text": [
      "当前折训练集准确率： 0.8769230769230769\n",
      "当前折测试集准确率： 0.7361111111111112\n"
     ]
    },
    {
     "name": "stderr",
     "output_type": "stream",
     "text": [
      "C:\\Users\\admin\\Anaconda3\\envs\\UEX\\lib\\site-packages\\sklearn_rvm\\em_rvm.py:675: FutureWarning: The default value of gamma will change from 'auto' to 'scale' in version 0.22 to account better for unscaled features. Set gamma explicitly to 'auto' or 'scale' to avoid this warning.\n",
      "  warnings.warn(\"The default value of gamma will change \"\n"
     ]
    },
    {
     "name": "stdout",
     "output_type": "stream",
     "text": [
      "当前折训练集准确率： 0.8707692307692307\n",
      "当前折测试集准确率： 0.6527777777777778\n"
     ]
    },
    {
     "name": "stderr",
     "output_type": "stream",
     "text": [
      "C:\\Users\\admin\\Anaconda3\\envs\\UEX\\lib\\site-packages\\sklearn_rvm\\em_rvm.py:675: FutureWarning: The default value of gamma will change from 'auto' to 'scale' in version 0.22 to account better for unscaled features. Set gamma explicitly to 'auto' or 'scale' to avoid this warning.\n",
      "  warnings.warn(\"The default value of gamma will change \"\n"
     ]
    },
    {
     "name": "stdout",
     "output_type": "stream",
     "text": [
      "当前折训练集准确率： 0.8861538461538462\n",
      "当前折测试集准确率： 0.6666666666666666\n"
     ]
    },
    {
     "name": "stderr",
     "output_type": "stream",
     "text": [
      "C:\\Users\\admin\\Anaconda3\\envs\\UEX\\lib\\site-packages\\sklearn_rvm\\em_rvm.py:675: FutureWarning: The default value of gamma will change from 'auto' to 'scale' in version 0.22 to account better for unscaled features. Set gamma explicitly to 'auto' or 'scale' to avoid this warning.\n",
      "  warnings.warn(\"The default value of gamma will change \"\n"
     ]
    },
    {
     "name": "stdout",
     "output_type": "stream",
     "text": [
      "当前折训练集准确率： 0.92\n",
      "当前折测试集准确率： 0.7222222222222222\n"
     ]
    },
    {
     "name": "stderr",
     "output_type": "stream",
     "text": [
      "C:\\Users\\admin\\Anaconda3\\envs\\UEX\\lib\\site-packages\\sklearn_rvm\\em_rvm.py:675: FutureWarning: The default value of gamma will change from 'auto' to 'scale' in version 0.22 to account better for unscaled features. Set gamma explicitly to 'auto' or 'scale' to avoid this warning.\n",
      "  warnings.warn(\"The default value of gamma will change \"\n"
     ]
    },
    {
     "name": "stdout",
     "output_type": "stream",
     "text": [
      "当前折训练集准确率： 0.8569230769230769\n",
      "当前折测试集准确率： 0.6111111111111112\n",
      "Method: RVM  Clf_num: 2\n",
      "训练集准确率： 0.8825729524712574\n",
      "测试集准确率： 0.6896118721461187\n",
      "精确率： 0.696021444297277\n",
      "召回率： 0.6896118721461187\n",
      "F1得分： 0.686630178059063\n",
      "类别1样本数量： 511 类别1文件数量： 511\n",
      "类别2样本数量： 202 类别2文件数量： 202\n",
      "类别3样本数量： 104 类别3文件数量： 104\n",
      "类别4样本数量： 159 类别4文件数量： 159\n"
     ]
    },
    {
     "name": "stderr",
     "output_type": "stream",
     "text": [
      "C:\\Users\\admin\\Anaconda3\\envs\\UEX\\lib\\site-packages\\sklearn_rvm\\em_rvm.py:675: FutureWarning: The default value of gamma will change from 'auto' to 'scale' in version 0.22 to account better for unscaled features. Set gamma explicitly to 'auto' or 'scale' to avoid this warning.\n",
      "  warnings.warn(\"The default value of gamma will change \"\n",
      "C:\\Users\\admin\\Anaconda3\\envs\\UEX\\lib\\site-packages\\sklearn_rvm\\em_rvm.py:675: FutureWarning: The default value of gamma will change from 'auto' to 'scale' in version 0.22 to account better for unscaled features. Set gamma explicitly to 'auto' or 'scale' to avoid this warning.\n",
      "  warnings.warn(\"The default value of gamma will change \"\n",
      "C:\\Users\\admin\\Anaconda3\\envs\\UEX\\lib\\site-packages\\sklearn_rvm\\em_rvm.py:675: FutureWarning: The default value of gamma will change from 'auto' to 'scale' in version 0.22 to account better for unscaled features. Set gamma explicitly to 'auto' or 'scale' to avoid this warning.\n",
      "  warnings.warn(\"The default value of gamma will change \"\n",
      "C:\\Users\\admin\\Anaconda3\\envs\\UEX\\lib\\site-packages\\sklearn_rvm\\em_rvm.py:675: FutureWarning: The default value of gamma will change from 'auto' to 'scale' in version 0.22 to account better for unscaled features. Set gamma explicitly to 'auto' or 'scale' to avoid this warning.\n",
      "  warnings.warn(\"The default value of gamma will change \"\n"
     ]
    },
    {
     "name": "stdout",
     "output_type": "stream",
     "text": [
      "当前折训练集准确率： 0.8624708624708625\n",
      "当前折测试集准确率： 0.4791666666666667\n"
     ]
    },
    {
     "name": "stderr",
     "output_type": "stream",
     "text": [
      "C:\\Users\\admin\\Anaconda3\\envs\\UEX\\lib\\site-packages\\sklearn_rvm\\em_rvm.py:675: FutureWarning: The default value of gamma will change from 'auto' to 'scale' in version 0.22 to account better for unscaled features. Set gamma explicitly to 'auto' or 'scale' to avoid this warning.\n",
      "  warnings.warn(\"The default value of gamma will change \"\n",
      "C:\\Users\\admin\\Anaconda3\\envs\\UEX\\lib\\site-packages\\sklearn_rvm\\em_rvm.py:675: FutureWarning: The default value of gamma will change from 'auto' to 'scale' in version 0.22 to account better for unscaled features. Set gamma explicitly to 'auto' or 'scale' to avoid this warning.\n",
      "  warnings.warn(\"The default value of gamma will change \"\n",
      "C:\\Users\\admin\\Anaconda3\\envs\\UEX\\lib\\site-packages\\sklearn_rvm\\em_rvm.py:675: FutureWarning: The default value of gamma will change from 'auto' to 'scale' in version 0.22 to account better for unscaled features. Set gamma explicitly to 'auto' or 'scale' to avoid this warning.\n",
      "  warnings.warn(\"The default value of gamma will change \"\n",
      "C:\\Users\\admin\\Anaconda3\\envs\\UEX\\lib\\site-packages\\sklearn_rvm\\em_rvm.py:675: FutureWarning: The default value of gamma will change from 'auto' to 'scale' in version 0.22 to account better for unscaled features. Set gamma explicitly to 'auto' or 'scale' to avoid this warning.\n",
      "  warnings.warn(\"The default value of gamma will change \"\n"
     ]
    },
    {
     "name": "stdout",
     "output_type": "stream",
     "text": [
      "当前折训练集准确率： 0.8904428904428905\n",
      "当前折测试集准确率： 0.5625\n"
     ]
    },
    {
     "name": "stderr",
     "output_type": "stream",
     "text": [
      "C:\\Users\\admin\\Anaconda3\\envs\\UEX\\lib\\site-packages\\sklearn_rvm\\em_rvm.py:675: FutureWarning: The default value of gamma will change from 'auto' to 'scale' in version 0.22 to account better for unscaled features. Set gamma explicitly to 'auto' or 'scale' to avoid this warning.\n",
      "  warnings.warn(\"The default value of gamma will change \"\n",
      "C:\\Users\\admin\\Anaconda3\\envs\\UEX\\lib\\site-packages\\sklearn_rvm\\em_rvm.py:675: FutureWarning: The default value of gamma will change from 'auto' to 'scale' in version 0.22 to account better for unscaled features. Set gamma explicitly to 'auto' or 'scale' to avoid this warning.\n",
      "  warnings.warn(\"The default value of gamma will change \"\n",
      "C:\\Users\\admin\\Anaconda3\\envs\\UEX\\lib\\site-packages\\sklearn_rvm\\em_rvm.py:675: FutureWarning: The default value of gamma will change from 'auto' to 'scale' in version 0.22 to account better for unscaled features. Set gamma explicitly to 'auto' or 'scale' to avoid this warning.\n",
      "  warnings.warn(\"The default value of gamma will change \"\n",
      "C:\\Users\\admin\\Anaconda3\\envs\\UEX\\lib\\site-packages\\sklearn_rvm\\em_rvm.py:675: FutureWarning: The default value of gamma will change from 'auto' to 'scale' in version 0.22 to account better for unscaled features. Set gamma explicitly to 'auto' or 'scale' to avoid this warning.\n",
      "  warnings.warn(\"The default value of gamma will change \"\n",
      "C:\\Users\\admin\\Anaconda3\\envs\\UEX\\lib\\site-packages\\sklearn_rvm\\em_rvm.py:581: RuntimeWarning: divide by zero encountered in log\n",
      "  np.sum(np.log(1 - y[t == 0]), 0))\n"
     ]
    },
    {
     "name": "stdout",
     "output_type": "stream",
     "text": [
      "当前折训练集准确率： 0.9090909090909091\n",
      "当前折测试集准确率： 0.4791666666666667\n"
     ]
    },
    {
     "name": "stderr",
     "output_type": "stream",
     "text": [
      "C:\\Users\\admin\\Anaconda3\\envs\\UEX\\lib\\site-packages\\sklearn_rvm\\em_rvm.py:675: FutureWarning: The default value of gamma will change from 'auto' to 'scale' in version 0.22 to account better for unscaled features. Set gamma explicitly to 'auto' or 'scale' to avoid this warning.\n",
      "  warnings.warn(\"The default value of gamma will change \"\n",
      "C:\\Users\\admin\\Anaconda3\\envs\\UEX\\lib\\site-packages\\sklearn_rvm\\em_rvm.py:675: FutureWarning: The default value of gamma will change from 'auto' to 'scale' in version 0.22 to account better for unscaled features. Set gamma explicitly to 'auto' or 'scale' to avoid this warning.\n",
      "  warnings.warn(\"The default value of gamma will change \"\n",
      "C:\\Users\\admin\\Anaconda3\\envs\\UEX\\lib\\site-packages\\sklearn_rvm\\em_rvm.py:675: FutureWarning: The default value of gamma will change from 'auto' to 'scale' in version 0.22 to account better for unscaled features. Set gamma explicitly to 'auto' or 'scale' to avoid this warning.\n",
      "  warnings.warn(\"The default value of gamma will change \"\n",
      "C:\\Users\\admin\\Anaconda3\\envs\\UEX\\lib\\site-packages\\sklearn_rvm\\em_rvm.py:675: FutureWarning: The default value of gamma will change from 'auto' to 'scale' in version 0.22 to account better for unscaled features. Set gamma explicitly to 'auto' or 'scale' to avoid this warning.\n",
      "  warnings.warn(\"The default value of gamma will change \"\n",
      "C:\\Users\\admin\\Anaconda3\\envs\\UEX\\lib\\site-packages\\sklearn_rvm\\em_rvm.py:581: RuntimeWarning: divide by zero encountered in log\n",
      "  np.sum(np.log(1 - y[t == 0]), 0))\n"
     ]
    },
    {
     "name": "stdout",
     "output_type": "stream",
     "text": [
      "当前折训练集准确率： 0.9067599067599068\n",
      "当前折测试集准确率： 0.4791666666666667\n"
     ]
    },
    {
     "name": "stderr",
     "output_type": "stream",
     "text": [
      "C:\\Users\\admin\\Anaconda3\\envs\\UEX\\lib\\site-packages\\sklearn_rvm\\em_rvm.py:675: FutureWarning: The default value of gamma will change from 'auto' to 'scale' in version 0.22 to account better for unscaled features. Set gamma explicitly to 'auto' or 'scale' to avoid this warning.\n",
      "  warnings.warn(\"The default value of gamma will change \"\n",
      "C:\\Users\\admin\\Anaconda3\\envs\\UEX\\lib\\site-packages\\sklearn_rvm\\em_rvm.py:675: FutureWarning: The default value of gamma will change from 'auto' to 'scale' in version 0.22 to account better for unscaled features. Set gamma explicitly to 'auto' or 'scale' to avoid this warning.\n",
      "  warnings.warn(\"The default value of gamma will change \"\n",
      "C:\\Users\\admin\\Anaconda3\\envs\\UEX\\lib\\site-packages\\sklearn_rvm\\em_rvm.py:675: FutureWarning: The default value of gamma will change from 'auto' to 'scale' in version 0.22 to account better for unscaled features. Set gamma explicitly to 'auto' or 'scale' to avoid this warning.\n",
      "  warnings.warn(\"The default value of gamma will change \"\n",
      "C:\\Users\\admin\\Anaconda3\\envs\\UEX\\lib\\site-packages\\sklearn_rvm\\em_rvm.py:675: FutureWarning: The default value of gamma will change from 'auto' to 'scale' in version 0.22 to account better for unscaled features. Set gamma explicitly to 'auto' or 'scale' to avoid this warning.\n",
      "  warnings.warn(\"The default value of gamma will change \"\n"
     ]
    },
    {
     "name": "stdout",
     "output_type": "stream",
     "text": [
      "当前折训练集准确率： 0.9044289044289044\n",
      "当前折测试集准确率： 0.5\n"
     ]
    },
    {
     "name": "stderr",
     "output_type": "stream",
     "text": [
      "C:\\Users\\admin\\Anaconda3\\envs\\UEX\\lib\\site-packages\\sklearn_rvm\\em_rvm.py:675: FutureWarning: The default value of gamma will change from 'auto' to 'scale' in version 0.22 to account better for unscaled features. Set gamma explicitly to 'auto' or 'scale' to avoid this warning.\n",
      "  warnings.warn(\"The default value of gamma will change \"\n",
      "C:\\Users\\admin\\Anaconda3\\envs\\UEX\\lib\\site-packages\\sklearn_rvm\\em_rvm.py:675: FutureWarning: The default value of gamma will change from 'auto' to 'scale' in version 0.22 to account better for unscaled features. Set gamma explicitly to 'auto' or 'scale' to avoid this warning.\n",
      "  warnings.warn(\"The default value of gamma will change \"\n",
      "C:\\Users\\admin\\Anaconda3\\envs\\UEX\\lib\\site-packages\\sklearn_rvm\\em_rvm.py:675: FutureWarning: The default value of gamma will change from 'auto' to 'scale' in version 0.22 to account better for unscaled features. Set gamma explicitly to 'auto' or 'scale' to avoid this warning.\n",
      "  warnings.warn(\"The default value of gamma will change \"\n",
      "C:\\Users\\admin\\Anaconda3\\envs\\UEX\\lib\\site-packages\\sklearn_rvm\\em_rvm.py:675: FutureWarning: The default value of gamma will change from 'auto' to 'scale' in version 0.22 to account better for unscaled features. Set gamma explicitly to 'auto' or 'scale' to avoid this warning.\n",
      "  warnings.warn(\"The default value of gamma will change \"\n"
     ]
    },
    {
     "name": "stdout",
     "output_type": "stream",
     "text": [
      "当前折训练集准确率： 0.9230769230769231\n",
      "当前折测试集准确率： 0.4166666666666667\n"
     ]
    },
    {
     "name": "stderr",
     "output_type": "stream",
     "text": [
      "C:\\Users\\admin\\Anaconda3\\envs\\UEX\\lib\\site-packages\\sklearn_rvm\\em_rvm.py:675: FutureWarning: The default value of gamma will change from 'auto' to 'scale' in version 0.22 to account better for unscaled features. Set gamma explicitly to 'auto' or 'scale' to avoid this warning.\n",
      "  warnings.warn(\"The default value of gamma will change \"\n",
      "C:\\Users\\admin\\Anaconda3\\envs\\UEX\\lib\\site-packages\\sklearn_rvm\\em_rvm.py:675: FutureWarning: The default value of gamma will change from 'auto' to 'scale' in version 0.22 to account better for unscaled features. Set gamma explicitly to 'auto' or 'scale' to avoid this warning.\n",
      "  warnings.warn(\"The default value of gamma will change \"\n",
      "C:\\Users\\admin\\Anaconda3\\envs\\UEX\\lib\\site-packages\\sklearn_rvm\\em_rvm.py:675: FutureWarning: The default value of gamma will change from 'auto' to 'scale' in version 0.22 to account better for unscaled features. Set gamma explicitly to 'auto' or 'scale' to avoid this warning.\n",
      "  warnings.warn(\"The default value of gamma will change \"\n",
      "C:\\Users\\admin\\Anaconda3\\envs\\UEX\\lib\\site-packages\\sklearn_rvm\\em_rvm.py:675: FutureWarning: The default value of gamma will change from 'auto' to 'scale' in version 0.22 to account better for unscaled features. Set gamma explicitly to 'auto' or 'scale' to avoid this warning.\n",
      "  warnings.warn(\"The default value of gamma will change \"\n"
     ]
    },
    {
     "name": "stdout",
     "output_type": "stream",
     "text": [
      "当前折训练集准确率： 0.8951048951048951\n",
      "当前折测试集准确率： 0.5\n"
     ]
    },
    {
     "name": "stderr",
     "output_type": "stream",
     "text": [
      "C:\\Users\\admin\\Anaconda3\\envs\\UEX\\lib\\site-packages\\sklearn_rvm\\em_rvm.py:675: FutureWarning: The default value of gamma will change from 'auto' to 'scale' in version 0.22 to account better for unscaled features. Set gamma explicitly to 'auto' or 'scale' to avoid this warning.\n",
      "  warnings.warn(\"The default value of gamma will change \"\n",
      "C:\\Users\\admin\\Anaconda3\\envs\\UEX\\lib\\site-packages\\sklearn_rvm\\em_rvm.py:675: FutureWarning: The default value of gamma will change from 'auto' to 'scale' in version 0.22 to account better for unscaled features. Set gamma explicitly to 'auto' or 'scale' to avoid this warning.\n",
      "  warnings.warn(\"The default value of gamma will change \"\n",
      "C:\\Users\\admin\\Anaconda3\\envs\\UEX\\lib\\site-packages\\sklearn_rvm\\em_rvm.py:675: FutureWarning: The default value of gamma will change from 'auto' to 'scale' in version 0.22 to account better for unscaled features. Set gamma explicitly to 'auto' or 'scale' to avoid this warning.\n",
      "  warnings.warn(\"The default value of gamma will change \"\n",
      "C:\\Users\\admin\\Anaconda3\\envs\\UEX\\lib\\site-packages\\sklearn_rvm\\em_rvm.py:675: FutureWarning: The default value of gamma will change from 'auto' to 'scale' in version 0.22 to account better for unscaled features. Set gamma explicitly to 'auto' or 'scale' to avoid this warning.\n",
      "  warnings.warn(\"The default value of gamma will change \"\n"
     ]
    },
    {
     "name": "stdout",
     "output_type": "stream",
     "text": [
      "当前折训练集准确率： 0.9186046511627907\n",
      "当前折测试集准确率： 0.40425531914893614\n"
     ]
    },
    {
     "name": "stderr",
     "output_type": "stream",
     "text": [
      "C:\\Users\\admin\\Anaconda3\\envs\\UEX\\lib\\site-packages\\sklearn_rvm\\em_rvm.py:675: FutureWarning: The default value of gamma will change from 'auto' to 'scale' in version 0.22 to account better for unscaled features. Set gamma explicitly to 'auto' or 'scale' to avoid this warning.\n",
      "  warnings.warn(\"The default value of gamma will change \"\n",
      "C:\\Users\\admin\\Anaconda3\\envs\\UEX\\lib\\site-packages\\sklearn_rvm\\em_rvm.py:675: FutureWarning: The default value of gamma will change from 'auto' to 'scale' in version 0.22 to account better for unscaled features. Set gamma explicitly to 'auto' or 'scale' to avoid this warning.\n",
      "  warnings.warn(\"The default value of gamma will change \"\n",
      "C:\\Users\\admin\\Anaconda3\\envs\\UEX\\lib\\site-packages\\sklearn_rvm\\em_rvm.py:675: FutureWarning: The default value of gamma will change from 'auto' to 'scale' in version 0.22 to account better for unscaled features. Set gamma explicitly to 'auto' or 'scale' to avoid this warning.\n",
      "  warnings.warn(\"The default value of gamma will change \"\n",
      "C:\\Users\\admin\\Anaconda3\\envs\\UEX\\lib\\site-packages\\sklearn_rvm\\em_rvm.py:675: FutureWarning: The default value of gamma will change from 'auto' to 'scale' in version 0.22 to account better for unscaled features. Set gamma explicitly to 'auto' or 'scale' to avoid this warning.\n",
      "  warnings.warn(\"The default value of gamma will change \"\n",
      "C:\\Users\\admin\\Anaconda3\\envs\\UEX\\lib\\site-packages\\sklearn_rvm\\em_rvm.py:581: RuntimeWarning: divide by zero encountered in log\n",
      "  np.sum(np.log(1 - y[t == 0]), 0))\n"
     ]
    },
    {
     "name": "stdout",
     "output_type": "stream",
     "text": [
      "当前折训练集准确率： 0.9255813953488372\n",
      "当前折测试集准确率： 0.425531914893617\n"
     ]
    },
    {
     "name": "stderr",
     "output_type": "stream",
     "text": [
      "C:\\Users\\admin\\Anaconda3\\envs\\UEX\\lib\\site-packages\\sklearn_rvm\\em_rvm.py:675: FutureWarning: The default value of gamma will change from 'auto' to 'scale' in version 0.22 to account better for unscaled features. Set gamma explicitly to 'auto' or 'scale' to avoid this warning.\n",
      "  warnings.warn(\"The default value of gamma will change \"\n",
      "C:\\Users\\admin\\Anaconda3\\envs\\UEX\\lib\\site-packages\\sklearn_rvm\\em_rvm.py:675: FutureWarning: The default value of gamma will change from 'auto' to 'scale' in version 0.22 to account better for unscaled features. Set gamma explicitly to 'auto' or 'scale' to avoid this warning.\n",
      "  warnings.warn(\"The default value of gamma will change \"\n",
      "C:\\Users\\admin\\Anaconda3\\envs\\UEX\\lib\\site-packages\\sklearn_rvm\\em_rvm.py:675: FutureWarning: The default value of gamma will change from 'auto' to 'scale' in version 0.22 to account better for unscaled features. Set gamma explicitly to 'auto' or 'scale' to avoid this warning.\n",
      "  warnings.warn(\"The default value of gamma will change \"\n",
      "C:\\Users\\admin\\Anaconda3\\envs\\UEX\\lib\\site-packages\\sklearn_rvm\\em_rvm.py:675: FutureWarning: The default value of gamma will change from 'auto' to 'scale' in version 0.22 to account better for unscaled features. Set gamma explicitly to 'auto' or 'scale' to avoid this warning.\n",
      "  warnings.warn(\"The default value of gamma will change \"\n"
     ]
    },
    {
     "name": "stdout",
     "output_type": "stream",
     "text": [
      "当前折训练集准确率： 0.9162790697674419\n",
      "当前折测试集准确率： 0.3191489361702128\n",
      "Method: RVM  Clf_num: 3\n",
      "训练集准确率： 0.905184040765436\n",
      "测试集准确率： 0.45656028368794327\n",
      "精确率： 0.45068596598321253\n",
      "召回率： 0.45656028368794327\n",
      "F1得分： 0.4463547075423123\n",
      "类别1样本数量： 511 类别1文件数量： 511\n",
      "类别2样本数量： 202 类别2文件数量： 202\n",
      "类别3样本数量： 104 类别3文件数量： 104\n",
      "类别4样本数量： 159 类别4文件数量： 159\n"
     ]
    },
    {
     "name": "stderr",
     "output_type": "stream",
     "text": [
      "C:\\Users\\admin\\Anaconda3\\envs\\UEX\\lib\\site-packages\\sklearn_rvm\\em_rvm.py:675: FutureWarning: The default value of gamma will change from 'auto' to 'scale' in version 0.22 to account better for unscaled features. Set gamma explicitly to 'auto' or 'scale' to avoid this warning.\n",
      "  warnings.warn(\"The default value of gamma will change \"\n",
      "C:\\Users\\admin\\Anaconda3\\envs\\UEX\\lib\\site-packages\\sklearn_rvm\\em_rvm.py:675: FutureWarning: The default value of gamma will change from 'auto' to 'scale' in version 0.22 to account better for unscaled features. Set gamma explicitly to 'auto' or 'scale' to avoid this warning.\n",
      "  warnings.warn(\"The default value of gamma will change \"\n",
      "C:\\Users\\admin\\Anaconda3\\envs\\UEX\\lib\\site-packages\\sklearn_rvm\\em_rvm.py:675: FutureWarning: The default value of gamma will change from 'auto' to 'scale' in version 0.22 to account better for unscaled features. Set gamma explicitly to 'auto' or 'scale' to avoid this warning.\n",
      "  warnings.warn(\"The default value of gamma will change \"\n",
      "C:\\Users\\admin\\Anaconda3\\envs\\UEX\\lib\\site-packages\\sklearn_rvm\\em_rvm.py:675: FutureWarning: The default value of gamma will change from 'auto' to 'scale' in version 0.22 to account better for unscaled features. Set gamma explicitly to 'auto' or 'scale' to avoid this warning.\n",
      "  warnings.warn(\"The default value of gamma will change \"\n",
      "C:\\Users\\admin\\Anaconda3\\envs\\UEX\\lib\\site-packages\\sklearn_rvm\\em_rvm.py:675: FutureWarning: The default value of gamma will change from 'auto' to 'scale' in version 0.22 to account better for unscaled features. Set gamma explicitly to 'auto' or 'scale' to avoid this warning.\n",
      "  warnings.warn(\"The default value of gamma will change \"\n"
     ]
    },
    {
     "name": "stdout",
     "output_type": "stream",
     "text": [
      "当前折训练集准确率： 0.9358288770053476\n",
      "当前折测试集准确率： 0.6428571428571429\n"
     ]
    },
    {
     "name": "stderr",
     "output_type": "stream",
     "text": [
      "C:\\Users\\admin\\Anaconda3\\envs\\UEX\\lib\\site-packages\\sklearn_rvm\\em_rvm.py:675: FutureWarning: The default value of gamma will change from 'auto' to 'scale' in version 0.22 to account better for unscaled features. Set gamma explicitly to 'auto' or 'scale' to avoid this warning.\n",
      "  warnings.warn(\"The default value of gamma will change \"\n",
      "C:\\Users\\admin\\Anaconda3\\envs\\UEX\\lib\\site-packages\\sklearn_rvm\\em_rvm.py:675: FutureWarning: The default value of gamma will change from 'auto' to 'scale' in version 0.22 to account better for unscaled features. Set gamma explicitly to 'auto' or 'scale' to avoid this warning.\n",
      "  warnings.warn(\"The default value of gamma will change \"\n",
      "C:\\Users\\admin\\Anaconda3\\envs\\UEX\\lib\\site-packages\\sklearn_rvm\\em_rvm.py:675: FutureWarning: The default value of gamma will change from 'auto' to 'scale' in version 0.22 to account better for unscaled features. Set gamma explicitly to 'auto' or 'scale' to avoid this warning.\n",
      "  warnings.warn(\"The default value of gamma will change \"\n",
      "C:\\Users\\admin\\Anaconda3\\envs\\UEX\\lib\\site-packages\\sklearn_rvm\\em_rvm.py:675: FutureWarning: The default value of gamma will change from 'auto' to 'scale' in version 0.22 to account better for unscaled features. Set gamma explicitly to 'auto' or 'scale' to avoid this warning.\n",
      "  warnings.warn(\"The default value of gamma will change \"\n",
      "C:\\Users\\admin\\Anaconda3\\envs\\UEX\\lib\\site-packages\\sklearn_rvm\\em_rvm.py:675: FutureWarning: The default value of gamma will change from 'auto' to 'scale' in version 0.22 to account better for unscaled features. Set gamma explicitly to 'auto' or 'scale' to avoid this warning.\n",
      "  warnings.warn(\"The default value of gamma will change \"\n"
     ]
    },
    {
     "name": "stdout",
     "output_type": "stream",
     "text": [
      "当前折训练集准确率： 0.9358288770053476\n",
      "当前折测试集准确率： 0.5238095238095238\n"
     ]
    },
    {
     "name": "stderr",
     "output_type": "stream",
     "text": [
      "C:\\Users\\admin\\Anaconda3\\envs\\UEX\\lib\\site-packages\\sklearn_rvm\\em_rvm.py:675: FutureWarning: The default value of gamma will change from 'auto' to 'scale' in version 0.22 to account better for unscaled features. Set gamma explicitly to 'auto' or 'scale' to avoid this warning.\n",
      "  warnings.warn(\"The default value of gamma will change \"\n",
      "C:\\Users\\admin\\Anaconda3\\envs\\UEX\\lib\\site-packages\\sklearn_rvm\\em_rvm.py:675: FutureWarning: The default value of gamma will change from 'auto' to 'scale' in version 0.22 to account better for unscaled features. Set gamma explicitly to 'auto' or 'scale' to avoid this warning.\n",
      "  warnings.warn(\"The default value of gamma will change \"\n",
      "C:\\Users\\admin\\Anaconda3\\envs\\UEX\\lib\\site-packages\\sklearn_rvm\\em_rvm.py:675: FutureWarning: The default value of gamma will change from 'auto' to 'scale' in version 0.22 to account better for unscaled features. Set gamma explicitly to 'auto' or 'scale' to avoid this warning.\n",
      "  warnings.warn(\"The default value of gamma will change \"\n",
      "C:\\Users\\admin\\Anaconda3\\envs\\UEX\\lib\\site-packages\\sklearn_rvm\\em_rvm.py:675: FutureWarning: The default value of gamma will change from 'auto' to 'scale' in version 0.22 to account better for unscaled features. Set gamma explicitly to 'auto' or 'scale' to avoid this warning.\n",
      "  warnings.warn(\"The default value of gamma will change \"\n",
      "C:\\Users\\admin\\Anaconda3\\envs\\UEX\\lib\\site-packages\\sklearn_rvm\\em_rvm.py:675: FutureWarning: The default value of gamma will change from 'auto' to 'scale' in version 0.22 to account better for unscaled features. Set gamma explicitly to 'auto' or 'scale' to avoid this warning.\n",
      "  warnings.warn(\"The default value of gamma will change \"\n"
     ]
    },
    {
     "name": "stdout",
     "output_type": "stream",
     "text": [
      "当前折训练集准确率： 0.9385026737967914\n",
      "当前折测试集准确率： 0.38095238095238093\n"
     ]
    },
    {
     "name": "stderr",
     "output_type": "stream",
     "text": [
      "C:\\Users\\admin\\Anaconda3\\envs\\UEX\\lib\\site-packages\\sklearn_rvm\\em_rvm.py:675: FutureWarning: The default value of gamma will change from 'auto' to 'scale' in version 0.22 to account better for unscaled features. Set gamma explicitly to 'auto' or 'scale' to avoid this warning.\n",
      "  warnings.warn(\"The default value of gamma will change \"\n",
      "C:\\Users\\admin\\Anaconda3\\envs\\UEX\\lib\\site-packages\\sklearn_rvm\\em_rvm.py:675: FutureWarning: The default value of gamma will change from 'auto' to 'scale' in version 0.22 to account better for unscaled features. Set gamma explicitly to 'auto' or 'scale' to avoid this warning.\n",
      "  warnings.warn(\"The default value of gamma will change \"\n",
      "C:\\Users\\admin\\Anaconda3\\envs\\UEX\\lib\\site-packages\\sklearn_rvm\\em_rvm.py:675: FutureWarning: The default value of gamma will change from 'auto' to 'scale' in version 0.22 to account better for unscaled features. Set gamma explicitly to 'auto' or 'scale' to avoid this warning.\n",
      "  warnings.warn(\"The default value of gamma will change \"\n",
      "C:\\Users\\admin\\Anaconda3\\envs\\UEX\\lib\\site-packages\\sklearn_rvm\\em_rvm.py:675: FutureWarning: The default value of gamma will change from 'auto' to 'scale' in version 0.22 to account better for unscaled features. Set gamma explicitly to 'auto' or 'scale' to avoid this warning.\n",
      "  warnings.warn(\"The default value of gamma will change \"\n",
      "C:\\Users\\admin\\Anaconda3\\envs\\UEX\\lib\\site-packages\\sklearn_rvm\\em_rvm.py:675: FutureWarning: The default value of gamma will change from 'auto' to 'scale' in version 0.22 to account better for unscaled features. Set gamma explicitly to 'auto' or 'scale' to avoid this warning.\n",
      "  warnings.warn(\"The default value of gamma will change \"\n"
     ]
    },
    {
     "name": "stdout",
     "output_type": "stream",
     "text": [
      "当前折训练集准确率： 0.9037433155080213\n",
      "当前折测试集准确率： 0.6428571428571429\n"
     ]
    },
    {
     "name": "stderr",
     "output_type": "stream",
     "text": [
      "C:\\Users\\admin\\Anaconda3\\envs\\UEX\\lib\\site-packages\\sklearn_rvm\\em_rvm.py:675: FutureWarning: The default value of gamma will change from 'auto' to 'scale' in version 0.22 to account better for unscaled features. Set gamma explicitly to 'auto' or 'scale' to avoid this warning.\n",
      "  warnings.warn(\"The default value of gamma will change \"\n",
      "C:\\Users\\admin\\Anaconda3\\envs\\UEX\\lib\\site-packages\\sklearn_rvm\\em_rvm.py:675: FutureWarning: The default value of gamma will change from 'auto' to 'scale' in version 0.22 to account better for unscaled features. Set gamma explicitly to 'auto' or 'scale' to avoid this warning.\n",
      "  warnings.warn(\"The default value of gamma will change \"\n",
      "C:\\Users\\admin\\Anaconda3\\envs\\UEX\\lib\\site-packages\\sklearn_rvm\\em_rvm.py:675: FutureWarning: The default value of gamma will change from 'auto' to 'scale' in version 0.22 to account better for unscaled features. Set gamma explicitly to 'auto' or 'scale' to avoid this warning.\n",
      "  warnings.warn(\"The default value of gamma will change \"\n",
      "C:\\Users\\admin\\Anaconda3\\envs\\UEX\\lib\\site-packages\\sklearn_rvm\\em_rvm.py:675: FutureWarning: The default value of gamma will change from 'auto' to 'scale' in version 0.22 to account better for unscaled features. Set gamma explicitly to 'auto' or 'scale' to avoid this warning.\n",
      "  warnings.warn(\"The default value of gamma will change \"\n",
      "C:\\Users\\admin\\Anaconda3\\envs\\UEX\\lib\\site-packages\\sklearn_rvm\\em_rvm.py:675: FutureWarning: The default value of gamma will change from 'auto' to 'scale' in version 0.22 to account better for unscaled features. Set gamma explicitly to 'auto' or 'scale' to avoid this warning.\n",
      "  warnings.warn(\"The default value of gamma will change \"\n"
     ]
    },
    {
     "name": "stdout",
     "output_type": "stream",
     "text": [
      "当前折训练集准确率： 0.9224598930481284\n",
      "当前折测试集准确率： 0.5952380952380952\n"
     ]
    },
    {
     "name": "stderr",
     "output_type": "stream",
     "text": [
      "C:\\Users\\admin\\Anaconda3\\envs\\UEX\\lib\\site-packages\\sklearn_rvm\\em_rvm.py:675: FutureWarning: The default value of gamma will change from 'auto' to 'scale' in version 0.22 to account better for unscaled features. Set gamma explicitly to 'auto' or 'scale' to avoid this warning.\n",
      "  warnings.warn(\"The default value of gamma will change \"\n",
      "C:\\Users\\admin\\Anaconda3\\envs\\UEX\\lib\\site-packages\\sklearn_rvm\\em_rvm.py:675: FutureWarning: The default value of gamma will change from 'auto' to 'scale' in version 0.22 to account better for unscaled features. Set gamma explicitly to 'auto' or 'scale' to avoid this warning.\n",
      "  warnings.warn(\"The default value of gamma will change \"\n",
      "C:\\Users\\admin\\Anaconda3\\envs\\UEX\\lib\\site-packages\\sklearn_rvm\\em_rvm.py:675: FutureWarning: The default value of gamma will change from 'auto' to 'scale' in version 0.22 to account better for unscaled features. Set gamma explicitly to 'auto' or 'scale' to avoid this warning.\n",
      "  warnings.warn(\"The default value of gamma will change \"\n",
      "C:\\Users\\admin\\Anaconda3\\envs\\UEX\\lib\\site-packages\\sklearn_rvm\\em_rvm.py:675: FutureWarning: The default value of gamma will change from 'auto' to 'scale' in version 0.22 to account better for unscaled features. Set gamma explicitly to 'auto' or 'scale' to avoid this warning.\n",
      "  warnings.warn(\"The default value of gamma will change \"\n",
      "C:\\Users\\admin\\Anaconda3\\envs\\UEX\\lib\\site-packages\\sklearn_rvm\\em_rvm.py:675: FutureWarning: The default value of gamma will change from 'auto' to 'scale' in version 0.22 to account better for unscaled features. Set gamma explicitly to 'auto' or 'scale' to avoid this warning.\n",
      "  warnings.warn(\"The default value of gamma will change \"\n"
     ]
    },
    {
     "name": "stdout",
     "output_type": "stream",
     "text": [
      "当前折训练集准确率： 0.8983957219251337\n",
      "当前折测试集准确率： 0.42857142857142855\n"
     ]
    },
    {
     "name": "stderr",
     "output_type": "stream",
     "text": [
      "C:\\Users\\admin\\Anaconda3\\envs\\UEX\\lib\\site-packages\\sklearn_rvm\\em_rvm.py:675: FutureWarning: The default value of gamma will change from 'auto' to 'scale' in version 0.22 to account better for unscaled features. Set gamma explicitly to 'auto' or 'scale' to avoid this warning.\n",
      "  warnings.warn(\"The default value of gamma will change \"\n",
      "C:\\Users\\admin\\Anaconda3\\envs\\UEX\\lib\\site-packages\\sklearn_rvm\\em_rvm.py:675: FutureWarning: The default value of gamma will change from 'auto' to 'scale' in version 0.22 to account better for unscaled features. Set gamma explicitly to 'auto' or 'scale' to avoid this warning.\n",
      "  warnings.warn(\"The default value of gamma will change \"\n",
      "C:\\Users\\admin\\Anaconda3\\envs\\UEX\\lib\\site-packages\\sklearn_rvm\\em_rvm.py:675: FutureWarning: The default value of gamma will change from 'auto' to 'scale' in version 0.22 to account better for unscaled features. Set gamma explicitly to 'auto' or 'scale' to avoid this warning.\n",
      "  warnings.warn(\"The default value of gamma will change \"\n",
      "C:\\Users\\admin\\Anaconda3\\envs\\UEX\\lib\\site-packages\\sklearn_rvm\\em_rvm.py:675: FutureWarning: The default value of gamma will change from 'auto' to 'scale' in version 0.22 to account better for unscaled features. Set gamma explicitly to 'auto' or 'scale' to avoid this warning.\n",
      "  warnings.warn(\"The default value of gamma will change \"\n",
      "C:\\Users\\admin\\Anaconda3\\envs\\UEX\\lib\\site-packages\\sklearn_rvm\\em_rvm.py:675: FutureWarning: The default value of gamma will change from 'auto' to 'scale' in version 0.22 to account better for unscaled features. Set gamma explicitly to 'auto' or 'scale' to avoid this warning.\n",
      "  warnings.warn(\"The default value of gamma will change \"\n"
     ]
    },
    {
     "name": "stdout",
     "output_type": "stream",
     "text": [
      "当前折训练集准确率： 0.9306666666666666\n",
      "当前折测试集准确率： 0.2926829268292683\n"
     ]
    },
    {
     "name": "stderr",
     "output_type": "stream",
     "text": [
      "C:\\Users\\admin\\Anaconda3\\envs\\UEX\\lib\\site-packages\\sklearn_rvm\\em_rvm.py:675: FutureWarning: The default value of gamma will change from 'auto' to 'scale' in version 0.22 to account better for unscaled features. Set gamma explicitly to 'auto' or 'scale' to avoid this warning.\n",
      "  warnings.warn(\"The default value of gamma will change \"\n",
      "C:\\Users\\admin\\Anaconda3\\envs\\UEX\\lib\\site-packages\\sklearn_rvm\\em_rvm.py:675: FutureWarning: The default value of gamma will change from 'auto' to 'scale' in version 0.22 to account better for unscaled features. Set gamma explicitly to 'auto' or 'scale' to avoid this warning.\n",
      "  warnings.warn(\"The default value of gamma will change \"\n",
      "C:\\Users\\admin\\Anaconda3\\envs\\UEX\\lib\\site-packages\\sklearn_rvm\\em_rvm.py:675: FutureWarning: The default value of gamma will change from 'auto' to 'scale' in version 0.22 to account better for unscaled features. Set gamma explicitly to 'auto' or 'scale' to avoid this warning.\n",
      "  warnings.warn(\"The default value of gamma will change \"\n",
      "C:\\Users\\admin\\Anaconda3\\envs\\UEX\\lib\\site-packages\\sklearn_rvm\\em_rvm.py:675: FutureWarning: The default value of gamma will change from 'auto' to 'scale' in version 0.22 to account better for unscaled features. Set gamma explicitly to 'auto' or 'scale' to avoid this warning.\n",
      "  warnings.warn(\"The default value of gamma will change \"\n",
      "C:\\Users\\admin\\Anaconda3\\envs\\UEX\\lib\\site-packages\\sklearn_rvm\\em_rvm.py:675: FutureWarning: The default value of gamma will change from 'auto' to 'scale' in version 0.22 to account better for unscaled features. Set gamma explicitly to 'auto' or 'scale' to avoid this warning.\n",
      "  warnings.warn(\"The default value of gamma will change \"\n"
     ]
    },
    {
     "name": "stdout",
     "output_type": "stream",
     "text": [
      "当前折训练集准确率： 0.936\n",
      "当前折测试集准确率： 0.5121951219512195\n"
     ]
    },
    {
     "name": "stderr",
     "output_type": "stream",
     "text": [
      "C:\\Users\\admin\\Anaconda3\\envs\\UEX\\lib\\site-packages\\sklearn_rvm\\em_rvm.py:675: FutureWarning: The default value of gamma will change from 'auto' to 'scale' in version 0.22 to account better for unscaled features. Set gamma explicitly to 'auto' or 'scale' to avoid this warning.\n",
      "  warnings.warn(\"The default value of gamma will change \"\n",
      "C:\\Users\\admin\\Anaconda3\\envs\\UEX\\lib\\site-packages\\sklearn_rvm\\em_rvm.py:675: FutureWarning: The default value of gamma will change from 'auto' to 'scale' in version 0.22 to account better for unscaled features. Set gamma explicitly to 'auto' or 'scale' to avoid this warning.\n",
      "  warnings.warn(\"The default value of gamma will change \"\n",
      "C:\\Users\\admin\\Anaconda3\\envs\\UEX\\lib\\site-packages\\sklearn_rvm\\em_rvm.py:675: FutureWarning: The default value of gamma will change from 'auto' to 'scale' in version 0.22 to account better for unscaled features. Set gamma explicitly to 'auto' or 'scale' to avoid this warning.\n",
      "  warnings.warn(\"The default value of gamma will change \"\n",
      "C:\\Users\\admin\\Anaconda3\\envs\\UEX\\lib\\site-packages\\sklearn_rvm\\em_rvm.py:675: FutureWarning: The default value of gamma will change from 'auto' to 'scale' in version 0.22 to account better for unscaled features. Set gamma explicitly to 'auto' or 'scale' to avoid this warning.\n",
      "  warnings.warn(\"The default value of gamma will change \"\n",
      "C:\\Users\\admin\\Anaconda3\\envs\\UEX\\lib\\site-packages\\sklearn_rvm\\em_rvm.py:675: FutureWarning: The default value of gamma will change from 'auto' to 'scale' in version 0.22 to account better for unscaled features. Set gamma explicitly to 'auto' or 'scale' to avoid this warning.\n",
      "  warnings.warn(\"The default value of gamma will change \"\n"
     ]
    },
    {
     "name": "stdout",
     "output_type": "stream",
     "text": [
      "当前折训练集准确率： 0.9226666666666666\n",
      "当前折测试集准确率： 0.5609756097560976\n"
     ]
    },
    {
     "name": "stderr",
     "output_type": "stream",
     "text": [
      "C:\\Users\\admin\\Anaconda3\\envs\\UEX\\lib\\site-packages\\sklearn_rvm\\em_rvm.py:675: FutureWarning: The default value of gamma will change from 'auto' to 'scale' in version 0.22 to account better for unscaled features. Set gamma explicitly to 'auto' or 'scale' to avoid this warning.\n",
      "  warnings.warn(\"The default value of gamma will change \"\n",
      "C:\\Users\\admin\\Anaconda3\\envs\\UEX\\lib\\site-packages\\sklearn_rvm\\em_rvm.py:675: FutureWarning: The default value of gamma will change from 'auto' to 'scale' in version 0.22 to account better for unscaled features. Set gamma explicitly to 'auto' or 'scale' to avoid this warning.\n",
      "  warnings.warn(\"The default value of gamma will change \"\n",
      "C:\\Users\\admin\\Anaconda3\\envs\\UEX\\lib\\site-packages\\sklearn_rvm\\em_rvm.py:675: FutureWarning: The default value of gamma will change from 'auto' to 'scale' in version 0.22 to account better for unscaled features. Set gamma explicitly to 'auto' or 'scale' to avoid this warning.\n",
      "  warnings.warn(\"The default value of gamma will change \"\n",
      "C:\\Users\\admin\\Anaconda3\\envs\\UEX\\lib\\site-packages\\sklearn_rvm\\em_rvm.py:675: FutureWarning: The default value of gamma will change from 'auto' to 'scale' in version 0.22 to account better for unscaled features. Set gamma explicitly to 'auto' or 'scale' to avoid this warning.\n",
      "  warnings.warn(\"The default value of gamma will change \"\n",
      "C:\\Users\\admin\\Anaconda3\\envs\\UEX\\lib\\site-packages\\sklearn_rvm\\em_rvm.py:675: FutureWarning: The default value of gamma will change from 'auto' to 'scale' in version 0.22 to account better for unscaled features. Set gamma explicitly to 'auto' or 'scale' to avoid this warning.\n",
      "  warnings.warn(\"The default value of gamma will change \"\n"
     ]
    },
    {
     "name": "stdout",
     "output_type": "stream",
     "text": [
      "当前折训练集准确率： 0.936\n",
      "当前折测试集准确率： 0.5365853658536586\n",
      "Method: RVM  Clf_num: 4\n",
      "训练集准确率： 0.9260092691622104\n",
      "测试集准确率： 0.511672473867596\n",
      "精确率： 0.511203873797515\n",
      "召回率： 0.511672473867596\n",
      "F1得分： 0.5041998919311306\n"
     ]
    }
   ],
   "source": [
    "cls_num = [2,3,4]\n",
    "methods = [\"RVM\"]\n",
    "for num in cls_num:\n",
    "    for method in methods:\n",
    "        train_supplement(num,method)"
   ]
  },
  {
   "cell_type": "code",
   "execution_count": 27,
   "metadata": {},
   "outputs": [],
   "source": [
    "\"\"\"划分数据集并利用DT决策树训练\"\"\"\n",
    "def train_dt(clf_num):\n",
    "    feature_sample, filename_sample = read_bow()\n",
    "    print(\"类别1样本数量：\",len(feature_sample[0]),\"类别1文件数量：\",len(filename_sample[0]))\n",
    "    print(\"类别2样本数量：\",len(feature_sample[1]),\"类别2文件数量：\",len(filename_sample[1]))\n",
    "    print(\"类别3样本数量：\",len(feature_sample[2]),\"类别3文件数量：\",len(filename_sample[2]))\n",
    "    print(\"类别4样本数量：\",len(feature_sample[3]),\"类别4文件数量：\",len(filename_sample[3]))\n",
    "    \n",
    "    # 选择随机种子\n",
    "    random.seed(0)\n",
    "    if clf_num == 2:\n",
    "        # 二分类\n",
    "        feature_sample_array = sample(feature_sample[0],361)+feature_sample[1]+feature_sample[3]\n",
    "        label_array = [0]*len(sample(feature_sample[0],361))+[1]*len(feature_sample[1]+feature_sample[3])\n",
    "        filename_sample_array = sample(filename_sample[0],361)+filename_sample[1]+filename_sample[3]\n",
    "    elif clf_num == 3:\n",
    "        # 三分类\n",
    "        feature_sample_array = sample(feature_sample[0],159)+sample(feature_sample[1],159)+feature_sample[3]\n",
    "        label_array = [0]*len(sample(feature_sample[0],159))+[1]*len(sample(feature_sample[1],159))+[2]*len(feature_sample[3])\n",
    "        filename_sample_array = sample(filename_sample[0],159)+sample(filename_sample[1],159)+filename_sample[3]\n",
    "    elif clf_num == 4:\n",
    "        # 四分类\n",
    "        feature_sample_array = sample(feature_sample[0],104)+sample(feature_sample[1],104)+feature_sample[2]+sample(feature_sample[3],104)\n",
    "        label_array = [0]*len(sample(feature_sample[0],104))+[1]*len(sample(feature_sample[1],104))+[2]*len(feature_sample[2])+[3]*len(sample(feature_sample[3],104))\n",
    "        filename_sample_array = sample(filename_sample[0],104)+sample(filename_sample[1],104)+filename_sample[2]+sample(filename_sample[3],104)\n",
    "    \n",
    "    # 分层k折交叉验证\n",
    "    skf = StratifiedKFold(n_splits=10)\n",
    "    # 储存每一轮的结果\n",
    "    train_score_list = []\n",
    "    test_score_list = []\n",
    "    precision_score_list = []\n",
    "    recall_score_list = []\n",
    "    f1_score_list = []\n",
    "    feature_sample_array = preprocessing.scale(feature_sample_array)   # processing预处理\n",
    "    for train, test in skf.split(feature_sample_array,label_array):\n",
    "        train_data = np.array(feature_sample_array)[train,:]   # 划分好的训练集\n",
    "        train_label = np.array(label_array)[train]\n",
    "        test_data = np.array(feature_sample_array)[test,:]   # 划分好的测试集\n",
    "        test_label = np.array(label_array)[test]\n",
    "        \n",
    "        clf = DecisionTreeClassifier(random_state=0,max_depth=3)\n",
    "        clf.fit(train_data,train_label)\n",
    "        \n",
    "        # 采用混淆矩阵计算各种评价指标\n",
    "        predicted_train_label = clf.predict(train_data)\n",
    "        predicted_test_label = clf.predict(test_data)\n",
    "#         print(\"当前折训练集准确率：\",metrics.accuracy_score(train_label,predicted_train_label))\n",
    "        train_score_list.append(metrics.accuracy_score(train_label,predicted_train_label))\n",
    "#         print(\"当前折测试集准确率：\",metrics.accuracy_score(test_label,predicted_test_label))\n",
    "        test_score_list.append(metrics.accuracy_score(test_label,predicted_test_label))\n",
    "#         print(\"当前折精准值：\",metrics.precision_score(test_label,predicted_test_label,average='weighted'))\n",
    "        precision_score_list.append(metrics.precision_score(test_label,predicted_test_label,average='weighted'))\n",
    "#         print(\"当前折召回率：\",metrics.recall_score(test_label,predicted_test_label,average='weighted'))\n",
    "        recall_score_list.append(metrics.recall_score(test_label,predicted_test_label,average='weighted'))\n",
    "#         print(\"当前折F1：\",metrics.f1_score(test_label,predicted_test_label,average='weighted'))\n",
    "        f1_score_list.append(metrics.f1_score(test_label,predicted_test_label,average='weighted'))\n",
    "#         print(\"Done!*****************************************************\")\n",
    "       \n",
    "    print(\"Clf_num: \",clf_num)\n",
    "    print(\"训练集准确率：\",np.array(train_score_list).mean())\n",
    "    print(\"测试集准确率：\",np.array(test_score_list).mean())\n",
    "    print(\"精确率：\",np.array(precision_score_list).mean())\n",
    "    print(\"召回率：\",np.array(recall_score_list).mean())\n",
    "    print(\"F1得分：\",np.array(f1_score_list).mean())"
   ]
  },
  {
   "cell_type": "code",
   "execution_count": 28,
   "metadata": {},
   "outputs": [
    {
     "name": "stdout",
     "output_type": "stream",
     "text": [
      "类别1样本数量： 511 类别1文件数量： 511\n",
      "类别2样本数量： 202 类别2文件数量： 202\n",
      "类别3样本数量： 104 类别3文件数量： 104\n",
      "类别4样本数量： 159 类别4文件数量： 159\n",
      "Clf_num:  2\n",
      "训练集准确率： 0.7654649757022639\n",
      "测试集准确率： 0.7007039573820395\n",
      "精确率： 0.7094540395451617\n",
      "召回率： 0.7007039573820395\n",
      "F1得分： 0.6974011584342602\n",
      "类别1样本数量： 511 类别1文件数量： 511\n",
      "类别2样本数量： 202 类别2文件数量： 202\n",
      "类别3样本数量： 104 类别3文件数量： 104\n",
      "类别4样本数量： 159 类别4文件数量： 159\n",
      "Clf_num:  3\n",
      "训练集准确率： 0.5886322979346236\n",
      "测试集准确率： 0.45487588652482264\n",
      "精确率： 0.41436686944965617\n",
      "召回率： 0.45487588652482264\n",
      "F1得分： 0.40201025761263126\n",
      "类别1样本数量： 511 类别1文件数量： 511\n",
      "类别2样本数量： 202 类别2文件数量： 202\n",
      "类别3样本数量： 104 类别3文件数量： 104\n",
      "类别4样本数量： 159 类别4文件数量： 159\n",
      "Clf_num:  4\n",
      "训练集准确率： 0.5998837789661319\n",
      "测试集准确率： 0.518583042973287\n",
      "精确率： 0.5425090272020141\n",
      "召回率： 0.518583042973287\n",
      "F1得分： 0.5019185454348859\n"
     ]
    },
    {
     "name": "stderr",
     "output_type": "stream",
     "text": [
      "C:\\Users\\admin\\Anaconda3\\envs\\UEX\\lib\\site-packages\\sklearn\\metrics\\_classification.py:1318: UndefinedMetricWarning: Precision is ill-defined and being set to 0.0 in labels with no predicted samples. Use `zero_division` parameter to control this behavior.\n",
      "  _warn_prf(average, modifier, msg_start, len(result))\n"
     ]
    }
   ],
   "source": [
    "\"\"\"进行2，3，4分类，并利用dt为分类器做对比实验\"\"\"\n",
    "cls_num = [2,3,4]\n",
    "for num in cls_num:\n",
    "    train_dt(num)"
   ]
  },
  {
   "cell_type": "code",
   "execution_count": 13,
   "metadata": {},
   "outputs": [],
   "source": [
    "import torch\n",
    "import torch.nn as nn\n",
    "import torch.nn.functional as F\n",
    "from torch.utils import data\n",
    "from torch.autograd import Variable\n",
    "import random\n",
    "\n",
    "\"\"\"分类器参数初始化\"\"\"\n",
    "def init_weights(m):\n",
    "    if type(m) == nn.Linear:\n",
    "        nn.init.normal_(m.weight,std=0.01)\n",
    "        \n",
    "\"\"\"构建数据迭代器\"\"\"\n",
    "def load_array(data_arrays, batch_size, is_train=True):\n",
    "    dataset = data.TensorDataset(*data_arrays)\n",
    "    return data.DataLoader(dataset,batch_size,shuffle=is_train)\n",
    "\n",
    "\"\"\"训练过程\"\"\"\n",
    "def train_process(net,updater,loss,features,labels,batch_size,num_epochs):\n",
    "    data_iter = load_array((features,labels),batch_size)\n",
    "    train_acc_list = []\n",
    "    for epoch in range(num_epochs):\n",
    "        running_corrects = 0\n",
    "        for X,y in data_iter:\n",
    "            X = Variable(X,requires_grad=True)\n",
    "            y = Variable(y)\n",
    "            outputs = net(X)\n",
    "            l = loss(outputs,y)\n",
    "            \n",
    "            y_hat = F.softmax(outputs,dim=1).argmax(axis=1)\n",
    "            label = y.argmax(axis=1)\n",
    "            updater.zero_grad()\n",
    "            l.mean().backward()\n",
    "            updater.step()\n",
    "            \n",
    "            # 记录每隔batch的准确率\n",
    "            running_corrects += torch.sum(y_hat==label.data)\n",
    "        train_acc = running_corrects.double() / labels.shape[0]\n",
    "#         print(\"epoch {}\".format(epoch+1),\" train_acc {}\".format(train_acc))\n",
    "        train_acc_list.append(train_acc)\n",
    "    return train_acc_list\n",
    "#     print(\"训练完成\")\n",
    "\n",
    "\"\"\"测试过程\"\"\"\n",
    "def test_process(net,features,labels):\n",
    "    y_hat = F.softmax(net(features),dim=1).argmax(axis=1)\n",
    "    y = labels.argmax(axis=1)\n",
    "    count = 0\n",
    "    sample =0 \n",
    "    for i, j in zip(y_hat,y):\n",
    "        sample += 1\n",
    "        if int(i) == int(j):\n",
    "            count+=1\n",
    "    accuracy = count / sample\n",
    "    return list(y_hat), accuracy"
   ]
  },
  {
   "cell_type": "code",
   "execution_count": 16,
   "metadata": {},
   "outputs": [],
   "source": [
    "def train_fc(clf_num):\n",
    "    feature_sample = read_bow()\n",
    "    print(\"类别1样本数量：\",len(feature_sample[0]))\n",
    "    print(\"类别2样本数量：\",len(feature_sample[1]))\n",
    "    print(\"类别3样本数量：\",len(feature_sample[2]))\n",
    "    print(\"类别4样本数量：\",len(feature_sample[3]))\n",
    "    # 对样本数据集进行k折划分\n",
    "    # 选择随机种子\n",
    "    random.seed(0)\n",
    "    if clf_num == 2:\n",
    "        # 二分类\n",
    "        feature_sample_array = np.array(sample(feature_sample[0],361)+feature_sample[1]+feature_sample[3])\n",
    "        label_array = np.array([0]*len(sample(feature_sample[0],361))+[1]*len(feature_sample[1]+feature_sample[3]))\n",
    "    elif clf_num == 3:\n",
    "        # 三分类\n",
    "        feature_sample_array = np.array(sample(feature_sample[0],159)+sample(feature_sample[1],159)+feature_sample[3])\n",
    "        label_array = np.array([0]*len(sample(feature_sample[0],159))+[1]*len(sample(feature_sample[1],159))+[2]*len(feature_sample[3]))\n",
    "    elif clf_num == 4:\n",
    "        # 四分类\n",
    "        feature_sample_array = np.array(sample(feature_sample[0],104)+sample(feature_sample[1],104)+feature_sample[2]+sample(feature_sample[3],104))\n",
    "        label_array = np.array([0]*len(sample(feature_sample[0],104))+[1]*len(sample(feature_sample[1],104))+[2]*len(feature_sample[2])+[3]*len(sample(feature_sample[3],104)))\n",
    "    \n",
    "#     feature_sample_array = feature_sample_array[:,0:2]\n",
    "    # 选取数目特征和小波特征\n",
    "#     a = [0,2,3,4,5,6,7,8,9,10,11,12,13,14,15,16,17,18,19,20,21,22,23,24,25,26]\n",
    "#     feature_sample_array = feature_sample_array[:,a]\n",
    "    # 选取距离特征和小波特征\n",
    "#     a = [1,2,3,4,5,6,7,8,9,10,11,12,13,14,15,16,17,18,19,20,21,22,23,24,25,26]\n",
    "#     feature_sample_array = feature_sample_array[:,a]\n",
    "    print(\"总样本数据维度：\",feature_sample_array.shape)\n",
    "    print(\"总样本标签维度：\",label_array.shape)\n",
    "    \n",
    "    # 分层k折交叉验证\n",
    "    skf = StratifiedKFold(n_splits=3)\n",
    "    # 储存每一轮的结果\n",
    "    train_score_list = []\n",
    "    test_score_list = []\n",
    "    feature_sample_array = preprocessing.scale(feature_sample_array)   # processing预处理\n",
    "    for train, test in skf.split(feature_sample_array,label_array):\n",
    "        # 准备训练集\n",
    "        train_data = torch.from_numpy(feature_sample_array[train,:]).float()   # 划分好的训练集\n",
    "        train_label = torch.zeros((len(label_array[train]),clf_num))\n",
    "        for i in range(len(label_array[train])):\n",
    "            train_label[i,label_array[i]] = 1\n",
    "        train_label = train_label.float()\n",
    "        test_data = torch.from_numpy(feature_sample_array[test,:]).float()  # 划分好的测试集\n",
    "        test_label = torch.zeros((len(label_array[test]),clf_num))\n",
    "        for i in range(len(label_array[test])):\n",
    "            test_label[i,label_array[i]] = 1\n",
    "        test_label = test_label.float()\n",
    "        print(train_label.shape)\n",
    "        print(test_label.shape)\n",
    "        \n",
    "        # 准备网络，优化器等\n",
    "        num_epochs = 50\n",
    "        lr = [1,1,1]\n",
    "        batch_size = [64, 64, 64]\n",
    "        class_net = [nn.Sequential(nn.Linear(20,2),nn.ReLU()),\n",
    "                     nn.Sequential(nn.Linear(20,3),nn.ReLU()),\n",
    "                     nn.Sequential(nn.Linear(20,4),nn.ReLU())]\n",
    "        for net in class_net:\n",
    "            net.apply(init_weights)\n",
    "        loss = nn.CrossEntropyLoss(reduction='none')\n",
    "        optimizer_class = [torch.optim.SGD(class_net[0].parameters(),lr=lr[0]),\n",
    "                          torch.optim.SGD(class_net[1].parameters(),lr=lr[1]),\n",
    "                          torch.optim.SGD(class_net[2].parameters(),lr=lr[2])]\n",
    "        \n",
    "        # 利用fc线性层训练进行分类\n",
    "        train_acc_list = train_process(class_net[clf_num-2],optimizer_class[clf_num-2],loss,train_data,train_label,batch_size[clf_num-2],num_epochs)\n",
    "        # 计算训练集、测试集准确率\n",
    "#         predicted_train_label, train_acc = test_process(class_net[clf_num-2],train_data,train_label)\n",
    "        predicted_test_label, test_acc = test_process(class_net[clf_num-2],test_data,test_label)\n",
    "        \n",
    "        train_score_list.append(train_acc_list[-1])\n",
    "        test_score_list.append(test_acc)\n",
    "\n",
    "    print(\"Clf_num:\",clf_num)\n",
    "    print(train_score_list)\n",
    "    print(test_score_list)\n",
    "    print(\"训练集准确率：\",np.array(train_score_list).mean())\n",
    "    print(\"测试集准确率：\",np.array(test_score_list).mean())"
   ]
  },
  {
   "cell_type": "code",
   "execution_count": 17,
   "metadata": {},
   "outputs": [
    {
     "name": "stdout",
     "output_type": "stream",
     "text": [
      "类别1样本数量： 511\n",
      "类别2样本数量： 202\n",
      "类别3样本数量： 104\n",
      "类别4样本数量： 159\n",
      "总样本数据维度： (722, 20)\n",
      "总样本标签维度： (722,)\n",
      "torch.Size([481, 2])\n",
      "torch.Size([241, 2])\n",
      "torch.Size([481, 2])\n",
      "torch.Size([241, 2])\n",
      "torch.Size([482, 2])\n",
      "torch.Size([240, 2])\n",
      "Clf_num: 2\n",
      "[tensor(0.7505, dtype=torch.float64), tensor(0.7734, dtype=torch.float64), tensor(0.7490, dtype=torch.float64)]\n",
      "[1.0, 0.8796680497925311, 1.0]\n",
      "训练集准确率： 0.7576237265033946\n",
      "测试集准确率： 0.9598893499308437\n",
      "类别1样本数量： 511\n",
      "类别2样本数量： 202\n",
      "类别3样本数量： 104\n",
      "类别4样本数量： 159\n",
      "总样本数据维度： (477, 20)\n",
      "总样本标签维度： (477,)\n",
      "torch.Size([318, 3])\n",
      "torch.Size([159, 3])\n",
      "torch.Size([318, 3])\n",
      "torch.Size([159, 3])\n",
      "torch.Size([318, 3])\n",
      "torch.Size([159, 3])\n",
      "Clf_num: 3\n",
      "[tensor(0.6604, dtype=torch.float64), tensor(0.6824, dtype=torch.float64), tensor(0.5000, dtype=torch.float64)]\n",
      "[0.5974842767295597, 0.5094339622641509, 1.0]\n",
      "训练集准确率： 0.6142557651991614\n",
      "测试集准确率： 0.7023060796645701\n",
      "类别1样本数量： 511\n",
      "类别2样本数量： 202\n",
      "类别3样本数量： 104\n",
      "类别4样本数量： 159\n",
      "总样本数据维度： (416, 20)\n",
      "总样本标签维度： (416,)\n",
      "torch.Size([277, 4])\n",
      "torch.Size([139, 4])\n",
      "torch.Size([277, 4])\n",
      "torch.Size([139, 4])\n",
      "torch.Size([278, 4])\n",
      "torch.Size([138, 4])\n",
      "Clf_num: 4\n",
      "[tensor(0.6426, dtype=torch.float64), tensor(0.6606, dtype=torch.float64), tensor(0.3741, dtype=torch.float64)]\n",
      "[0.4460431654676259, 0.381294964028777, 0.7536231884057971]\n",
      "训练集准确率： 0.5591166056324615\n",
      "测试集准确率： 0.5269871059674\n"
     ]
    }
   ],
   "source": [
    "clf_num = [2,3,4]\n",
    "for num in clf_num:\n",
    "    train_fc(num)"
   ]
  },
  {
   "cell_type": "code",
   "execution_count": null,
   "metadata": {},
   "outputs": [],
   "source": []
  }
 ],
 "metadata": {
  "kernelspec": {
   "display_name": "Python [conda env:UEX] *",
   "language": "python",
   "name": "conda-env-UEX-py"
  },
  "language_info": {
   "codemirror_mode": {
    "name": "ipython",
    "version": 3
   },
   "file_extension": ".py",
   "mimetype": "text/x-python",
   "name": "python",
   "nbconvert_exporter": "python",
   "pygments_lexer": "ipython3",
   "version": "3.8.12"
  }
 },
 "nbformat": 4,
 "nbformat_minor": 2
}
