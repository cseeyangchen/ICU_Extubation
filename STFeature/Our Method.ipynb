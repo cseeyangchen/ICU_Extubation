{
 "cells": [
  {
   "cell_type": "code",
   "execution_count": 8,
   "metadata": {},
   "outputs": [],
   "source": [
    "import matplotlib.pyplot as plt\n",
    "from matplotlib.pyplot import MultipleLocator\n",
    "import os\n",
    "import numpy as np\n",
    "import pywt\n",
    "import math\n",
    "import cv2\n",
    "from random import sample\n",
    "import random\n",
    "from sklearn.model_selection import KFold\n",
    "from sklearn.model_selection import StratifiedKFold\n",
    "from sklearn import svm\n",
    "from sklearn.tree import DecisionTreeClassifier\n",
    "from sklearn.neighbors import KNeighborsClassifier\n",
    "from sklearn import metrics\n",
    "from sklearn import preprocessing\n",
    "from sklearn.preprocessing import label_binarize\n",
    "import seaborn as sns\n",
    "import pandas as pd\n",
    "from sklearn.manifold import TSNE"
   ]
  },
  {
   "cell_type": "code",
   "execution_count": 5,
   "metadata": {},
   "outputs": [],
   "source": [
    "\"\"\"step1:对已经分段好的视频进行特征提取并保存\"\"\"\n",
    "\"\"\"检测单张图片的角点特征坐标\"\"\"\n",
    "def detect_feature(pic):\n",
    "    feature_params = dict(maxCorners=500, qualityLevel=0.3, minDistance=7, blockSize=7)   # 参数设置\n",
    "    mask = np.zeros_like(pic)  # 初始化和视频大小相同的图像\n",
    "    mask[:] = 255  # 将mask赋值255也就是算全部图像的角点\n",
    "    tracks = []   # 用于记录该图片的角点坐标\n",
    "    p = cv2.goodFeaturesToTrack(pic,mask=mask,**feature_params)\n",
    "    if p is not None:\n",
    "        for x, y in np.float32(p).reshape(-1,2):\n",
    "            tracks.append([(x,y)])\n",
    "    return tracks\n",
    "\n",
    "\"\"\"追踪5s检测角点的轨迹坐标并保存\"\"\"\n",
    "def detect_track(video_input_path,box_coordinate_path,coordinate_path,feature_num_path):\n",
    "    lk_params = dict(winSize=(15, 15), maxLevel=2, criteria=(cv2.TERM_CRITERIA_EPS | cv2.TERM_CRITERIA_COUNT, 10, 0.03))  # 参数设置\n",
    "    video = cv2.VideoCapture(video_input_path)\n",
    "    fps = video.get(cv2.CAP_PROP_FPS)\n",
    "    track_len = 5*fps  # 每5s检测的轨迹长度\n",
    "    frame_index = 0\n",
    "    tracks = []  # 记录角点特征轨迹\n",
    "    # 打开坐标文件\n",
    "    with open(box_coordinate_path,\"r\") as f:\n",
    "            line1 = f.readline().strip().replace(\"[\",\"\")\n",
    "            line1 = line1.replace(\"]\",\"\")\n",
    "            line1 = line1.split(\",\")\n",
    "            box_coordinate = list(map(int,line1))\n",
    "    \n",
    "    # 对产生的坐标信息进行保存\n",
    "    with open(feature_num_path,\"w\") as fw:\n",
    "        while(video.isOpened()):\n",
    "            ret, frame = video.read()   # 读取视频帧\n",
    "            if ret == True:\n",
    "                # 根据box大小剪裁视频\n",
    "                frame = frame[box_coordinate[1]:box_coordinate[3],box_coordinate[0]:box_coordinate[2]]\n",
    "                frame_gray = cv2.cvtColor(frame,cv2.COLOR_BGR2GRAY)  # 转化为灰度虚图像\n",
    "                vis = frame.copy()\n",
    "\n",
    "                # 储存写入每一帧tracks的特征角点数目\n",
    "                fw.write(str(frame_index)+'\\t')\n",
    "                fw.write(str(len(tracks))+'\\n')\n",
    "\n",
    "                # 检测到角点后进行光流跟踪\n",
    "                if len(tracks) > 0:\n",
    "                    img0, img1 = pre_gray, frame_gray\n",
    "                    p0 = np.float32([tr[-1] for tr in tracks]).reshape(-1,1,2)\n",
    "                    p1, st, err = cv2.calcOpticalFlowPyrLK(img0,img1,p0,None,**lk_params) # 前一帧的角点和当前帧的图像作为输入来得到角点在当前帧的位置\n",
    "                    p0r, st, err = cv2.calcOpticalFlowPyrLK(img1,img0,p1,None,**lk_params) # 当前帧跟踪到的角点和前一帧进行比较\n",
    "                    dis = abs(p0-p0r).reshape(-1,2).max(-1)\n",
    "                    good = dis < 1  # 判断d内的值是否小于1，大于1跟踪被认为是错误的跟踪点\n",
    "                    new_tracks = []\n",
    "                    # 将跟踪正确的点列入成功跟踪点\n",
    "                    for tr, (x, y), good_flag in zip(tracks, p1.reshape(-1,2), good):\n",
    "                        if not good_flag:\n",
    "                            continue\n",
    "                        tr.append((x,y))\n",
    "                        if len(tr) > track_len+1:\n",
    "                            print(\"too long\")\n",
    "                            del tr[0]\n",
    "                        new_tracks.append(tr)  # 得到新的轨迹\n",
    "                        cv2.circle(vis,(int(x),int(y)),2,(0,255,0),-1)  # 给角点坐标画圆\n",
    "                    tracks = new_tracks\n",
    "                    cv2.polylines(vis,[np.int32(tr) for tr in tracks],False,(0,0,255))  # 画变化轨迹\n",
    "                    \n",
    "                # 对首帧图像进行角点检测\n",
    "                if frame_index == 0:\n",
    "                    tracks = detect_feature(frame_gray)\n",
    "                frame_index += 1\n",
    "                pre_gray = frame_gray\n",
    "                cv2.imshow('lk_track',vis)\n",
    "                \n",
    "            else:\n",
    "                break\n",
    "            ch = 0xFF & cv2.waitKey(1)\n",
    "            if ch == 27:\n",
    "                break\n",
    "\n",
    "    with open(coordinate_path,'w') as f:\n",
    "        # 进行格式修改\n",
    "        tracks = [[list(xy) for xy in tr] for tr in tracks]\n",
    "        # 写入前5s的轨迹坐标\n",
    "        f.write(str(tracks)+ '\\n')\n",
    "        tracks = detect_feature(frame_gray)"
   ]
  },
  {
   "cell_type": "code",
   "execution_count": 3,
   "metadata": {},
   "outputs": [],
   "source": [
    "def clip_cla():\n",
    "    videos_dir = \"./test\"\n",
    "    boxes_dir = \"./检测框信息\"\n",
    "    coordinates_dir = \"./轨迹坐标信息\"\n",
    "    features_dir = \"./角点数目统计\"\n",
    "    for video_name in os.listdir(videos_dir):\n",
    "        video_path = os.path.join(videos_dir,video_name)\n",
    "        box_path = os.path.join(boxes_dir,video_name+\".txt\")\n",
    "        coordinate_path = os.path.join(coordinates_dir,video_name)\n",
    "        feature_path = os.path.join(features_dir,video_name)\n",
    "        # 如果路径不存在则建立文件夹\n",
    "        if not os.path.exists(coordinate_path):\n",
    "            os.makedirs(coordinate_path)\n",
    "        if not os.path.exists(feature_path):\n",
    "            os.makedirs(feature_path)\n",
    "        for clip_name in os.listdir(video_path):\n",
    "            tmp_name = clip_name.split('.')[0]+\".txt\"\n",
    "            clip_path = os.path.join(video_path,clip_name)\n",
    "            clip_coordinate_path = os.path.join(coordinate_path,tmp_name)\n",
    "            clip_feature_path = os.path.join(feature_path,tmp_name)\n",
    "            detect_track(clip_path,box_path,clip_coordinate_path,clip_feature_path)\n",
    "clip_cla()"
   ]
  },
  {
   "cell_type": "code",
   "execution_count": 6,
   "metadata": {},
   "outputs": [],
   "source": [
    "\"\"\"step2:三类特征提取：坐标信息统计及每帧的特征角点数目统计,并进行小波变换\"\"\"\n",
    "\"\"\"坐标信息统计：输入轨迹坐标文件，返回每个clip文件的轨迹移动距离\"\"\"\n",
    "def dis_calculate(track_coordinate_path):\n",
    "    with open(track_coordinate_path,\"r\") as f:\n",
    "        line = f.readline()\n",
    "        tracks = eval(line)\n",
    "    feature_num = len(tracks)   \n",
    "    tracks_sum = 0\n",
    "    if feature_num == 0:\n",
    "        return 0, 0\n",
    "    for track in tracks:\n",
    "        xy_num = len(track)\n",
    "        track_sum = 0\n",
    "        for i in range(xy_num-1):\n",
    "            # 求相邻帧间角点坐标的距离，并累加\n",
    "            dis = (track[i+1][0]-track[i][0])**2+(track[i+1][1]-track[i][1])**2\n",
    "            track_sum += dis\n",
    "        tracks_sum += track_sum\n",
    "    average_dis = tracks_sum/feature_num\n",
    "    return feature_num,average_dis\n",
    "\n",
    "\"\"\"特征角点数目统计：输入特征角点数目文件，返回每个clip的帧数列表以及每帧的特征角点数目\"\"\"\n",
    "def feature_num_cal(feature_num_path):\n",
    "    frame_index_list = []\n",
    "    feature_num_list = []\n",
    "    with open(feature_num_path) as f:\n",
    "        while True:\n",
    "            line = f.readline()\n",
    "            if not line:\n",
    "                break\n",
    "            line = line.split('\\t')\n",
    "            frame_index = eval(line[0])\n",
    "            feature_num = eval(line[1])\n",
    "            frame_index_list.append(frame_index)\n",
    "            feature_num_list.append(feature_num)\n",
    "    return frame_index_list, feature_num_list\n",
    "\n",
    "\"\"\"小波变换：对clip视频进行小波变换\"\"\"\n",
    "\"\"\"输入：每个clip的帧数列表以及每帧的特征角点数目；输出：每个clip的小波变换（25维向量）\"\"\"\n",
    "def wtAnalysis(frame_index_list,feature_num_list):\n",
    "    fps = int(len(frame_index_list)/5)\n",
    "    # 进行小波变化\n",
    "    cwtmatr, freqs = pywt.cwt(feature_num_list, np.arange(1, fps+1),'gaus8')  # cwtmart代表小波变换后每个时刻每个尺度下的幅度值\n",
    "    # 对cwtmatr进行计算\n",
    "    cwtmatr_array = np.array(cwtmatr)\n",
    "    cwtmatr_sum = np.max(cwtmatr_array,axis=1)\n",
    "    cwtmatr_sum = cwtmatr_sum.tolist()\n",
    "    return cwtmatr_sum"
   ]
  },
  {
   "cell_type": "code",
   "execution_count": 7,
   "metadata": {},
   "outputs": [],
   "source": [
    "\"\"\"三类特征统计数据保存\"\"\"\n",
    "def store_feature():\n",
    "    tracks_path = \"./轨迹坐标信息\"\n",
    "    features_num_path = \"./角点数目统计\"\n",
    "    stores_path = \"./三类特征统计\"\n",
    "    for filename in sorted(os.listdir(tracks_path)):\n",
    "        video_track_path = os.path.join(tracks_path,filename)\n",
    "        if not os.path.exists(os.path.join(stores_path,filename)):\n",
    "            os.makedirs(os.path.join(stores_path,filename))\n",
    "        for clipname in sorted(os.listdir(video_track_path)):\n",
    "            print(\"正在处理\",filename,\"-\",clipname)\n",
    "            tmp_path = filename+\"/\"+clipname\n",
    "            clip_track_path = os.path.join(tracks_path,tmp_path)\n",
    "            clip_feature_path = os.path.join(features_num_path,tmp_path)\n",
    "            clip_store_path = os.path.join(stores_path,tmp_path)\n",
    "            store_feature = []\n",
    "            # 计算三类特征\n",
    "            feature_num, average_dis = dis_calculate(clip_track_path)\n",
    "            frame_index_list, feature_num_list = feature_num_cal(clip_feature_path)\n",
    "            cwtmatr = wtAnalysis(frame_index_list,feature_num_list)\n",
    "            # 保存三类特征：1.特征角点最终数目；2.轨迹坐标和；3.小波变换幅值\n",
    "            store_feature = [feature_num,average_dis]+cwtmatr\n",
    "            store_feature_array = np.array(store_feature)\n",
    "            np.savetxt(clip_store_path,store_feature_array,delimiter=',',fmt='%.2f')\n",
    "    print(\"所有数据已保存！\")"
   ]
  },
  {
   "cell_type": "code",
   "execution_count": 109,
   "metadata": {},
   "outputs": [],
   "source": [
    "# 绘制T-SNE图\n",
    "def plot_tsne(data,label,color):\n",
    "    tsne = TSNE(n_components=2,perplexity=10,random_state=0)  # ,perplexity=5, init=\"pca\"\n",
    "    tsne_obj = tsne.fit_transform(data)\n",
    "    tsne_df = pd.DataFrame({'X':tsne_obj[:,0],\n",
    "                           'Y':tsne_obj[:,1],\n",
    "                           'digit':label})\n",
    "    sns.scatterplot(x='X',y='Y',hue='digit',palette=color,legend='full',data=tsne_df)\n",
    "    plt.show()"
   ]
  },
  {
   "cell_type": "code",
   "execution_count": 110,
   "metadata": {},
   "outputs": [],
   "source": [
    "# 绘制不同分类方式的样本t-sne图\n",
    "def t_sne_plt(clf_num):\n",
    "    features_path = \"./三类特征统计\"\n",
    "    labels_path = \"./标签信息\"\n",
    "    score_save_path = os.path.join(os.path.join(\"./score数据统计\",method),\"class\"+str(clf_num))\n",
    "    feature_sample = [[],[],[],[]]\n",
    "    filename_sample = [[],[],[],[]]\n",
    "    for videoname in sorted(os.listdir(features_path)):\n",
    "        video_feature_path = os.path.join(features_path,videoname)\n",
    "        label_path = os.path.join(labels_path,videoname+\".txt\")\n",
    "        # 读取标签文件\n",
    "        label = []\n",
    "        with open(label_path,\"r\",encoding='utf-8') as f:\n",
    "            while True:\n",
    "                line = f.readline()\n",
    "                if not line:\n",
    "                    break\n",
    "                line = line.split('，')\n",
    "                label.append(eval(line[1]))\n",
    "        # 根据label读取每个clip的特征文件\n",
    "        for i in range(len(label)):\n",
    "            clipname = \"clip\"+str(i+1)+\".txt\"\n",
    "            tmp_path = videoname+\"/\"+clipname\n",
    "            clip_feature_path = os.path.join(video_feature_path,clipname)\n",
    "            feature = np.loadtxt(clip_feature_path,delimiter=',')   # 读取feature文件\n",
    "            feature_sample[label[i]-1].append(feature.tolist())\n",
    "            filename_sample[label[i]-1].append(tmp_path)\n",
    "    print(\"类别1样本数量：\",len(feature_sample[0]),\"类别1文件数量：\",len(filename_sample[0]))\n",
    "    print(\"类别2样本数量：\",len(feature_sample[1]),\"类别2文件数量：\",len(filename_sample[1]))\n",
    "    print(\"类别3样本数量：\",len(feature_sample[2]),\"类别3文件数量：\",len(filename_sample[2]))\n",
    "    print(\"类别4样本数量：\",len(feature_sample[3]),\"类别4文件数量：\",len(filename_sample[3]))\n",
    "    # 对样本数据集进行k折划分\n",
    "    # 选择随机种子\n",
    "    random.seed(0)\n",
    "    if clf_num == 2:\n",
    "        # 二分类\n",
    "        feature_sample_array = sample(feature_sample[0],361)+feature_sample[1]+feature_sample[3]\n",
    "        label_array = [0]*len(sample(feature_sample[0],361))+[1]*len(feature_sample[1]+feature_sample[3])\n",
    "        filename_sample_array = sample(filename_sample[0],361)+filename_sample[1]+filename_sample[3]\n",
    "        # 绘制 T-SNE图\n",
    "        feature_sample_array = np.array(feature_sample_array)[:,0:2]\n",
    "        feature_sample_array = preprocessing.scale(feature_sample_array)\n",
    "        plot_tsne(feature_sample_array,label_array,['green','red'])\n",
    "    elif clf_num == 3:\n",
    "        # 三分类\n",
    "        feature_sample_array = sample(feature_sample[0],159)+sample(feature_sample[1],159)+feature_sample[3]\n",
    "        label_array = [0]*len(sample(feature_sample[0],159))+[1]*len(sample(feature_sample[1],159))+[2]*len(feature_sample[3])\n",
    "        filename_sample_array = sample(filename_sample[0],159)+sample(filename_sample[1],159)+filename_sample[3]\n",
    "        # 绘制 T-SNE图\n",
    "        feature_sample_array = np.array(feature_sample_array)[:,0:2]\n",
    "        feature_sample_array = preprocessing.scale(feature_sample_array)\n",
    "        plot_tsne(feature_sample_array,label_array,['green','red','yellow'])\n",
    "    elif clf_num == 4:\n",
    "        # 四分类\n",
    "        feature_sample_array = sample(feature_sample[0],104)+sample(feature_sample[1],104)+feature_sample[2]+sample(feature_sample[3],104)\n",
    "        label_array = [0]*len(sample(feature_sample[0],104))+[1]*len(sample(feature_sample[1],104))+[2]*len(feature_sample[2])+[3]*len(sample(feature_sample[3],104))\n",
    "        filename_sample_array = sample(filename_sample[0],104)+sample(filename_sample[1],104)+filename_sample[2]+sample(filename_sample[3],104)\n",
    "        # 绘制 T-SNE图\n",
    "        feature_sample_array = np.array(feature_sample_array)[:,0:2]\n",
    "        feature_sample_array = preprocessing.scale(feature_sample_array)\n",
    "        plot_tsne(feature_sample_array,label_array,['green','red','yellow','blue'])"
   ]
  },
  {
   "cell_type": "code",
   "execution_count": 111,
   "metadata": {},
   "outputs": [
    {
     "name": "stdout",
     "output_type": "stream",
     "text": [
      "类别1样本数量： 511 类别1文件数量： 511\n",
      "类别2样本数量： 202 类别2文件数量： 202\n",
      "类别3样本数量： 104 类别3文件数量： 104\n",
      "类别4样本数量： 159 类别4文件数量： 159\n"
     ]
    },
    {
     "name": "stderr",
     "output_type": "stream",
     "text": [
      "C:\\Users\\admin\\Anaconda3\\envs\\UEX\\lib\\site-packages\\sklearn\\manifold\\_t_sne.py:780: FutureWarning: The default initialization in TSNE will change from 'random' to 'pca' in 1.2.\n",
      "  warnings.warn(\n",
      "C:\\Users\\admin\\Anaconda3\\envs\\UEX\\lib\\site-packages\\sklearn\\manifold\\_t_sne.py:790: FutureWarning: The default learning rate in TSNE will change from 200.0 to 'auto' in 1.2.\n",
      "  warnings.warn(\n"
     ]
    },
    {
     "data": {
      "image/png": "[encoded data removed]",
      "text/plain": [
       "<Figure size 432x288 with 1 Axes>"
      ]
     },
     "metadata": {
      "needs_background": "light"
     },
     "output_type": "display_data"
    },
    {
     "name": "stdout",
     "output_type": "stream",
     "text": [
      "类别1样本数量： 511 类别1文件数量： 511\n",
      "类别2样本数量： 202 类别2文件数量： 202\n",
      "类别3样本数量： 104 类别3文件数量： 104\n",
      "类别4样本数量： 159 类别4文件数量： 159\n"
     ]
    },
    {
     "name": "stderr",
     "output_type": "stream",
     "text": [
      "C:\\Users\\admin\\Anaconda3\\envs\\UEX\\lib\\site-packages\\sklearn\\manifold\\_t_sne.py:780: FutureWarning: The default initialization in TSNE will change from 'random' to 'pca' in 1.2.\n",
      "  warnings.warn(\n",
      "C:\\Users\\admin\\Anaconda3\\envs\\UEX\\lib\\site-packages\\sklearn\\manifold\\_t_sne.py:790: FutureWarning: The default learning rate in TSNE will change from 200.0 to 'auto' in 1.2.\n",
      "  warnings.warn(\n"
     ]
    },
    {
     "data": {
      "image/png": "[encoded data removed]",
      "text/plain": [
       "<Figure size 432x288 with 1 Axes>"
      ]
     },
     "metadata": {
      "needs_background": "light"
     },
     "output_type": "display_data"
    },
    {
     "name": "stdout",
     "output_type": "stream",
     "text": [
      "类别1样本数量： 511 类别1文件数量： 511\n",
      "类别2样本数量： 202 类别2文件数量： 202\n",
      "类别3样本数量： 104 类别3文件数量： 104\n",
      "类别4样本数量： 159 类别4文件数量： 159\n"
     ]
    },
    {
     "name": "stderr",
     "output_type": "stream",
     "text": [
      "C:\\Users\\admin\\Anaconda3\\envs\\UEX\\lib\\site-packages\\sklearn\\manifold\\_t_sne.py:780: FutureWarning: The default initialization in TSNE will change from 'random' to 'pca' in 1.2.\n",
      "  warnings.warn(\n",
      "C:\\Users\\admin\\Anaconda3\\envs\\UEX\\lib\\site-packages\\sklearn\\manifold\\_t_sne.py:790: FutureWarning: The default learning rate in TSNE will change from 200.0 to 'auto' in 1.2.\n",
      "  warnings.warn(\n"
     ]
    },
    {
     "data": {
      "image/png": "[encoded data removed]",
      "text/plain": [
       "<Figure size 432x288 with 1 Axes>"
      ]
     },
     "metadata": {
      "needs_background": "light"
     },
     "output_type": "display_data"
    }
   ],
   "source": [
    "cls_num = [2,3,4]\n",
    "for num in cls_num:\n",
    "    t_sne_plt(num)"
   ]
  },
  {
   "cell_type": "code",
   "execution_count": 17,
   "metadata": {},
   "outputs": [],
   "source": [
    "\"\"\"step3:选取样本，划分训练集和验证集，采用k折交叉验证的方式\"\"\"\n",
    "\"\"\"利用svm，knn维分类器进行分类实验\"\"\"\n",
    "def train_svm_knn(clf_num, method):\n",
    "    features_path = \"./三类特征统计\"\n",
    "    labels_path = \"./标签信息\"\n",
    "    score_save_path = os.path.join(os.path.join(\"./score数据统计\",method),\"class\"+str(clf_num))\n",
    "    feature_sample = [[],[],[],[]]\n",
    "    filename_sample = [[],[],[],[]]\n",
    "    for videoname in sorted(os.listdir(features_path)):\n",
    "        video_feature_path = os.path.join(features_path,videoname)\n",
    "        label_path = os.path.join(labels_path,videoname+\".txt\")\n",
    "        # 读取标签文件\n",
    "        label = []\n",
    "        with open(label_path,\"r\",encoding='utf-8') as f:\n",
    "            while True:\n",
    "                line = f.readline()\n",
    "                if not line:\n",
    "                    break\n",
    "                line = line.split('，')\n",
    "                label.append(eval(line[1]))\n",
    "        # 根据label读取每个clip的特征文件\n",
    "        for i in range(len(label)):\n",
    "            clipname = \"clip\"+str(i+1)+\".txt\"\n",
    "            tmp_path = videoname+\"/\"+clipname\n",
    "            clip_feature_path = os.path.join(video_feature_path,clipname)\n",
    "            feature = np.loadtxt(clip_feature_path,delimiter=',')   # 读取feature文件\n",
    "            feature_sample[label[i]-1].append(feature.tolist())\n",
    "            filename_sample[label[i]-1].append(tmp_path)\n",
    "    print(\"类别1样本数量：\",len(feature_sample[0]),\"类别1文件数量：\",len(filename_sample[0]))\n",
    "    print(\"类别2样本数量：\",len(feature_sample[1]),\"类别2文件数量：\",len(filename_sample[1]))\n",
    "    print(\"类别3样本数量：\",len(feature_sample[2]),\"类别3文件数量：\",len(filename_sample[2]))\n",
    "    print(\"类别4样本数量：\",len(feature_sample[3]),\"类别4文件数量：\",len(filename_sample[3]))\n",
    "    # 对样本数据集进行k折划分\n",
    "    # 选择随机种子\n",
    "    random.seed(0)\n",
    "    if clf_num == 2:\n",
    "        # 二分类\n",
    "        feature_sample_array = sample(feature_sample[0],361)+feature_sample[1]+feature_sample[3]\n",
    "        label_array = [0]*len(sample(feature_sample[0],361))+[1]*len(feature_sample[1]+feature_sample[3])\n",
    "        filename_sample_array = sample(filename_sample[0],361)+filename_sample[1]+filename_sample[3]\n",
    "    elif clf_num == 3:\n",
    "        # 三分类\n",
    "        feature_sample_array = sample(feature_sample[0],159)+sample(feature_sample[1],159)+feature_sample[3]\n",
    "        label_array = [0]*len(sample(feature_sample[0],159))+[1]*len(sample(feature_sample[1],159))+[2]*len(feature_sample[3])\n",
    "        filename_sample_array = sample(filename_sample[0],159)+sample(filename_sample[1],159)+filename_sample[3]\n",
    "    elif clf_num == 4:\n",
    "        # 四分类\n",
    "        feature_sample_array = sample(feature_sample[0],104)+sample(feature_sample[1],104)+feature_sample[2]+sample(feature_sample[3],104)\n",
    "        label_array = [0]*len(sample(feature_sample[0],104))+[1]*len(sample(feature_sample[1],104))+[2]*len(feature_sample[2])+[3]*len(sample(feature_sample[3],104))\n",
    "        filename_sample_array = sample(filename_sample[0],104)+sample(filename_sample[1],104)+filename_sample[2]+sample(filename_sample[3],104)\n",
    "    feature_sample_array = np.array(feature_sample_array)\n",
    "    # 选取数目特征和距离特征\n",
    "#     feature_sample_array = np.array(feature_sample_array)[:,0:2]\n",
    "    # 选取数目特征和小波特征\n",
    "#     a = [0,2,3,4,5,6,7,8,9,10,11,12,13,14,15,16,17,18,19,20,21,22,23,24,25,26]\n",
    "#     feature_sample_array = np.array(feature_sample_array)[:,a]\n",
    "#     # 选取距离特征和小波特征\n",
    "#     a = [1,2,3,4,5,6,7,8,9,10,11,12,13,14,15,16,17,18,19,20,21,22,23,24,25,26]\n",
    "#     feature_sample_array = np.array(feature_sample_array)[:,a]\n",
    "    print(\"总样本数据维度：\",feature_sample_array.shape)\n",
    "    print(\"总样本标签维度：\",label_array.shape)\n",
    "\n",
    "    # 分层k折交叉验证\n",
    "    skf = StratifiedKFold(n_splits=10)\n",
    "    kindex = 0\n",
    "    # 标签二值化\n",
    "    classes = [[0,1],[0,1,2],[0,1,2,3]]\n",
    "    # 储存每一轮的结果\n",
    "    train_score_list = []\n",
    "    test_score_list = []\n",
    "    precision_score_list = []\n",
    "    recall_score_list = []\n",
    "    f1_score_list = []\n",
    "#     feature_sample_array = preprocessing.scale(feature_sample_array)   # processing预处理\n",
    "    for train, test in skf.split(filename_sample_array,label_array):\n",
    "        train_data = np.array(feature_sample_array)[train,:]   # 划分好的训练集\n",
    "        train_label = np.array(label_array)[train]\n",
    "        test_data = np.array(feature_sample_array)[test,:]   # 划分好的测试集\n",
    "        test_label = np.array(label_array)[test]\n",
    "        if method == \"SVM\":\n",
    "            # 利用svm进行多分类\n",
    "            clf = svm.SVC(kernel='linear',decision_function_shape='ovr',max_iter=1e7,probability=True)\n",
    "            clf.fit(train_data,train_label)\n",
    "        if method == \"KNN\":\n",
    "            clf = KNeighborsClassifier(n_neighbors=10)\n",
    "            clf.fit(train_data,train_label)\n",
    "        # 采用混淆矩阵计算各种评价指标\n",
    "        predicted_train_label = clf.predict(train_data)\n",
    "        predicted_test_label = clf.predict(test_data)\n",
    "        predicted_test_score = clf.predict_proba(test_data)\n",
    "#         np.save(os.path.join(score_save_path,method+\"-predicted_train_label\"+\"-k\"+str(kindex)),predicted_train_label)\n",
    "#         np.save(os.path.join(score_save_path,method+\"-true_train_label\"+\"-k\"+str(kindex)),train_label)\n",
    "#         np.save(os.path.join(score_save_path,method+\"-predicted_test_label\"+\"-k\"+str(kindex)),predicted_test_label)\n",
    "#         np.save(os.path.join(score_save_path,method+\"-true_test_label\"+\"-k\"+str(kindex)),test_label)\n",
    "#         np.save(os.path.join(score_save_path,method+\"-predicted_test_score\"+\"-k\"+str(kindex)),predicted_test_score)\n",
    "#         print(\"当前折训练集准确率：\",metrics.accuracy_score(train_label,predicted_train_label))\n",
    "        train_score_list.append(metrics.accuracy_score(train_label,predicted_train_label))\n",
    "#         print(\"当前折测试集准确率：\",metrics.accuracy_score(test_label,predicted_test_label))\n",
    "        test_score_list.append(metrics.accuracy_score(test_label,predicted_test_label))\n",
    "#         print(\"当前折精准值：\",metrics.precision_score(test_label,predicted_test_label,average='weighted'))\n",
    "        precision_score_list.append(metrics.precision_score(test_label,predicted_test_label,average='weighted'))\n",
    "#         print(\"当前折召回率：\",metrics.recall_score(test_label,predicted_test_label,average='weighted'))\n",
    "        recall_score_list.append(metrics.recall_score(test_label,predicted_test_label,average='weighted'))\n",
    "#         print(\"当前折F1：\",metrics.f1_score(test_label,predicted_test_label,average='weighted'))\n",
    "        f1_score_list.append(metrics.f1_score(test_label,predicted_test_label,average='weighted'))\n",
    "#         print(\"Done!*****************************************************\")\n",
    "        kindex += 1\n",
    "        \n",
    "    print(\"Method:\",method,\" Clf_num\",clf_num)\n",
    "    print(\"训练集准确率：\",np.array(train_score_list).mean())\n",
    "    print(\"测试集准确率：\",np.array(test_score_list).mean())\n",
    "    print(\"精确率：\",np.array(precision_score_list).mean())\n",
    "    print(\"召回率：\",np.array(recall_score_list).mean())\n",
    "    print(\"F1得分：\",np.array(f1_score_list).mean())"
   ]
  },
  {
   "cell_type": "code",
   "execution_count": 18,
   "metadata": {},
   "outputs": [
    {
     "name": "stdout",
     "output_type": "stream",
     "text": [
      "类别1样本数量： 511 类别1文件数量： 511\n",
      "类别2样本数量： 202 类别2文件数量： 202\n",
      "类别3样本数量： 104 类别3文件数量： 104\n",
      "类别4样本数量： 159 类别4文件数量： 159\n"
     ]
    },
    {
     "name": "stderr",
     "output_type": "stream",
     "text": [
      "C:\\Users\\admin\\Anaconda3\\envs\\UEX\\lib\\site-packages\\sklearn\\manifold\\_t_sne.py:780: FutureWarning: The default initialization in TSNE will change from 'random' to 'pca' in 1.2.\n",
      "  warnings.warn(\n",
      "C:\\Users\\admin\\Anaconda3\\envs\\UEX\\lib\\site-packages\\sklearn\\manifold\\_t_sne.py:790: FutureWarning: The default learning rate in TSNE will change from 200.0 to 'auto' in 1.2.\n",
      "  warnings.warn(\n"
     ]
    },
    {
     "ename": "ValueError",
     "evalue": "The palette list has the wrong number of colors.",
     "output_type": "error",
     "traceback": [
      "\u001b[1;31m---------------------------------------------------------------------------\u001b[0m",
      "\u001b[1;31mValueError\u001b[0m                                Traceback (most recent call last)",
      "\u001b[1;32m~\\AppData\\Local\\Temp/ipykernel_54348/3639757548.py\u001b[0m in \u001b[0;36m<module>\u001b[1;34m\u001b[0m\n\u001b[0;32m      3\u001b[0m \u001b[1;32mfor\u001b[0m \u001b[0mnum\u001b[0m \u001b[1;32min\u001b[0m \u001b[0mcls_num\u001b[0m\u001b[1;33m:\u001b[0m\u001b[1;33m\u001b[0m\u001b[1;33m\u001b[0m\u001b[0m\n\u001b[0;32m      4\u001b[0m     \u001b[1;32mfor\u001b[0m \u001b[0mmethod\u001b[0m \u001b[1;32min\u001b[0m \u001b[0mmethods\u001b[0m\u001b[1;33m:\u001b[0m\u001b[1;33m\u001b[0m\u001b[1;33m\u001b[0m\u001b[0m\n\u001b[1;32m----> 5\u001b[1;33m         \u001b[0mtrain_svm_knn\u001b[0m\u001b[1;33m(\u001b[0m\u001b[0mnum\u001b[0m\u001b[1;33m,\u001b[0m\u001b[0mmethod\u001b[0m\u001b[1;33m)\u001b[0m\u001b[1;33m\u001b[0m\u001b[1;33m\u001b[0m\u001b[0m\n\u001b[0m",
      "\u001b[1;32m~\\AppData\\Local\\Temp/ipykernel_54348/1278480526.py\u001b[0m in \u001b[0;36mtrain_svm_knn\u001b[1;34m(clf_num, method)\u001b[0m\n\u001b[0;32m     61\u001b[0m \u001b[1;33m\u001b[0m\u001b[0m\n\u001b[0;32m     62\u001b[0m     \u001b[1;31m# 绘制 T-SNE图\u001b[0m\u001b[1;33m\u001b[0m\u001b[1;33m\u001b[0m\u001b[1;33m\u001b[0m\u001b[0m\n\u001b[1;32m---> 63\u001b[1;33m     \u001b[0mplot_tsne\u001b[0m\u001b[1;33m(\u001b[0m\u001b[0mfeature_sample_array\u001b[0m\u001b[1;33m,\u001b[0m\u001b[0mlabel_array\u001b[0m\u001b[1;33m)\u001b[0m\u001b[1;33m\u001b[0m\u001b[1;33m\u001b[0m\u001b[0m\n\u001b[0m\u001b[0;32m     64\u001b[0m \u001b[1;33m\u001b[0m\u001b[0m\n\u001b[0;32m     65\u001b[0m \u001b[1;31m#     # 分层k折交叉验证\u001b[0m\u001b[1;33m\u001b[0m\u001b[1;33m\u001b[0m\u001b[1;33m\u001b[0m\u001b[0m\n",
      "\u001b[1;32m~\\AppData\\Local\\Temp/ipykernel_54348/1588099332.py\u001b[0m in \u001b[0;36mplot_tsne\u001b[1;34m(data, label)\u001b[0m\n\u001b[0;32m      6\u001b[0m                            \u001b[1;34m'Y'\u001b[0m\u001b[1;33m:\u001b[0m\u001b[0mtsne_obj\u001b[0m\u001b[1;33m[\u001b[0m\u001b[1;33m:\u001b[0m\u001b[1;33m,\u001b[0m\u001b[1;36m1\u001b[0m\u001b[1;33m]\u001b[0m\u001b[1;33m,\u001b[0m\u001b[1;33m\u001b[0m\u001b[1;33m\u001b[0m\u001b[0m\n\u001b[0;32m      7\u001b[0m                            'digit':label})\n\u001b[1;32m----> 8\u001b[1;33m     \u001b[0msns\u001b[0m\u001b[1;33m.\u001b[0m\u001b[0mscatterplot\u001b[0m\u001b[1;33m(\u001b[0m\u001b[0mx\u001b[0m\u001b[1;33m=\u001b[0m\u001b[1;34m'X'\u001b[0m\u001b[1;33m,\u001b[0m\u001b[0my\u001b[0m\u001b[1;33m=\u001b[0m\u001b[1;34m'Y'\u001b[0m\u001b[1;33m,\u001b[0m\u001b[0mhue\u001b[0m\u001b[1;33m=\u001b[0m\u001b[1;34m'digit'\u001b[0m\u001b[1;33m,\u001b[0m\u001b[0mpalette\u001b[0m\u001b[1;33m=\u001b[0m\u001b[1;33m[\u001b[0m\u001b[1;34m'green'\u001b[0m\u001b[1;33m,\u001b[0m\u001b[1;34m'red'\u001b[0m\u001b[1;33m,\u001b[0m\u001b[1;34m'yellow'\u001b[0m\u001b[1;33m,\u001b[0m\u001b[1;34m'blue'\u001b[0m\u001b[1;33m]\u001b[0m\u001b[1;33m,\u001b[0m\u001b[0mlegend\u001b[0m\u001b[1;33m=\u001b[0m\u001b[1;34m'full'\u001b[0m\u001b[1;33m,\u001b[0m\u001b[0mdata\u001b[0m\u001b[1;33m=\u001b[0m\u001b[0mtsne_df\u001b[0m\u001b[1;33m)\u001b[0m\u001b[1;33m\u001b[0m\u001b[1;33m\u001b[0m\u001b[0m\n\u001b[0m\u001b[0;32m      9\u001b[0m     \u001b[0mplt\u001b[0m\u001b[1;33m.\u001b[0m\u001b[0mshow\u001b[0m\u001b[1;33m(\u001b[0m\u001b[1;33m)\u001b[0m\u001b[1;33m\u001b[0m\u001b[1;33m\u001b[0m\u001b[0m\n",
      "\u001b[1;32m~\\Anaconda3\\envs\\UEX\\lib\\site-packages\\seaborn\\_decorators.py\u001b[0m in \u001b[0;36minner_f\u001b[1;34m(*args, **kwargs)\u001b[0m\n\u001b[0;32m     44\u001b[0m             )\n\u001b[0;32m     45\u001b[0m         \u001b[0mkwargs\u001b[0m\u001b[1;33m.\u001b[0m\u001b[0mupdate\u001b[0m\u001b[1;33m(\u001b[0m\u001b[1;33m{\u001b[0m\u001b[0mk\u001b[0m\u001b[1;33m:\u001b[0m \u001b[0marg\u001b[0m \u001b[1;32mfor\u001b[0m \u001b[0mk\u001b[0m\u001b[1;33m,\u001b[0m \u001b[0marg\u001b[0m \u001b[1;32min\u001b[0m \u001b[0mzip\u001b[0m\u001b[1;33m(\u001b[0m\u001b[0msig\u001b[0m\u001b[1;33m.\u001b[0m\u001b[0mparameters\u001b[0m\u001b[1;33m,\u001b[0m \u001b[0margs\u001b[0m\u001b[1;33m)\u001b[0m\u001b[1;33m}\u001b[0m\u001b[1;33m)\u001b[0m\u001b[1;33m\u001b[0m\u001b[1;33m\u001b[0m\u001b[0m\n\u001b[1;32m---> 46\u001b[1;33m         \u001b[1;32mreturn\u001b[0m \u001b[0mf\u001b[0m\u001b[1;33m(\u001b[0m\u001b[1;33m**\u001b[0m\u001b[0mkwargs\u001b[0m\u001b[1;33m)\u001b[0m\u001b[1;33m\u001b[0m\u001b[1;33m\u001b[0m\u001b[0m\n\u001b[0m\u001b[0;32m     47\u001b[0m     \u001b[1;32mreturn\u001b[0m \u001b[0minner_f\u001b[0m\u001b[1;33m\u001b[0m\u001b[1;33m\u001b[0m\u001b[0m\n\u001b[0;32m     48\u001b[0m \u001b[1;33m\u001b[0m\u001b[0m\n",
      "\u001b[1;32m~\\Anaconda3\\envs\\UEX\\lib\\site-packages\\seaborn\\relational.py\u001b[0m in \u001b[0;36mscatterplot\u001b[1;34m(x, y, hue, style, size, data, palette, hue_order, hue_norm, sizes, size_order, size_norm, markers, style_order, x_bins, y_bins, units, estimator, ci, n_boot, alpha, x_jitter, y_jitter, legend, ax, **kwargs)\u001b[0m\n\u001b[0;32m    813\u001b[0m     )\n\u001b[0;32m    814\u001b[0m \u001b[1;33m\u001b[0m\u001b[0m\n\u001b[1;32m--> 815\u001b[1;33m     \u001b[0mp\u001b[0m\u001b[1;33m.\u001b[0m\u001b[0mmap_hue\u001b[0m\u001b[1;33m(\u001b[0m\u001b[0mpalette\u001b[0m\u001b[1;33m=\u001b[0m\u001b[0mpalette\u001b[0m\u001b[1;33m,\u001b[0m \u001b[0morder\u001b[0m\u001b[1;33m=\u001b[0m\u001b[0mhue_order\u001b[0m\u001b[1;33m,\u001b[0m \u001b[0mnorm\u001b[0m\u001b[1;33m=\u001b[0m\u001b[0mhue_norm\u001b[0m\u001b[1;33m)\u001b[0m\u001b[1;33m\u001b[0m\u001b[1;33m\u001b[0m\u001b[0m\n\u001b[0m\u001b[0;32m    816\u001b[0m     \u001b[0mp\u001b[0m\u001b[1;33m.\u001b[0m\u001b[0mmap_size\u001b[0m\u001b[1;33m(\u001b[0m\u001b[0msizes\u001b[0m\u001b[1;33m=\u001b[0m\u001b[0msizes\u001b[0m\u001b[1;33m,\u001b[0m \u001b[0morder\u001b[0m\u001b[1;33m=\u001b[0m\u001b[0msize_order\u001b[0m\u001b[1;33m,\u001b[0m \u001b[0mnorm\u001b[0m\u001b[1;33m=\u001b[0m\u001b[0msize_norm\u001b[0m\u001b[1;33m)\u001b[0m\u001b[1;33m\u001b[0m\u001b[1;33m\u001b[0m\u001b[0m\n\u001b[0;32m    817\u001b[0m     \u001b[0mp\u001b[0m\u001b[1;33m.\u001b[0m\u001b[0mmap_style\u001b[0m\u001b[1;33m(\u001b[0m\u001b[0mmarkers\u001b[0m\u001b[1;33m=\u001b[0m\u001b[0mmarkers\u001b[0m\u001b[1;33m,\u001b[0m \u001b[0morder\u001b[0m\u001b[1;33m=\u001b[0m\u001b[0mstyle_order\u001b[0m\u001b[1;33m)\u001b[0m\u001b[1;33m\u001b[0m\u001b[1;33m\u001b[0m\u001b[0m\n",
      "\u001b[1;32m~\\Anaconda3\\envs\\UEX\\lib\\site-packages\\seaborn\\_core.py\u001b[0m in \u001b[0;36mmap\u001b[1;34m(cls, plotter, *args, **kwargs)\u001b[0m\n\u001b[0;32m     51\u001b[0m         \u001b[1;31m# This method is assigned the __init__ docstring\u001b[0m\u001b[1;33m\u001b[0m\u001b[1;33m\u001b[0m\u001b[1;33m\u001b[0m\u001b[0m\n\u001b[0;32m     52\u001b[0m         \u001b[0mmethod_name\u001b[0m \u001b[1;33m=\u001b[0m \u001b[1;34m\"_{}_map\"\u001b[0m\u001b[1;33m.\u001b[0m\u001b[0mformat\u001b[0m\u001b[1;33m(\u001b[0m\u001b[0mcls\u001b[0m\u001b[1;33m.\u001b[0m\u001b[0m__name__\u001b[0m\u001b[1;33m[\u001b[0m\u001b[1;33m:\u001b[0m\u001b[1;33m-\u001b[0m\u001b[1;36m7\u001b[0m\u001b[1;33m]\u001b[0m\u001b[1;33m.\u001b[0m\u001b[0mlower\u001b[0m\u001b[1;33m(\u001b[0m\u001b[1;33m)\u001b[0m\u001b[1;33m)\u001b[0m\u001b[1;33m\u001b[0m\u001b[1;33m\u001b[0m\u001b[0m\n\u001b[1;32m---> 53\u001b[1;33m         \u001b[0msetattr\u001b[0m\u001b[1;33m(\u001b[0m\u001b[0mplotter\u001b[0m\u001b[1;33m,\u001b[0m \u001b[0mmethod_name\u001b[0m\u001b[1;33m,\u001b[0m \u001b[0mcls\u001b[0m\u001b[1;33m(\u001b[0m\u001b[0mplotter\u001b[0m\u001b[1;33m,\u001b[0m \u001b[1;33m*\u001b[0m\u001b[0margs\u001b[0m\u001b[1;33m,\u001b[0m \u001b[1;33m**\u001b[0m\u001b[0mkwargs\u001b[0m\u001b[1;33m)\u001b[0m\u001b[1;33m)\u001b[0m\u001b[1;33m\u001b[0m\u001b[1;33m\u001b[0m\u001b[0m\n\u001b[0m\u001b[0;32m     54\u001b[0m         \u001b[1;32mreturn\u001b[0m \u001b[0mplotter\u001b[0m\u001b[1;33m\u001b[0m\u001b[1;33m\u001b[0m\u001b[0m\n\u001b[0;32m     55\u001b[0m \u001b[1;33m\u001b[0m\u001b[0m\n",
      "\u001b[1;32m~\\Anaconda3\\envs\\UEX\\lib\\site-packages\\seaborn\\_core.py\u001b[0m in \u001b[0;36m__init__\u001b[1;34m(self, plotter, palette, order, norm)\u001b[0m\n\u001b[0;32m    116\u001b[0m \u001b[1;33m\u001b[0m\u001b[0m\n\u001b[0;32m    117\u001b[0m                 \u001b[0mcmap\u001b[0m \u001b[1;33m=\u001b[0m \u001b[0mnorm\u001b[0m \u001b[1;33m=\u001b[0m \u001b[1;32mNone\u001b[0m\u001b[1;33m\u001b[0m\u001b[1;33m\u001b[0m\u001b[0m\n\u001b[1;32m--> 118\u001b[1;33m                 levels, lookup_table = self.categorical_mapping(\n\u001b[0m\u001b[0;32m    119\u001b[0m                     \u001b[0mdata\u001b[0m\u001b[1;33m,\u001b[0m \u001b[0mpalette\u001b[0m\u001b[1;33m,\u001b[0m \u001b[0morder\u001b[0m\u001b[1;33m,\u001b[0m\u001b[1;33m\u001b[0m\u001b[1;33m\u001b[0m\u001b[0m\n\u001b[0;32m    120\u001b[0m                 )\n",
      "\u001b[1;32m~\\Anaconda3\\envs\\UEX\\lib\\site-packages\\seaborn\\_core.py\u001b[0m in \u001b[0;36mcategorical_mapping\u001b[1;34m(self, data, palette, order)\u001b[0m\n\u001b[0;32m    202\u001b[0m                 \u001b[1;32mif\u001b[0m \u001b[0mlen\u001b[0m\u001b[1;33m(\u001b[0m\u001b[0mpalette\u001b[0m\u001b[1;33m)\u001b[0m \u001b[1;33m!=\u001b[0m \u001b[0mn_colors\u001b[0m\u001b[1;33m:\u001b[0m\u001b[1;33m\u001b[0m\u001b[1;33m\u001b[0m\u001b[0m\n\u001b[0;32m    203\u001b[0m                     \u001b[0merr\u001b[0m \u001b[1;33m=\u001b[0m \u001b[1;34m\"The palette list has the wrong number of colors.\"\u001b[0m\u001b[1;33m\u001b[0m\u001b[1;33m\u001b[0m\u001b[0m\n\u001b[1;32m--> 204\u001b[1;33m                     \u001b[1;32mraise\u001b[0m \u001b[0mValueError\u001b[0m\u001b[1;33m(\u001b[0m\u001b[0merr\u001b[0m\u001b[1;33m)\u001b[0m\u001b[1;33m\u001b[0m\u001b[1;33m\u001b[0m\u001b[0m\n\u001b[0m\u001b[0;32m    205\u001b[0m                 \u001b[0mcolors\u001b[0m \u001b[1;33m=\u001b[0m \u001b[0mpalette\u001b[0m\u001b[1;33m\u001b[0m\u001b[1;33m\u001b[0m\u001b[0m\n\u001b[0;32m    206\u001b[0m             \u001b[1;32melse\u001b[0m\u001b[1;33m:\u001b[0m\u001b[1;33m\u001b[0m\u001b[1;33m\u001b[0m\u001b[0m\n",
      "\u001b[1;31mValueError\u001b[0m: The palette list has the wrong number of colors."
     ]
    }
   ],
   "source": [
    "cls_num = [2,3,4]\n",
    "methods = [\"SVM\",\"KNN\"]\n",
    "for num in cls_num:\n",
    "    for method in methods:\n",
    "        train_svm_knn(num,method)"
   ]
  },
  {
   "cell_type": "code",
   "execution_count": 127,
   "metadata": {},
   "outputs": [],
   "source": [
    "\"\"\"step3:选取样本，划分训练集和验证集，采用k折交叉验证的方式\"\"\"\n",
    "\"\"\"利用mlp、rvm、random forest分类器进行分类实验\"\"\"\n",
    "\"\"\"补充实验\"\"\"\n",
    "def train_supplement(clf_num, method):\n",
    "    features_path = \"./三类特征统计\"\n",
    "    labels_path = \"./标签信息\"\n",
    "    score_save_path = os.path.join(os.path.join(\"./score数据统计\",method),\"class\"+str(clf_num))\n",
    "    feature_sample = [[],[],[],[]]\n",
    "    filename_sample = [[],[],[],[]]\n",
    "    for videoname in sorted(os.listdir(features_path)):\n",
    "        video_feature_path = os.path.join(features_path,videoname)\n",
    "        label_path = os.path.join(labels_path,videoname+\".txt\")\n",
    "        # 读取标签文件\n",
    "        label = []\n",
    "        with open(label_path,\"r\",encoding='utf-8') as f:\n",
    "            while True:\n",
    "                line = f.readline()\n",
    "                if not line:\n",
    "                    break\n",
    "                line = line.split('，')\n",
    "                label.append(eval(line[1]))\n",
    "        # 根据label读取每个clip的特征文件\n",
    "        for i in range(len(label)):\n",
    "            clipname = \"clip\"+str(i+1)+\".txt\"\n",
    "            tmp_path = videoname+\"/\"+clipname\n",
    "            clip_feature_path = os.path.join(video_feature_path,clipname)\n",
    "            feature = np.loadtxt(clip_feature_path,delimiter=',')   # 读取feature文件\n",
    "            feature_sample[label[i]-1].append(feature.tolist())\n",
    "            filename_sample[label[i]-1].append(tmp_path)\n",
    "#     print(\"类别1样本数量：\",len(feature_sample[0]),\"类别1文件数量：\",len(filename_sample[0]))\n",
    "#     print(\"类别2样本数量：\",len(feature_sample[1]),\"类别2文件数量：\",len(filename_sample[1]))\n",
    "#     print(\"类别3样本数量：\",len(feature_sample[2]),\"类别3文件数量：\",len(filename_sample[2]))\n",
    "#     print(\"类别4样本数量：\",len(feature_sample[3]),\"类别4文件数量：\",len(filename_sample[3]))\n",
    "    # 对样本数据集进行k折划分\n",
    "    # 选择随机种子\n",
    "    random.seed(0)\n",
    "    if clf_num == 2:\n",
    "        # 二分类\n",
    "        feature_sample_array = sample(feature_sample[0],361)+feature_sample[1]+feature_sample[3]\n",
    "        label_array = [0]*len(sample(feature_sample[0],361))+[1]*len(feature_sample[1]+feature_sample[3])\n",
    "        filename_sample_array = sample(filename_sample[0],361)+filename_sample[1]+filename_sample[3]\n",
    "    elif clf_num == 3:\n",
    "        # 三分类\n",
    "        feature_sample_array = sample(feature_sample[0],159)+sample(feature_sample[1],159)+feature_sample[3]\n",
    "        label_array = [0]*len(sample(feature_sample[0],159))+[1]*len(sample(feature_sample[1],159))+[2]*len(feature_sample[3])\n",
    "        filename_sample_array = sample(filename_sample[0],159)+sample(filename_sample[1],159)+filename_sample[3]\n",
    "    elif clf_num == 4:\n",
    "        # 四分类\n",
    "        feature_sample_array = sample(feature_sample[0],104)+sample(feature_sample[1],104)+feature_sample[2]+sample(feature_sample[3],104)\n",
    "        label_array = [0]*len(sample(feature_sample[0],104))+[1]*len(sample(feature_sample[1],104))+[2]*len(feature_sample[2])+[3]*len(sample(feature_sample[3],104))\n",
    "        filename_sample_array = sample(filename_sample[0],104)+sample(filename_sample[1],104)+filename_sample[2]+sample(filename_sample[3],104)\n",
    "    feature_sample_array = np.array(feature_sample_array)\n",
    "    label_array = np.array(label_array)\n",
    "    # 选取数目特征和距离特征\n",
    "#     feature_sample_array = np.array(feature_sample_array)[:,0:2]\n",
    "    # 选取数目特征和小波特征\n",
    "#     a = [0,2,3,4,5,6,7,8,9,10,11,12,13,14,15,16,17,18,19,20,21,22,23,24,25,26]\n",
    "#     feature_sample_array = np.array(feature_sample_array)[:,a]\n",
    "#     # 选取距离特征和小波特征\n",
    "#     a = [1,2,3,4,5,6,7,8,9,10,11,12,13,14,15,16,17,18,19,20,21,22,23,24,25,26]\n",
    "#     feature_sample_array = np.array(feature_sample_array)[:,a]\n",
    "    print(\"总样本数据维度：\",feature_sample_array.shape)\n",
    "    print(\"总样本标签维度：\",label_array.shape)\n",
    "\n",
    "    # 分层k折交叉验证\n",
    "    skf = StratifiedKFold(n_splits=10)\n",
    "    kindex = 0\n",
    "    # 标签二值化\n",
    "    classes = [[0,1],[0,1,2],[0,1,2,3]]\n",
    "    # 储存每一轮的结果\n",
    "    train_score_list = []\n",
    "    test_score_list = []\n",
    "    precision_score_list = []\n",
    "    recall_score_list = []\n",
    "    f1_score_list = []\n",
    "#     feature_sample_array = preprocessing.scale(feature_sample_array)   # processing预处理\n",
    "    for train, test in skf.split(filename_sample_array,label_array):\n",
    "        train_data = np.array(feature_sample_array)[train,:]   # 划分好的训练集\n",
    "        train_label = np.array(label_array)[train]\n",
    "        test_data = np.array(feature_sample_array)[test,:]   # 划分好的测试集\n",
    "        test_label = np.array(label_array)[test]\n",
    "        if method == \"MLP\":\n",
    "            # 利用mlp进行多分类\n",
    "            from sklearn.neural_network import MLPClassifier\n",
    "#             clf = MLPClassifier(solver='lbfgs',alpha=1e-6,hidden_layer_sizes=(64,3))\n",
    "#             clf = MLPClassifier(solver='lbfgs',alpha=1e-6,hidden_layer_sizes=(128,6))\n",
    "            clf = MLPClassifier(solver='lbfgs',alpha=1e-6,hidden_layer_sizes=(256,9))\n",
    "            clf.fit(train_data,train_label)\n",
    "        if method == \"RVM\":\n",
    "            from sklearn_rvm import EMRVC\n",
    "            clf = EMRVC(kernel='rbf',max_iter=10)\n",
    "            clf.fit(train_data,train_label)\n",
    "        if method == \"RandomForest\":\n",
    "            from sklearn.ensemble import RandomForestClassifier\n",
    "            clf = RandomForestClassifier(max_depth=2)\n",
    "            clf.fit(train_data,train_label)\n",
    "        # 采用混淆矩阵计算各种评价指标\n",
    "        predicted_train_label = clf.predict(train_data)\n",
    "        predicted_test_label = clf.predict(test_data)\n",
    "        predicted_test_score = clf.predict_proba(test_data)\n",
    "        np.save(os.path.join(score_save_path,method+\"-predicted_train_label\"+\"-k\"+str(kindex)),predicted_train_label)\n",
    "        np.save(os.path.join(score_save_path,method+\"-true_train_label\"+\"-k\"+str(kindex)),train_label)\n",
    "        np.save(os.path.join(score_save_path,method+\"-predicted_test_label\"+\"-k\"+str(kindex)),predicted_test_label)\n",
    "        np.save(os.path.join(score_save_path,method+\"-true_test_label\"+\"-k\"+str(kindex)),test_label)\n",
    "        np.save(os.path.join(score_save_path,method+\"-predicted_test_score\"+\"-k\"+str(kindex)),predicted_test_score)\n",
    "        print(\"当前折训练集准确率：\",metrics.accuracy_score(train_label,predicted_train_label))\n",
    "        train_score_list.append(metrics.accuracy_score(train_label,predicted_train_label))\n",
    "        print(\"当前折测试集准确率：\",metrics.accuracy_score(test_label,predicted_test_label))\n",
    "        test_score_list.append(metrics.accuracy_score(test_label,predicted_test_label))\n",
    "#         print(\"当前折精准值：\",metrics.precision_score(test_label,predicted_test_label,average='weighted'))\n",
    "        precision_score_list.append(metrics.precision_score(test_label,predicted_test_label,average='weighted'))\n",
    "#         print(\"当前折召回率：\",metrics.recall_score(test_label,predicted_test_label,average='weighted'))\n",
    "        recall_score_list.append(metrics.recall_score(test_label,predicted_test_label,average='weighted'))\n",
    "#         print(\"当前折F1：\",metrics.f1_score(test_label,predicted_test_label,average='weighted'))\n",
    "        f1_score_list.append(metrics.f1_score(test_label,predicted_test_label,average='weighted'))\n",
    "#         print(\"Done!*****************************************************\")\n",
    "        kindex += 1\n",
    "        \n",
    "    print(\"Method:\",method,\" Clf_num\",clf_num)\n",
    "    print(\"训练集准确率：\",np.array(train_score_list).mean())\n",
    "    print(\"测试集准确率：\",np.array(test_score_list).mean())\n",
    "    print(\"精确率：\",np.array(precision_score_list).mean())\n",
    "    print(\"召回率：\",np.array(recall_score_list).mean())\n",
    "    print(\"F1得分：\",np.array(f1_score_list).mean())"
   ]
  },
  {
   "cell_type": "code",
   "execution_count": 128,
   "metadata": {},
   "outputs": [
    {
     "name": "stdout",
     "output_type": "stream",
     "text": [
      "总样本数据维度： (722, 27)\n",
      "总样本标签维度： (722,)\n"
     ]
    },
    {
     "name": "stderr",
     "output_type": "stream",
     "text": [
      "C:\\Users\\admin\\Anaconda3\\envs\\UEX\\lib\\site-packages\\sklearn_rvm\\em_rvm.py:675: FutureWarning: The default value of gamma will change from 'auto' to 'scale' in version 0.22 to account better for unscaled features. Set gamma explicitly to 'auto' or 'scale' to avoid this warning.\n",
      "  warnings.warn(\"The default value of gamma will change \"\n"
     ]
    },
    {
     "name": "stdout",
     "output_type": "stream",
     "text": [
      "当前折训练集准确率： 0.9352850539291218\n",
      "当前折测试集准确率： 0.7671232876712328\n"
     ]
    },
    {
     "name": "stderr",
     "output_type": "stream",
     "text": [
      "C:\\Users\\admin\\Anaconda3\\envs\\UEX\\lib\\site-packages\\sklearn_rvm\\em_rvm.py:675: FutureWarning: The default value of gamma will change from 'auto' to 'scale' in version 0.22 to account better for unscaled features. Set gamma explicitly to 'auto' or 'scale' to avoid this warning.\n",
      "  warnings.warn(\"The default value of gamma will change \"\n"
     ]
    },
    {
     "name": "stdout",
     "output_type": "stream",
     "text": [
      "当前折训练集准确率： 0.9352850539291218\n",
      "当前折测试集准确率： 0.821917808219178\n"
     ]
    },
    {
     "name": "stderr",
     "output_type": "stream",
     "text": [
      "C:\\Users\\admin\\Anaconda3\\envs\\UEX\\lib\\site-packages\\sklearn_rvm\\em_rvm.py:675: FutureWarning: The default value of gamma will change from 'auto' to 'scale' in version 0.22 to account better for unscaled features. Set gamma explicitly to 'auto' or 'scale' to avoid this warning.\n",
      "  warnings.warn(\"The default value of gamma will change \"\n"
     ]
    },
    {
     "name": "stdout",
     "output_type": "stream",
     "text": [
      "当前折训练集准确率： 0.9523076923076923\n",
      "当前折测试集准确率： 0.8194444444444444\n"
     ]
    },
    {
     "name": "stderr",
     "output_type": "stream",
     "text": [
      "C:\\Users\\admin\\Anaconda3\\envs\\UEX\\lib\\site-packages\\sklearn_rvm\\em_rvm.py:675: FutureWarning: The default value of gamma will change from 'auto' to 'scale' in version 0.22 to account better for unscaled features. Set gamma explicitly to 'auto' or 'scale' to avoid this warning.\n",
      "  warnings.warn(\"The default value of gamma will change \"\n",
      "C:\\Users\\admin\\Anaconda3\\envs\\UEX\\lib\\site-packages\\sklearn_rvm\\em_rvm.py:581: RuntimeWarning: divide by zero encountered in log\n",
      "  np.sum(np.log(1 - y[t == 0]), 0))\n",
      "C:\\Users\\admin\\Anaconda3\\envs\\UEX\\lib\\site-packages\\sklearn_rvm\\em_rvm.py:581: RuntimeWarning: divide by zero encountered in log\n",
      "  np.sum(np.log(1 - y[t == 0]), 0))\n",
      "C:\\Users\\admin\\Anaconda3\\envs\\UEX\\lib\\site-packages\\sklearn_rvm\\em_rvm.py:581: RuntimeWarning: divide by zero encountered in log\n",
      "  np.sum(np.log(1 - y[t == 0]), 0))\n",
      "C:\\Users\\admin\\Anaconda3\\envs\\UEX\\lib\\site-packages\\sklearn_rvm\\em_rvm.py:581: RuntimeWarning: divide by zero encountered in log\n",
      "  np.sum(np.log(1 - y[t == 0]), 0))\n",
      "C:\\Users\\admin\\Anaconda3\\envs\\UEX\\lib\\site-packages\\sklearn_rvm\\em_rvm.py:581: RuntimeWarning: divide by zero encountered in log\n",
      "  np.sum(np.log(1 - y[t == 0]), 0))\n"
     ]
    },
    {
     "name": "stdout",
     "output_type": "stream",
     "text": [
      "当前折训练集准确率： 0.9384615384615385\n",
      "当前折测试集准确率： 0.875\n"
     ]
    },
    {
     "name": "stderr",
     "output_type": "stream",
     "text": [
      "C:\\Users\\admin\\Anaconda3\\envs\\UEX\\lib\\site-packages\\sklearn_rvm\\em_rvm.py:675: FutureWarning: The default value of gamma will change from 'auto' to 'scale' in version 0.22 to account better for unscaled features. Set gamma explicitly to 'auto' or 'scale' to avoid this warning.\n",
      "  warnings.warn(\"The default value of gamma will change \"\n",
      "C:\\Users\\admin\\Anaconda3\\envs\\UEX\\lib\\site-packages\\sklearn_rvm\\em_rvm.py:581: RuntimeWarning: divide by zero encountered in log\n",
      "  np.sum(np.log(1 - y[t == 0]), 0))\n"
     ]
    },
    {
     "name": "stdout",
     "output_type": "stream",
     "text": [
      "当前折训练集准确率： 0.9507692307692308\n",
      "当前折测试集准确率： 0.7638888888888888\n"
     ]
    },
    {
     "name": "stderr",
     "output_type": "stream",
     "text": [
      "C:\\Users\\admin\\Anaconda3\\envs\\UEX\\lib\\site-packages\\sklearn_rvm\\em_rvm.py:675: FutureWarning: The default value of gamma will change from 'auto' to 'scale' in version 0.22 to account better for unscaled features. Set gamma explicitly to 'auto' or 'scale' to avoid this warning.\n",
      "  warnings.warn(\"The default value of gamma will change \"\n",
      "C:\\Users\\admin\\Anaconda3\\envs\\UEX\\lib\\site-packages\\sklearn_rvm\\em_rvm.py:581: RuntimeWarning: divide by zero encountered in log\n",
      "  np.sum(np.log(1 - y[t == 0]), 0))\n"
     ]
    },
    {
     "name": "stdout",
     "output_type": "stream",
     "text": [
      "当前折训练集准确率： 0.9384615384615385\n",
      "当前折测试集准确率： 0.7638888888888888\n"
     ]
    },
    {
     "name": "stderr",
     "output_type": "stream",
     "text": [
      "C:\\Users\\admin\\Anaconda3\\envs\\UEX\\lib\\site-packages\\sklearn_rvm\\em_rvm.py:675: FutureWarning: The default value of gamma will change from 'auto' to 'scale' in version 0.22 to account better for unscaled features. Set gamma explicitly to 'auto' or 'scale' to avoid this warning.\n",
      "  warnings.warn(\"The default value of gamma will change \"\n",
      "C:\\Users\\admin\\Anaconda3\\envs\\UEX\\lib\\site-packages\\sklearn_rvm\\em_rvm.py:581: RuntimeWarning: divide by zero encountered in log\n",
      "  np.sum(np.log(1 - y[t == 0]), 0))\n",
      "C:\\Users\\admin\\Anaconda3\\envs\\UEX\\lib\\site-packages\\sklearn_rvm\\em_rvm.py:581: RuntimeWarning: divide by zero encountered in log\n",
      "  np.sum(np.log(1 - y[t == 0]), 0))\n"
     ]
    },
    {
     "name": "stdout",
     "output_type": "stream",
     "text": [
      "当前折训练集准确率： 0.9492307692307692\n",
      "当前折测试集准确率： 0.6805555555555556\n"
     ]
    },
    {
     "name": "stderr",
     "output_type": "stream",
     "text": [
      "C:\\Users\\admin\\Anaconda3\\envs\\UEX\\lib\\site-packages\\sklearn_rvm\\em_rvm.py:675: FutureWarning: The default value of gamma will change from 'auto' to 'scale' in version 0.22 to account better for unscaled features. Set gamma explicitly to 'auto' or 'scale' to avoid this warning.\n",
      "  warnings.warn(\"The default value of gamma will change \"\n"
     ]
    },
    {
     "name": "stdout",
     "output_type": "stream",
     "text": [
      "当前折训练集准确率： 0.9446153846153846\n",
      "当前折测试集准确率： 0.8194444444444444\n"
     ]
    },
    {
     "name": "stderr",
     "output_type": "stream",
     "text": [
      "C:\\Users\\admin\\Anaconda3\\envs\\UEX\\lib\\site-packages\\sklearn_rvm\\em_rvm.py:675: FutureWarning: The default value of gamma will change from 'auto' to 'scale' in version 0.22 to account better for unscaled features. Set gamma explicitly to 'auto' or 'scale' to avoid this warning.\n",
      "  warnings.warn(\"The default value of gamma will change \"\n"
     ]
    },
    {
     "name": "stdout",
     "output_type": "stream",
     "text": [
      "当前折训练集准确率： 0.9323076923076923\n",
      "当前折测试集准确率： 0.8472222222222222\n"
     ]
    },
    {
     "name": "stderr",
     "output_type": "stream",
     "text": [
      "C:\\Users\\admin\\Anaconda3\\envs\\UEX\\lib\\site-packages\\sklearn_rvm\\em_rvm.py:675: FutureWarning: The default value of gamma will change from 'auto' to 'scale' in version 0.22 to account better for unscaled features. Set gamma explicitly to 'auto' or 'scale' to avoid this warning.\n",
      "  warnings.warn(\"The default value of gamma will change \"\n",
      "C:\\Users\\admin\\Anaconda3\\envs\\UEX\\lib\\site-packages\\sklearn_rvm\\em_rvm.py:581: RuntimeWarning: divide by zero encountered in log\n",
      "  np.sum(np.log(1 - y[t == 0]), 0))\n",
      "C:\\Users\\admin\\Anaconda3\\envs\\UEX\\lib\\site-packages\\sklearn_rvm\\em_rvm.py:581: RuntimeWarning: divide by zero encountered in log\n",
      "  np.sum(np.log(1 - y[t == 0]), 0))\n"
     ]
    },
    {
     "name": "stdout",
     "output_type": "stream",
     "text": [
      "当前折训练集准确率： 0.9476923076923077\n",
      "当前折测试集准确率： 0.7222222222222222\n",
      "Method: RVM  Clf_num 2\n",
      "训练集准确率： 0.9424416261704396\n",
      "测试集准确率： 0.7880707762557078\n",
      "精确率： 0.7934332628340467\n",
      "召回率： 0.7880707762557078\n",
      "F1得分： 0.787088339186093\n",
      "总样本数据维度： (477, 27)\n",
      "总样本标签维度： (477,)\n"
     ]
    },
    {
     "name": "stderr",
     "output_type": "stream",
     "text": [
      "C:\\Users\\admin\\Anaconda3\\envs\\UEX\\lib\\site-packages\\sklearn_rvm\\em_rvm.py:675: FutureWarning: The default value of gamma will change from 'auto' to 'scale' in version 0.22 to account better for unscaled features. Set gamma explicitly to 'auto' or 'scale' to avoid this warning.\n",
      "  warnings.warn(\"The default value of gamma will change \"\n",
      "C:\\Users\\admin\\Anaconda3\\envs\\UEX\\lib\\site-packages\\sklearn_rvm\\em_rvm.py:675: FutureWarning: The default value of gamma will change from 'auto' to 'scale' in version 0.22 to account better for unscaled features. Set gamma explicitly to 'auto' or 'scale' to avoid this warning.\n",
      "  warnings.warn(\"The default value of gamma will change \"\n",
      "C:\\Users\\admin\\Anaconda3\\envs\\UEX\\lib\\site-packages\\sklearn_rvm\\em_rvm.py:581: RuntimeWarning: divide by zero encountered in log\n",
      "  np.sum(np.log(1 - y[t == 0]), 0))\n",
      "C:\\Users\\admin\\Anaconda3\\envs\\UEX\\lib\\site-packages\\sklearn_rvm\\em_rvm.py:581: RuntimeWarning: divide by zero encountered in log\n",
      "  np.sum(np.log(1 - y[t == 0]), 0))\n",
      "C:\\Users\\admin\\Anaconda3\\envs\\UEX\\lib\\site-packages\\sklearn_rvm\\em_rvm.py:675: FutureWarning: The default value of gamma will change from 'auto' to 'scale' in version 0.22 to account better for unscaled features. Set gamma explicitly to 'auto' or 'scale' to avoid this warning.\n",
      "  warnings.warn(\"The default value of gamma will change \"\n",
      "C:\\Users\\admin\\Anaconda3\\envs\\UEX\\lib\\site-packages\\sklearn_rvm\\em_rvm.py:675: FutureWarning: The default value of gamma will change from 'auto' to 'scale' in version 0.22 to account better for unscaled features. Set gamma explicitly to 'auto' or 'scale' to avoid this warning.\n",
      "  warnings.warn(\"The default value of gamma will change \"\n",
      "C:\\Users\\admin\\Anaconda3\\envs\\UEX\\lib\\site-packages\\sklearn_rvm\\em_rvm.py:581: RuntimeWarning: divide by zero encountered in log\n",
      "  np.sum(np.log(1 - y[t == 0]), 0))\n",
      "C:\\Users\\admin\\Anaconda3\\envs\\UEX\\lib\\site-packages\\sklearn_rvm\\em_rvm.py:581: RuntimeWarning: divide by zero encountered in log\n",
      "  np.sum(np.log(1 - y[t == 0]), 0))\n",
      "C:\\Users\\admin\\Anaconda3\\envs\\UEX\\lib\\site-packages\\sklearn_rvm\\em_rvm.py:581: RuntimeWarning: divide by zero encountered in log\n",
      "  np.sum(np.log(1 - y[t == 0]), 0))\n",
      "C:\\Users\\admin\\Anaconda3\\envs\\UEX\\lib\\site-packages\\sklearn_rvm\\em_rvm.py:581: RuntimeWarning: divide by zero encountered in log\n",
      "  np.sum(np.log(1 - y[t == 0]), 0))\n"
     ]
    },
    {
     "name": "stdout",
     "output_type": "stream",
     "text": [
      "当前折训练集准确率： 0.9044289044289044\n",
      "当前折测试集准确率： 0.5833333333333334\n"
     ]
    },
    {
     "name": "stderr",
     "output_type": "stream",
     "text": [
      "C:\\Users\\admin\\Anaconda3\\envs\\UEX\\lib\\site-packages\\sklearn_rvm\\em_rvm.py:675: FutureWarning: The default value of gamma will change from 'auto' to 'scale' in version 0.22 to account better for unscaled features. Set gamma explicitly to 'auto' or 'scale' to avoid this warning.\n",
      "  warnings.warn(\"The default value of gamma will change \"\n",
      "C:\\Users\\admin\\Anaconda3\\envs\\UEX\\lib\\site-packages\\sklearn_rvm\\em_rvm.py:675: FutureWarning: The default value of gamma will change from 'auto' to 'scale' in version 0.22 to account better for unscaled features. Set gamma explicitly to 'auto' or 'scale' to avoid this warning.\n",
      "  warnings.warn(\"The default value of gamma will change \"\n",
      "C:\\Users\\admin\\Anaconda3\\envs\\UEX\\lib\\site-packages\\sklearn_rvm\\em_rvm.py:581: RuntimeWarning: divide by zero encountered in log\n",
      "  np.sum(np.log(1 - y[t == 0]), 0))\n",
      "C:\\Users\\admin\\Anaconda3\\envs\\UEX\\lib\\site-packages\\sklearn_rvm\\em_rvm.py:581: RuntimeWarning: divide by zero encountered in log\n",
      "  np.sum(np.log(1 - y[t == 0]), 0))\n",
      "C:\\Users\\admin\\Anaconda3\\envs\\UEX\\lib\\site-packages\\sklearn_rvm\\em_rvm.py:675: FutureWarning: The default value of gamma will change from 'auto' to 'scale' in version 0.22 to account better for unscaled features. Set gamma explicitly to 'auto' or 'scale' to avoid this warning.\n",
      "  warnings.warn(\"The default value of gamma will change \"\n",
      "C:\\Users\\admin\\Anaconda3\\envs\\UEX\\lib\\site-packages\\sklearn_rvm\\em_rvm.py:675: FutureWarning: The default value of gamma will change from 'auto' to 'scale' in version 0.22 to account better for unscaled features. Set gamma explicitly to 'auto' or 'scale' to avoid this warning.\n",
      "  warnings.warn(\"The default value of gamma will change \"\n",
      "C:\\Users\\admin\\Anaconda3\\envs\\UEX\\lib\\site-packages\\sklearn_rvm\\em_rvm.py:581: RuntimeWarning: divide by zero encountered in log\n",
      "  np.sum(np.log(1 - y[t == 0]), 0))\n"
     ]
    },
    {
     "name": "stdout",
     "output_type": "stream",
     "text": [
      "当前折训练集准确率： 0.9184149184149184\n",
      "当前折测试集准确率： 0.5\n"
     ]
    },
    {
     "name": "stderr",
     "output_type": "stream",
     "text": [
      "C:\\Users\\admin\\Anaconda3\\envs\\UEX\\lib\\site-packages\\sklearn\\metrics\\_classification.py:1318: UndefinedMetricWarning: Precision is ill-defined and being set to 0.0 in labels with no predicted samples. Use `zero_division` parameter to control this behavior.\n",
      "  _warn_prf(average, modifier, msg_start, len(result))\n",
      "C:\\Users\\admin\\Anaconda3\\envs\\UEX\\lib\\site-packages\\sklearn_rvm\\em_rvm.py:675: FutureWarning: The default value of gamma will change from 'auto' to 'scale' in version 0.22 to account better for unscaled features. Set gamma explicitly to 'auto' or 'scale' to avoid this warning.\n",
      "  warnings.warn(\"The default value of gamma will change \"\n",
      "C:\\Users\\admin\\Anaconda3\\envs\\UEX\\lib\\site-packages\\sklearn_rvm\\em_rvm.py:675: FutureWarning: The default value of gamma will change from 'auto' to 'scale' in version 0.22 to account better for unscaled features. Set gamma explicitly to 'auto' or 'scale' to avoid this warning.\n",
      "  warnings.warn(\"The default value of gamma will change \"\n",
      "C:\\Users\\admin\\Anaconda3\\envs\\UEX\\lib\\site-packages\\sklearn_rvm\\em_rvm.py:675: FutureWarning: The default value of gamma will change from 'auto' to 'scale' in version 0.22 to account better for unscaled features. Set gamma explicitly to 'auto' or 'scale' to avoid this warning.\n",
      "  warnings.warn(\"The default value of gamma will change \"\n",
      "C:\\Users\\admin\\Anaconda3\\envs\\UEX\\lib\\site-packages\\sklearn_rvm\\em_rvm.py:675: FutureWarning: The default value of gamma will change from 'auto' to 'scale' in version 0.22 to account better for unscaled features. Set gamma explicitly to 'auto' or 'scale' to avoid this warning.\n",
      "  warnings.warn(\"The default value of gamma will change \"\n"
     ]
    },
    {
     "name": "stdout",
     "output_type": "stream",
     "text": [
      "当前折训练集准确率： 0.9207459207459208\n",
      "当前折测试集准确率： 0.4166666666666667\n"
     ]
    },
    {
     "name": "stderr",
     "output_type": "stream",
     "text": [
      "C:\\Users\\admin\\Anaconda3\\envs\\UEX\\lib\\site-packages\\sklearn_rvm\\em_rvm.py:675: FutureWarning: The default value of gamma will change from 'auto' to 'scale' in version 0.22 to account better for unscaled features. Set gamma explicitly to 'auto' or 'scale' to avoid this warning.\n",
      "  warnings.warn(\"The default value of gamma will change \"\n",
      "C:\\Users\\admin\\Anaconda3\\envs\\UEX\\lib\\site-packages\\sklearn_rvm\\em_rvm.py:675: FutureWarning: The default value of gamma will change from 'auto' to 'scale' in version 0.22 to account better for unscaled features. Set gamma explicitly to 'auto' or 'scale' to avoid this warning.\n",
      "  warnings.warn(\"The default value of gamma will change \"\n",
      "C:\\Users\\admin\\Anaconda3\\envs\\UEX\\lib\\site-packages\\sklearn_rvm\\em_rvm.py:675: FutureWarning: The default value of gamma will change from 'auto' to 'scale' in version 0.22 to account better for unscaled features. Set gamma explicitly to 'auto' or 'scale' to avoid this warning.\n",
      "  warnings.warn(\"The default value of gamma will change \"\n",
      "C:\\Users\\admin\\Anaconda3\\envs\\UEX\\lib\\site-packages\\sklearn_rvm\\em_rvm.py:675: FutureWarning: The default value of gamma will change from 'auto' to 'scale' in version 0.22 to account better for unscaled features. Set gamma explicitly to 'auto' or 'scale' to avoid this warning.\n",
      "  warnings.warn(\"The default value of gamma will change \"\n",
      "C:\\Users\\admin\\Anaconda3\\envs\\UEX\\lib\\site-packages\\sklearn_rvm\\em_rvm.py:581: RuntimeWarning: divide by zero encountered in log\n",
      "  np.sum(np.log(1 - y[t == 0]), 0))\n",
      "C:\\Users\\admin\\Anaconda3\\envs\\UEX\\lib\\site-packages\\sklearn_rvm\\em_rvm.py:581: RuntimeWarning: divide by zero encountered in log\n",
      "  np.sum(np.log(1 - y[t == 0]), 0))\n"
     ]
    },
    {
     "name": "stdout",
     "output_type": "stream",
     "text": [
      "当前折训练集准确率： 0.8974358974358975\n",
      "当前折测试集准确率： 0.5625\n"
     ]
    },
    {
     "name": "stderr",
     "output_type": "stream",
     "text": [
      "C:\\Users\\admin\\Anaconda3\\envs\\UEX\\lib\\site-packages\\sklearn_rvm\\em_rvm.py:675: FutureWarning: The default value of gamma will change from 'auto' to 'scale' in version 0.22 to account better for unscaled features. Set gamma explicitly to 'auto' or 'scale' to avoid this warning.\n",
      "  warnings.warn(\"The default value of gamma will change \"\n",
      "C:\\Users\\admin\\Anaconda3\\envs\\UEX\\lib\\site-packages\\sklearn_rvm\\em_rvm.py:675: FutureWarning: The default value of gamma will change from 'auto' to 'scale' in version 0.22 to account better for unscaled features. Set gamma explicitly to 'auto' or 'scale' to avoid this warning.\n",
      "  warnings.warn(\"The default value of gamma will change \"\n",
      "C:\\Users\\admin\\Anaconda3\\envs\\UEX\\lib\\site-packages\\sklearn_rvm\\em_rvm.py:675: FutureWarning: The default value of gamma will change from 'auto' to 'scale' in version 0.22 to account better for unscaled features. Set gamma explicitly to 'auto' or 'scale' to avoid this warning.\n",
      "  warnings.warn(\"The default value of gamma will change \"\n",
      "C:\\Users\\admin\\Anaconda3\\envs\\UEX\\lib\\site-packages\\sklearn_rvm\\em_rvm.py:675: FutureWarning: The default value of gamma will change from 'auto' to 'scale' in version 0.22 to account better for unscaled features. Set gamma explicitly to 'auto' or 'scale' to avoid this warning.\n",
      "  warnings.warn(\"The default value of gamma will change \"\n",
      "C:\\Users\\admin\\Anaconda3\\envs\\UEX\\lib\\site-packages\\sklearn_rvm\\em_rvm.py:581: RuntimeWarning: divide by zero encountered in log\n",
      "  np.sum(np.log(1 - y[t == 0]), 0))\n"
     ]
    },
    {
     "name": "stdout",
     "output_type": "stream",
     "text": [
      "当前折训练集准确率： 0.916083916083916\n",
      "当前折测试集准确率： 0.5833333333333334\n"
     ]
    },
    {
     "name": "stderr",
     "output_type": "stream",
     "text": [
      "C:\\Users\\admin\\Anaconda3\\envs\\UEX\\lib\\site-packages\\sklearn_rvm\\em_rvm.py:675: FutureWarning: The default value of gamma will change from 'auto' to 'scale' in version 0.22 to account better for unscaled features. Set gamma explicitly to 'auto' or 'scale' to avoid this warning.\n",
      "  warnings.warn(\"The default value of gamma will change \"\n",
      "C:\\Users\\admin\\Anaconda3\\envs\\UEX\\lib\\site-packages\\sklearn_rvm\\em_rvm.py:675: FutureWarning: The default value of gamma will change from 'auto' to 'scale' in version 0.22 to account better for unscaled features. Set gamma explicitly to 'auto' or 'scale' to avoid this warning.\n",
      "  warnings.warn(\"The default value of gamma will change \"\n",
      "C:\\Users\\admin\\Anaconda3\\envs\\UEX\\lib\\site-packages\\sklearn_rvm\\em_rvm.py:675: FutureWarning: The default value of gamma will change from 'auto' to 'scale' in version 0.22 to account better for unscaled features. Set gamma explicitly to 'auto' or 'scale' to avoid this warning.\n",
      "  warnings.warn(\"The default value of gamma will change \"\n",
      "C:\\Users\\admin\\Anaconda3\\envs\\UEX\\lib\\site-packages\\sklearn_rvm\\em_rvm.py:581: RuntimeWarning: divide by zero encountered in log\n",
      "  np.sum(np.log(1 - y[t == 0]), 0))\n",
      "C:\\Users\\admin\\Anaconda3\\envs\\UEX\\lib\\site-packages\\sklearn_rvm\\em_rvm.py:675: FutureWarning: The default value of gamma will change from 'auto' to 'scale' in version 0.22 to account better for unscaled features. Set gamma explicitly to 'auto' or 'scale' to avoid this warning.\n",
      "  warnings.warn(\"The default value of gamma will change \"\n"
     ]
    },
    {
     "name": "stdout",
     "output_type": "stream",
     "text": [
      "当前折训练集准确率： 0.9184149184149184\n",
      "当前折测试集准确率： 0.5\n"
     ]
    },
    {
     "name": "stderr",
     "output_type": "stream",
     "text": [
      "C:\\Users\\admin\\Anaconda3\\envs\\UEX\\lib\\site-packages\\sklearn_rvm\\em_rvm.py:675: FutureWarning: The default value of gamma will change from 'auto' to 'scale' in version 0.22 to account better for unscaled features. Set gamma explicitly to 'auto' or 'scale' to avoid this warning.\n",
      "  warnings.warn(\"The default value of gamma will change \"\n",
      "C:\\Users\\admin\\Anaconda3\\envs\\UEX\\lib\\site-packages\\sklearn_rvm\\em_rvm.py:675: FutureWarning: The default value of gamma will change from 'auto' to 'scale' in version 0.22 to account better for unscaled features. Set gamma explicitly to 'auto' or 'scale' to avoid this warning.\n",
      "  warnings.warn(\"The default value of gamma will change \"\n",
      "C:\\Users\\admin\\Anaconda3\\envs\\UEX\\lib\\site-packages\\sklearn_rvm\\em_rvm.py:675: FutureWarning: The default value of gamma will change from 'auto' to 'scale' in version 0.22 to account better for unscaled features. Set gamma explicitly to 'auto' or 'scale' to avoid this warning.\n",
      "  warnings.warn(\"The default value of gamma will change \"\n",
      "C:\\Users\\admin\\Anaconda3\\envs\\UEX\\lib\\site-packages\\sklearn_rvm\\em_rvm.py:581: RuntimeWarning: divide by zero encountered in log\n",
      "  np.sum(np.log(1 - y[t == 0]), 0))\n",
      "C:\\Users\\admin\\Anaconda3\\envs\\UEX\\lib\\site-packages\\sklearn_rvm\\em_rvm.py:675: FutureWarning: The default value of gamma will change from 'auto' to 'scale' in version 0.22 to account better for unscaled features. Set gamma explicitly to 'auto' or 'scale' to avoid this warning.\n",
      "  warnings.warn(\"The default value of gamma will change \"\n"
     ]
    },
    {
     "name": "stdout",
     "output_type": "stream",
     "text": [
      "当前折训练集准确率： 0.8997668997668997\n",
      "当前折测试集准确率： 0.5\n"
     ]
    },
    {
     "name": "stderr",
     "output_type": "stream",
     "text": [
      "C:\\Users\\admin\\Anaconda3\\envs\\UEX\\lib\\site-packages\\sklearn_rvm\\em_rvm.py:675: FutureWarning: The default value of gamma will change from 'auto' to 'scale' in version 0.22 to account better for unscaled features. Set gamma explicitly to 'auto' or 'scale' to avoid this warning.\n",
      "  warnings.warn(\"The default value of gamma will change \"\n",
      "C:\\Users\\admin\\Anaconda3\\envs\\UEX\\lib\\site-packages\\sklearn_rvm\\em_rvm.py:675: FutureWarning: The default value of gamma will change from 'auto' to 'scale' in version 0.22 to account better for unscaled features. Set gamma explicitly to 'auto' or 'scale' to avoid this warning.\n",
      "  warnings.warn(\"The default value of gamma will change \"\n",
      "C:\\Users\\admin\\Anaconda3\\envs\\UEX\\lib\\site-packages\\sklearn_rvm\\em_rvm.py:581: RuntimeWarning: divide by zero encountered in log\n",
      "  np.sum(np.log(1 - y[t == 0]), 0))\n",
      "C:\\Users\\admin\\Anaconda3\\envs\\UEX\\lib\\site-packages\\sklearn_rvm\\em_rvm.py:675: FutureWarning: The default value of gamma will change from 'auto' to 'scale' in version 0.22 to account better for unscaled features. Set gamma explicitly to 'auto' or 'scale' to avoid this warning.\n",
      "  warnings.warn(\"The default value of gamma will change \"\n",
      "C:\\Users\\admin\\Anaconda3\\envs\\UEX\\lib\\site-packages\\sklearn_rvm\\em_rvm.py:675: FutureWarning: The default value of gamma will change from 'auto' to 'scale' in version 0.22 to account better for unscaled features. Set gamma explicitly to 'auto' or 'scale' to avoid this warning.\n",
      "  warnings.warn(\"The default value of gamma will change \"\n",
      "C:\\Users\\admin\\Anaconda3\\envs\\UEX\\lib\\site-packages\\sklearn_rvm\\em_rvm.py:581: RuntimeWarning: divide by zero encountered in log\n",
      "  np.sum(np.log(1 - y[t == 0]), 0))\n",
      "C:\\Users\\admin\\Anaconda3\\envs\\UEX\\lib\\site-packages\\sklearn_rvm\\em_rvm.py:581: RuntimeWarning: divide by zero encountered in log\n",
      "  np.sum(np.log(1 - y[t == 0]), 0))\n"
     ]
    },
    {
     "name": "stdout",
     "output_type": "stream",
     "text": [
      "当前折训练集准确率： 0.8953488372093024\n",
      "当前折测试集准确率： 0.5106382978723404\n"
     ]
    },
    {
     "name": "stderr",
     "output_type": "stream",
     "text": [
      "C:\\Users\\admin\\Anaconda3\\envs\\UEX\\lib\\site-packages\\sklearn_rvm\\em_rvm.py:675: FutureWarning: The default value of gamma will change from 'auto' to 'scale' in version 0.22 to account better for unscaled features. Set gamma explicitly to 'auto' or 'scale' to avoid this warning.\n",
      "  warnings.warn(\"The default value of gamma will change \"\n",
      "C:\\Users\\admin\\Anaconda3\\envs\\UEX\\lib\\site-packages\\sklearn_rvm\\em_rvm.py:675: FutureWarning: The default value of gamma will change from 'auto' to 'scale' in version 0.22 to account better for unscaled features. Set gamma explicitly to 'auto' or 'scale' to avoid this warning.\n",
      "  warnings.warn(\"The default value of gamma will change \"\n",
      "C:\\Users\\admin\\Anaconda3\\envs\\UEX\\lib\\site-packages\\sklearn_rvm\\em_rvm.py:675: FutureWarning: The default value of gamma will change from 'auto' to 'scale' in version 0.22 to account better for unscaled features. Set gamma explicitly to 'auto' or 'scale' to avoid this warning.\n",
      "  warnings.warn(\"The default value of gamma will change \"\n",
      "C:\\Users\\admin\\Anaconda3\\envs\\UEX\\lib\\site-packages\\sklearn_rvm\\em_rvm.py:675: FutureWarning: The default value of gamma will change from 'auto' to 'scale' in version 0.22 to account better for unscaled features. Set gamma explicitly to 'auto' or 'scale' to avoid this warning.\n",
      "  warnings.warn(\"The default value of gamma will change \"\n",
      "C:\\Users\\admin\\Anaconda3\\envs\\UEX\\lib\\site-packages\\sklearn_rvm\\em_rvm.py:581: RuntimeWarning: divide by zero encountered in log\n",
      "  np.sum(np.log(1 - y[t == 0]), 0))\n"
     ]
    },
    {
     "name": "stdout",
     "output_type": "stream",
     "text": [
      "当前折训练集准确率： 0.8906976744186047\n",
      "当前折测试集准确率： 0.46808510638297873\n"
     ]
    },
    {
     "name": "stderr",
     "output_type": "stream",
     "text": [
      "C:\\Users\\admin\\Anaconda3\\envs\\UEX\\lib\\site-packages\\sklearn_rvm\\em_rvm.py:675: FutureWarning: The default value of gamma will change from 'auto' to 'scale' in version 0.22 to account better for unscaled features. Set gamma explicitly to 'auto' or 'scale' to avoid this warning.\n",
      "  warnings.warn(\"The default value of gamma will change \"\n",
      "C:\\Users\\admin\\Anaconda3\\envs\\UEX\\lib\\site-packages\\sklearn_rvm\\em_rvm.py:675: FutureWarning: The default value of gamma will change from 'auto' to 'scale' in version 0.22 to account better for unscaled features. Set gamma explicitly to 'auto' or 'scale' to avoid this warning.\n",
      "  warnings.warn(\"The default value of gamma will change \"\n",
      "C:\\Users\\admin\\Anaconda3\\envs\\UEX\\lib\\site-packages\\sklearn_rvm\\em_rvm.py:581: RuntimeWarning: divide by zero encountered in log\n",
      "  np.sum(np.log(1 - y[t == 0]), 0))\n",
      "C:\\Users\\admin\\Anaconda3\\envs\\UEX\\lib\\site-packages\\sklearn_rvm\\em_rvm.py:675: FutureWarning: The default value of gamma will change from 'auto' to 'scale' in version 0.22 to account better for unscaled features. Set gamma explicitly to 'auto' or 'scale' to avoid this warning.\n",
      "  warnings.warn(\"The default value of gamma will change \"\n",
      "C:\\Users\\admin\\Anaconda3\\envs\\UEX\\lib\\site-packages\\sklearn_rvm\\em_rvm.py:581: RuntimeWarning: divide by zero encountered in log\n",
      "  np.sum(np.log(1 - y[t == 0]), 0))\n",
      "C:\\Users\\admin\\Anaconda3\\envs\\UEX\\lib\\site-packages\\sklearn_rvm\\em_rvm.py:581: RuntimeWarning: divide by zero encountered in log\n",
      "  np.sum(np.log(1 - y[t == 0]), 0))\n",
      "C:\\Users\\admin\\Anaconda3\\envs\\UEX\\lib\\site-packages\\sklearn_rvm\\em_rvm.py:675: FutureWarning: The default value of gamma will change from 'auto' to 'scale' in version 0.22 to account better for unscaled features. Set gamma explicitly to 'auto' or 'scale' to avoid this warning.\n",
      "  warnings.warn(\"The default value of gamma will change \"\n",
      "C:\\Users\\admin\\Anaconda3\\envs\\UEX\\lib\\site-packages\\sklearn_rvm\\em_rvm.py:581: RuntimeWarning: divide by zero encountered in log\n",
      "  np.sum(np.log(1 - y[t == 0]), 0))\n"
     ]
    },
    {
     "name": "stdout",
     "output_type": "stream",
     "text": [
      "当前折训练集准确率： 0.9\n",
      "当前折测试集准确率： 0.5957446808510638\n",
      "Method: RVM  Clf_num 3\n",
      "训练集准确率： 0.9061337886919283\n",
      "测试集准确率： 0.5220301418439718\n",
      "精确率： 0.5260835573657937\n",
      "召回率： 0.5220301418439718\n",
      "F1得分： 0.5027939068189571\n",
      "总样本数据维度： (416, 27)\n",
      "总样本标签维度： (416,)\n"
     ]
    },
    {
     "name": "stderr",
     "output_type": "stream",
     "text": [
      "C:\\Users\\admin\\Anaconda3\\envs\\UEX\\lib\\site-packages\\sklearn_rvm\\em_rvm.py:675: FutureWarning: The default value of gamma will change from 'auto' to 'scale' in version 0.22 to account better for unscaled features. Set gamma explicitly to 'auto' or 'scale' to avoid this warning.\n",
      "  warnings.warn(\"The default value of gamma will change \"\n",
      "C:\\Users\\admin\\Anaconda3\\envs\\UEX\\lib\\site-packages\\sklearn_rvm\\em_rvm.py:675: FutureWarning: The default value of gamma will change from 'auto' to 'scale' in version 0.22 to account better for unscaled features. Set gamma explicitly to 'auto' or 'scale' to avoid this warning.\n",
      "  warnings.warn(\"The default value of gamma will change \"\n",
      "C:\\Users\\admin\\Anaconda3\\envs\\UEX\\lib\\site-packages\\sklearn_rvm\\em_rvm.py:581: RuntimeWarning: divide by zero encountered in log\n",
      "  np.sum(np.log(1 - y[t == 0]), 0))\n",
      "C:\\Users\\admin\\Anaconda3\\envs\\UEX\\lib\\site-packages\\sklearn_rvm\\em_rvm.py:675: FutureWarning: The default value of gamma will change from 'auto' to 'scale' in version 0.22 to account better for unscaled features. Set gamma explicitly to 'auto' or 'scale' to avoid this warning.\n",
      "  warnings.warn(\"The default value of gamma will change \"\n",
      "C:\\Users\\admin\\Anaconda3\\envs\\UEX\\lib\\site-packages\\sklearn_rvm\\em_rvm.py:675: FutureWarning: The default value of gamma will change from 'auto' to 'scale' in version 0.22 to account better for unscaled features. Set gamma explicitly to 'auto' or 'scale' to avoid this warning.\n",
      "  warnings.warn(\"The default value of gamma will change \"\n",
      "C:\\Users\\admin\\Anaconda3\\envs\\UEX\\lib\\site-packages\\sklearn_rvm\\em_rvm.py:675: FutureWarning: The default value of gamma will change from 'auto' to 'scale' in version 0.22 to account better for unscaled features. Set gamma explicitly to 'auto' or 'scale' to avoid this warning.\n",
      "  warnings.warn(\"The default value of gamma will change \"\n",
      "C:\\Users\\admin\\Anaconda3\\envs\\UEX\\lib\\site-packages\\sklearn_rvm\\em_rvm.py:581: RuntimeWarning: divide by zero encountered in log\n",
      "  np.sum(np.log(1 - y[t == 0]), 0))\n"
     ]
    },
    {
     "name": "stdout",
     "output_type": "stream",
     "text": [
      "当前折训练集准确率： 0.9331550802139037\n",
      "当前折测试集准确率： 0.42857142857142855\n"
     ]
    },
    {
     "name": "stderr",
     "output_type": "stream",
     "text": [
      "C:\\Users\\admin\\Anaconda3\\envs\\UEX\\lib\\site-packages\\sklearn_rvm\\em_rvm.py:675: FutureWarning: The default value of gamma will change from 'auto' to 'scale' in version 0.22 to account better for unscaled features. Set gamma explicitly to 'auto' or 'scale' to avoid this warning.\n",
      "  warnings.warn(\"The default value of gamma will change \"\n",
      "C:\\Users\\admin\\Anaconda3\\envs\\UEX\\lib\\site-packages\\sklearn_rvm\\em_rvm.py:675: FutureWarning: The default value of gamma will change from 'auto' to 'scale' in version 0.22 to account better for unscaled features. Set gamma explicitly to 'auto' or 'scale' to avoid this warning.\n",
      "  warnings.warn(\"The default value of gamma will change \"\n",
      "C:\\Users\\admin\\Anaconda3\\envs\\UEX\\lib\\site-packages\\sklearn_rvm\\em_rvm.py:581: RuntimeWarning: divide by zero encountered in log\n",
      "  np.sum(np.log(1 - y[t == 0]), 0))\n",
      "C:\\Users\\admin\\Anaconda3\\envs\\UEX\\lib\\site-packages\\sklearn_rvm\\em_rvm.py:675: FutureWarning: The default value of gamma will change from 'auto' to 'scale' in version 0.22 to account better for unscaled features. Set gamma explicitly to 'auto' or 'scale' to avoid this warning.\n",
      "  warnings.warn(\"The default value of gamma will change \"\n",
      "C:\\Users\\admin\\Anaconda3\\envs\\UEX\\lib\\site-packages\\sklearn_rvm\\em_rvm.py:581: RuntimeWarning: divide by zero encountered in log\n",
      "  np.sum(np.log(1 - y[t == 0]), 0))\n",
      "C:\\Users\\admin\\Anaconda3\\envs\\UEX\\lib\\site-packages\\sklearn_rvm\\em_rvm.py:675: FutureWarning: The default value of gamma will change from 'auto' to 'scale' in version 0.22 to account better for unscaled features. Set gamma explicitly to 'auto' or 'scale' to avoid this warning.\n",
      "  warnings.warn(\"The default value of gamma will change \"\n",
      "C:\\Users\\admin\\Anaconda3\\envs\\UEX\\lib\\site-packages\\sklearn_rvm\\em_rvm.py:675: FutureWarning: The default value of gamma will change from 'auto' to 'scale' in version 0.22 to account better for unscaled features. Set gamma explicitly to 'auto' or 'scale' to avoid this warning.\n",
      "  warnings.warn(\"The default value of gamma will change \"\n",
      "C:\\Users\\admin\\Anaconda3\\envs\\UEX\\lib\\site-packages\\sklearn_rvm\\em_rvm.py:581: RuntimeWarning: divide by zero encountered in log\n",
      "  np.sum(np.log(1 - y[t == 0]), 0))\n",
      "C:\\Users\\admin\\Anaconda3\\envs\\UEX\\lib\\site-packages\\sklearn_rvm\\em_rvm.py:581: RuntimeWarning: divide by zero encountered in log\n",
      "  np.sum(np.log(1 - y[t == 0]), 0))\n"
     ]
    },
    {
     "name": "stdout",
     "output_type": "stream",
     "text": [
      "当前折训练集准确率： 0.946524064171123\n",
      "当前折测试集准确率： 0.6190476190476191\n"
     ]
    },
    {
     "name": "stderr",
     "output_type": "stream",
     "text": [
      "C:\\Users\\admin\\Anaconda3\\envs\\UEX\\lib\\site-packages\\sklearn_rvm\\em_rvm.py:675: FutureWarning: The default value of gamma will change from 'auto' to 'scale' in version 0.22 to account better for unscaled features. Set gamma explicitly to 'auto' or 'scale' to avoid this warning.\n",
      "  warnings.warn(\"The default value of gamma will change \"\n",
      "C:\\Users\\admin\\Anaconda3\\envs\\UEX\\lib\\site-packages\\sklearn_rvm\\em_rvm.py:675: FutureWarning: The default value of gamma will change from 'auto' to 'scale' in version 0.22 to account better for unscaled features. Set gamma explicitly to 'auto' or 'scale' to avoid this warning.\n",
      "  warnings.warn(\"The default value of gamma will change \"\n",
      "C:\\Users\\admin\\Anaconda3\\envs\\UEX\\lib\\site-packages\\sklearn_rvm\\em_rvm.py:675: FutureWarning: The default value of gamma will change from 'auto' to 'scale' in version 0.22 to account better for unscaled features. Set gamma explicitly to 'auto' or 'scale' to avoid this warning.\n",
      "  warnings.warn(\"The default value of gamma will change \"\n",
      "C:\\Users\\admin\\Anaconda3\\envs\\UEX\\lib\\site-packages\\sklearn_rvm\\em_rvm.py:675: FutureWarning: The default value of gamma will change from 'auto' to 'scale' in version 0.22 to account better for unscaled features. Set gamma explicitly to 'auto' or 'scale' to avoid this warning.\n",
      "  warnings.warn(\"The default value of gamma will change \"\n",
      "C:\\Users\\admin\\Anaconda3\\envs\\UEX\\lib\\site-packages\\sklearn_rvm\\em_rvm.py:675: FutureWarning: The default value of gamma will change from 'auto' to 'scale' in version 0.22 to account better for unscaled features. Set gamma explicitly to 'auto' or 'scale' to avoid this warning.\n",
      "  warnings.warn(\"The default value of gamma will change \"\n"
     ]
    },
    {
     "name": "stdout",
     "output_type": "stream",
     "text": [
      "当前折训练集准确率： 0.9411764705882353\n",
      "当前折测试集准确率： 0.5714285714285714\n"
     ]
    },
    {
     "name": "stderr",
     "output_type": "stream",
     "text": [
      "C:\\Users\\admin\\Anaconda3\\envs\\UEX\\lib\\site-packages\\sklearn_rvm\\em_rvm.py:675: FutureWarning: The default value of gamma will change from 'auto' to 'scale' in version 0.22 to account better for unscaled features. Set gamma explicitly to 'auto' or 'scale' to avoid this warning.\n",
      "  warnings.warn(\"The default value of gamma will change \"\n",
      "C:\\Users\\admin\\Anaconda3\\envs\\UEX\\lib\\site-packages\\sklearn_rvm\\em_rvm.py:675: FutureWarning: The default value of gamma will change from 'auto' to 'scale' in version 0.22 to account better for unscaled features. Set gamma explicitly to 'auto' or 'scale' to avoid this warning.\n",
      "  warnings.warn(\"The default value of gamma will change \"\n",
      "C:\\Users\\admin\\Anaconda3\\envs\\UEX\\lib\\site-packages\\sklearn_rvm\\em_rvm.py:675: FutureWarning: The default value of gamma will change from 'auto' to 'scale' in version 0.22 to account better for unscaled features. Set gamma explicitly to 'auto' or 'scale' to avoid this warning.\n",
      "  warnings.warn(\"The default value of gamma will change \"\n",
      "C:\\Users\\admin\\Anaconda3\\envs\\UEX\\lib\\site-packages\\sklearn_rvm\\em_rvm.py:675: FutureWarning: The default value of gamma will change from 'auto' to 'scale' in version 0.22 to account better for unscaled features. Set gamma explicitly to 'auto' or 'scale' to avoid this warning.\n",
      "  warnings.warn(\"The default value of gamma will change \"\n",
      "C:\\Users\\admin\\Anaconda3\\envs\\UEX\\lib\\site-packages\\sklearn_rvm\\em_rvm.py:675: FutureWarning: The default value of gamma will change from 'auto' to 'scale' in version 0.22 to account better for unscaled features. Set gamma explicitly to 'auto' or 'scale' to avoid this warning.\n",
      "  warnings.warn(\"The default value of gamma will change \"\n",
      "C:\\Users\\admin\\Anaconda3\\envs\\UEX\\lib\\site-packages\\sklearn_rvm\\em_rvm.py:581: RuntimeWarning: divide by zero encountered in log\n",
      "  np.sum(np.log(1 - y[t == 0]), 0))\n"
     ]
    },
    {
     "name": "stdout",
     "output_type": "stream",
     "text": [
      "当前折训练集准确率： 0.9278074866310161\n",
      "当前折测试集准确率： 0.42857142857142855\n"
     ]
    },
    {
     "name": "stderr",
     "output_type": "stream",
     "text": [
      "C:\\Users\\admin\\Anaconda3\\envs\\UEX\\lib\\site-packages\\sklearn_rvm\\em_rvm.py:675: FutureWarning: The default value of gamma will change from 'auto' to 'scale' in version 0.22 to account better for unscaled features. Set gamma explicitly to 'auto' or 'scale' to avoid this warning.\n",
      "  warnings.warn(\"The default value of gamma will change \"\n",
      "C:\\Users\\admin\\Anaconda3\\envs\\UEX\\lib\\site-packages\\sklearn_rvm\\em_rvm.py:675: FutureWarning: The default value of gamma will change from 'auto' to 'scale' in version 0.22 to account better for unscaled features. Set gamma explicitly to 'auto' or 'scale' to avoid this warning.\n",
      "  warnings.warn(\"The default value of gamma will change \"\n",
      "C:\\Users\\admin\\Anaconda3\\envs\\UEX\\lib\\site-packages\\sklearn_rvm\\em_rvm.py:581: RuntimeWarning: divide by zero encountered in log\n",
      "  np.sum(np.log(1 - y[t == 0]), 0))\n",
      "C:\\Users\\admin\\Anaconda3\\envs\\UEX\\lib\\site-packages\\sklearn_rvm\\em_rvm.py:675: FutureWarning: The default value of gamma will change from 'auto' to 'scale' in version 0.22 to account better for unscaled features. Set gamma explicitly to 'auto' or 'scale' to avoid this warning.\n",
      "  warnings.warn(\"The default value of gamma will change \"\n",
      "C:\\Users\\admin\\Anaconda3\\envs\\UEX\\lib\\site-packages\\sklearn_rvm\\em_rvm.py:581: RuntimeWarning: divide by zero encountered in log\n",
      "  np.sum(np.log(1 - y[t == 0]), 0))\n",
      "C:\\Users\\admin\\Anaconda3\\envs\\UEX\\lib\\site-packages\\sklearn_rvm\\em_rvm.py:675: FutureWarning: The default value of gamma will change from 'auto' to 'scale' in version 0.22 to account better for unscaled features. Set gamma explicitly to 'auto' or 'scale' to avoid this warning.\n",
      "  warnings.warn(\"The default value of gamma will change \"\n",
      "C:\\Users\\admin\\Anaconda3\\envs\\UEX\\lib\\site-packages\\sklearn_rvm\\em_rvm.py:675: FutureWarning: The default value of gamma will change from 'auto' to 'scale' in version 0.22 to account better for unscaled features. Set gamma explicitly to 'auto' or 'scale' to avoid this warning.\n",
      "  warnings.warn(\"The default value of gamma will change \"\n",
      "C:\\Users\\admin\\Anaconda3\\envs\\UEX\\lib\\site-packages\\sklearn_rvm\\em_rvm.py:581: RuntimeWarning: divide by zero encountered in log\n",
      "  np.sum(np.log(1 - y[t == 0]), 0))\n"
     ]
    },
    {
     "name": "stdout",
     "output_type": "stream",
     "text": [
      "当前折训练集准确率： 0.93048128342246\n",
      "当前折测试集准确率： 0.5714285714285714\n"
     ]
    },
    {
     "name": "stderr",
     "output_type": "stream",
     "text": [
      "C:\\Users\\admin\\Anaconda3\\envs\\UEX\\lib\\site-packages\\sklearn_rvm\\em_rvm.py:675: FutureWarning: The default value of gamma will change from 'auto' to 'scale' in version 0.22 to account better for unscaled features. Set gamma explicitly to 'auto' or 'scale' to avoid this warning.\n",
      "  warnings.warn(\"The default value of gamma will change \"\n",
      "C:\\Users\\admin\\Anaconda3\\envs\\UEX\\lib\\site-packages\\sklearn_rvm\\em_rvm.py:675: FutureWarning: The default value of gamma will change from 'auto' to 'scale' in version 0.22 to account better for unscaled features. Set gamma explicitly to 'auto' or 'scale' to avoid this warning.\n",
      "  warnings.warn(\"The default value of gamma will change \"\n",
      "C:\\Users\\admin\\Anaconda3\\envs\\UEX\\lib\\site-packages\\sklearn_rvm\\em_rvm.py:581: RuntimeWarning: divide by zero encountered in log\n",
      "  np.sum(np.log(1 - y[t == 0]), 0))\n",
      "C:\\Users\\admin\\Anaconda3\\envs\\UEX\\lib\\site-packages\\sklearn_rvm\\em_rvm.py:675: FutureWarning: The default value of gamma will change from 'auto' to 'scale' in version 0.22 to account better for unscaled features. Set gamma explicitly to 'auto' or 'scale' to avoid this warning.\n",
      "  warnings.warn(\"The default value of gamma will change \"\n",
      "C:\\Users\\admin\\Anaconda3\\envs\\UEX\\lib\\site-packages\\sklearn_rvm\\em_rvm.py:581: RuntimeWarning: divide by zero encountered in log\n",
      "  np.sum(np.log(1 - y[t == 0]), 0))\n",
      "C:\\Users\\admin\\Anaconda3\\envs\\UEX\\lib\\site-packages\\sklearn_rvm\\em_rvm.py:675: FutureWarning: The default value of gamma will change from 'auto' to 'scale' in version 0.22 to account better for unscaled features. Set gamma explicitly to 'auto' or 'scale' to avoid this warning.\n",
      "  warnings.warn(\"The default value of gamma will change \"\n",
      "C:\\Users\\admin\\Anaconda3\\envs\\UEX\\lib\\site-packages\\sklearn_rvm\\em_rvm.py:675: FutureWarning: The default value of gamma will change from 'auto' to 'scale' in version 0.22 to account better for unscaled features. Set gamma explicitly to 'auto' or 'scale' to avoid this warning.\n",
      "  warnings.warn(\"The default value of gamma will change \"\n",
      "C:\\Users\\admin\\Anaconda3\\envs\\UEX\\lib\\site-packages\\sklearn_rvm\\em_rvm.py:581: RuntimeWarning: divide by zero encountered in log\n",
      "  np.sum(np.log(1 - y[t == 0]), 0))\n"
     ]
    },
    {
     "name": "stdout",
     "output_type": "stream",
     "text": [
      "当前折训练集准确率： 0.9385026737967914\n",
      "当前折测试集准确率： 0.42857142857142855\n"
     ]
    },
    {
     "name": "stderr",
     "output_type": "stream",
     "text": [
      "C:\\Users\\admin\\Anaconda3\\envs\\UEX\\lib\\site-packages\\sklearn_rvm\\em_rvm.py:675: FutureWarning: The default value of gamma will change from 'auto' to 'scale' in version 0.22 to account better for unscaled features. Set gamma explicitly to 'auto' or 'scale' to avoid this warning.\n",
      "  warnings.warn(\"The default value of gamma will change \"\n",
      "C:\\Users\\admin\\Anaconda3\\envs\\UEX\\lib\\site-packages\\sklearn_rvm\\em_rvm.py:675: FutureWarning: The default value of gamma will change from 'auto' to 'scale' in version 0.22 to account better for unscaled features. Set gamma explicitly to 'auto' or 'scale' to avoid this warning.\n",
      "  warnings.warn(\"The default value of gamma will change \"\n",
      "C:\\Users\\admin\\Anaconda3\\envs\\UEX\\lib\\site-packages\\sklearn_rvm\\em_rvm.py:675: FutureWarning: The default value of gamma will change from 'auto' to 'scale' in version 0.22 to account better for unscaled features. Set gamma explicitly to 'auto' or 'scale' to avoid this warning.\n",
      "  warnings.warn(\"The default value of gamma will change \"\n",
      "C:\\Users\\admin\\Anaconda3\\envs\\UEX\\lib\\site-packages\\sklearn_rvm\\em_rvm.py:675: FutureWarning: The default value of gamma will change from 'auto' to 'scale' in version 0.22 to account better for unscaled features. Set gamma explicitly to 'auto' or 'scale' to avoid this warning.\n",
      "  warnings.warn(\"The default value of gamma will change \"\n",
      "C:\\Users\\admin\\Anaconda3\\envs\\UEX\\lib\\site-packages\\sklearn_rvm\\em_rvm.py:675: FutureWarning: The default value of gamma will change from 'auto' to 'scale' in version 0.22 to account better for unscaled features. Set gamma explicitly to 'auto' or 'scale' to avoid this warning.\n",
      "  warnings.warn(\"The default value of gamma will change \"\n",
      "C:\\Users\\admin\\Anaconda3\\envs\\UEX\\lib\\site-packages\\sklearn_rvm\\em_rvm.py:581: RuntimeWarning: divide by zero encountered in log\n",
      "  np.sum(np.log(1 - y[t == 0]), 0))\n"
     ]
    },
    {
     "name": "stdout",
     "output_type": "stream",
     "text": [
      "当前折训练集准确率： 0.944\n",
      "当前折测试集准确率： 0.4878048780487805\n"
     ]
    },
    {
     "name": "stderr",
     "output_type": "stream",
     "text": [
      "C:\\Users\\admin\\Anaconda3\\envs\\UEX\\lib\\site-packages\\sklearn_rvm\\em_rvm.py:675: FutureWarning: The default value of gamma will change from 'auto' to 'scale' in version 0.22 to account better for unscaled features. Set gamma explicitly to 'auto' or 'scale' to avoid this warning.\n",
      "  warnings.warn(\"The default value of gamma will change \"\n",
      "C:\\Users\\admin\\Anaconda3\\envs\\UEX\\lib\\site-packages\\sklearn_rvm\\em_rvm.py:675: FutureWarning: The default value of gamma will change from 'auto' to 'scale' in version 0.22 to account better for unscaled features. Set gamma explicitly to 'auto' or 'scale' to avoid this warning.\n",
      "  warnings.warn(\"The default value of gamma will change \"\n",
      "C:\\Users\\admin\\Anaconda3\\envs\\UEX\\lib\\site-packages\\sklearn_rvm\\em_rvm.py:581: RuntimeWarning: divide by zero encountered in log\n",
      "  np.sum(np.log(1 - y[t == 0]), 0))\n",
      "C:\\Users\\admin\\Anaconda3\\envs\\UEX\\lib\\site-packages\\sklearn_rvm\\em_rvm.py:675: FutureWarning: The default value of gamma will change from 'auto' to 'scale' in version 0.22 to account better for unscaled features. Set gamma explicitly to 'auto' or 'scale' to avoid this warning.\n",
      "  warnings.warn(\"The default value of gamma will change \"\n",
      "C:\\Users\\admin\\Anaconda3\\envs\\UEX\\lib\\site-packages\\sklearn_rvm\\em_rvm.py:675: FutureWarning: The default value of gamma will change from 'auto' to 'scale' in version 0.22 to account better for unscaled features. Set gamma explicitly to 'auto' or 'scale' to avoid this warning.\n",
      "  warnings.warn(\"The default value of gamma will change \"\n",
      "C:\\Users\\admin\\Anaconda3\\envs\\UEX\\lib\\site-packages\\sklearn_rvm\\em_rvm.py:675: FutureWarning: The default value of gamma will change from 'auto' to 'scale' in version 0.22 to account better for unscaled features. Set gamma explicitly to 'auto' or 'scale' to avoid this warning.\n",
      "  warnings.warn(\"The default value of gamma will change \"\n",
      "C:\\Users\\admin\\Anaconda3\\envs\\UEX\\lib\\site-packages\\sklearn_rvm\\em_rvm.py:581: RuntimeWarning: divide by zero encountered in log\n",
      "  np.sum(np.log(1 - y[t == 0]), 0))\n"
     ]
    },
    {
     "name": "stdout",
     "output_type": "stream",
     "text": [
      "当前折训练集准确率： 0.936\n",
      "当前折测试集准确率： 0.5365853658536586\n"
     ]
    },
    {
     "name": "stderr",
     "output_type": "stream",
     "text": [
      "C:\\Users\\admin\\Anaconda3\\envs\\UEX\\lib\\site-packages\\sklearn_rvm\\em_rvm.py:675: FutureWarning: The default value of gamma will change from 'auto' to 'scale' in version 0.22 to account better for unscaled features. Set gamma explicitly to 'auto' or 'scale' to avoid this warning.\n",
      "  warnings.warn(\"The default value of gamma will change \"\n",
      "C:\\Users\\admin\\Anaconda3\\envs\\UEX\\lib\\site-packages\\sklearn_rvm\\em_rvm.py:675: FutureWarning: The default value of gamma will change from 'auto' to 'scale' in version 0.22 to account better for unscaled features. Set gamma explicitly to 'auto' or 'scale' to avoid this warning.\n",
      "  warnings.warn(\"The default value of gamma will change \"\n",
      "C:\\Users\\admin\\Anaconda3\\envs\\UEX\\lib\\site-packages\\sklearn_rvm\\em_rvm.py:581: RuntimeWarning: divide by zero encountered in log\n",
      "  np.sum(np.log(1 - y[t == 0]), 0))\n",
      "C:\\Users\\admin\\Anaconda3\\envs\\UEX\\lib\\site-packages\\sklearn_rvm\\em_rvm.py:675: FutureWarning: The default value of gamma will change from 'auto' to 'scale' in version 0.22 to account better for unscaled features. Set gamma explicitly to 'auto' or 'scale' to avoid this warning.\n",
      "  warnings.warn(\"The default value of gamma will change \"\n",
      "C:\\Users\\admin\\Anaconda3\\envs\\UEX\\lib\\site-packages\\sklearn_rvm\\em_rvm.py:675: FutureWarning: The default value of gamma will change from 'auto' to 'scale' in version 0.22 to account better for unscaled features. Set gamma explicitly to 'auto' or 'scale' to avoid this warning.\n",
      "  warnings.warn(\"The default value of gamma will change \"\n",
      "C:\\Users\\admin\\Anaconda3\\envs\\UEX\\lib\\site-packages\\sklearn_rvm\\em_rvm.py:675: FutureWarning: The default value of gamma will change from 'auto' to 'scale' in version 0.22 to account better for unscaled features. Set gamma explicitly to 'auto' or 'scale' to avoid this warning.\n",
      "  warnings.warn(\"The default value of gamma will change \"\n",
      "C:\\Users\\admin\\Anaconda3\\envs\\UEX\\lib\\site-packages\\sklearn_rvm\\em_rvm.py:581: RuntimeWarning: divide by zero encountered in log\n",
      "  np.sum(np.log(1 - y[t == 0]), 0))\n",
      "C:\\Users\\admin\\Anaconda3\\envs\\UEX\\lib\\site-packages\\sklearn_rvm\\em_rvm.py:581: RuntimeWarning: divide by zero encountered in log\n",
      "  np.sum(np.log(1 - y[t == 0]), 0))\n"
     ]
    },
    {
     "name": "stdout",
     "output_type": "stream",
     "text": [
      "当前折训练集准确率： 0.9386666666666666\n",
      "当前折测试集准确率： 0.4146341463414634\n"
     ]
    },
    {
     "name": "stderr",
     "output_type": "stream",
     "text": [
      "C:\\Users\\admin\\Anaconda3\\envs\\UEX\\lib\\site-packages\\sklearn_rvm\\em_rvm.py:675: FutureWarning: The default value of gamma will change from 'auto' to 'scale' in version 0.22 to account better for unscaled features. Set gamma explicitly to 'auto' or 'scale' to avoid this warning.\n",
      "  warnings.warn(\"The default value of gamma will change \"\n",
      "C:\\Users\\admin\\Anaconda3\\envs\\UEX\\lib\\site-packages\\sklearn_rvm\\em_rvm.py:675: FutureWarning: The default value of gamma will change from 'auto' to 'scale' in version 0.22 to account better for unscaled features. Set gamma explicitly to 'auto' or 'scale' to avoid this warning.\n",
      "  warnings.warn(\"The default value of gamma will change \"\n",
      "C:\\Users\\admin\\Anaconda3\\envs\\UEX\\lib\\site-packages\\sklearn_rvm\\em_rvm.py:581: RuntimeWarning: divide by zero encountered in log\n",
      "  np.sum(np.log(1 - y[t == 0]), 0))\n",
      "C:\\Users\\admin\\Anaconda3\\envs\\UEX\\lib\\site-packages\\sklearn_rvm\\em_rvm.py:581: RuntimeWarning: divide by zero encountered in log\n",
      "  np.sum(np.log(1 - y[t == 0]), 0))\n",
      "C:\\Users\\admin\\Anaconda3\\envs\\UEX\\lib\\site-packages\\sklearn_rvm\\em_rvm.py:675: FutureWarning: The default value of gamma will change from 'auto' to 'scale' in version 0.22 to account better for unscaled features. Set gamma explicitly to 'auto' or 'scale' to avoid this warning.\n",
      "  warnings.warn(\"The default value of gamma will change \"\n",
      "C:\\Users\\admin\\Anaconda3\\envs\\UEX\\lib\\site-packages\\sklearn_rvm\\em_rvm.py:675: FutureWarning: The default value of gamma will change from 'auto' to 'scale' in version 0.22 to account better for unscaled features. Set gamma explicitly to 'auto' or 'scale' to avoid this warning.\n",
      "  warnings.warn(\"The default value of gamma will change \"\n",
      "C:\\Users\\admin\\Anaconda3\\envs\\UEX\\lib\\site-packages\\sklearn_rvm\\em_rvm.py:675: FutureWarning: The default value of gamma will change from 'auto' to 'scale' in version 0.22 to account better for unscaled features. Set gamma explicitly to 'auto' or 'scale' to avoid this warning.\n",
      "  warnings.warn(\"The default value of gamma will change \"\n"
     ]
    },
    {
     "name": "stdout",
     "output_type": "stream",
     "text": [
      "当前折训练集准确率： 0.9386666666666666\n",
      "当前折测试集准确率： 0.4146341463414634\n",
      "Method: RVM  Clf_num 4\n",
      "训练集准确率： 0.9374980392156862\n",
      "测试集准确率： 0.49012775842044143\n",
      "精确率： 0.4773262357137059\n",
      "召回率： 0.49012775842044143\n",
      "F1得分： 0.46262540254080314\n"
     ]
    }
   ],
   "source": [
    "cls_num = [2,3,4]\n",
    "methods = [\"RVM\"]\n",
    "for num in cls_num:\n",
    "    for method in methods:\n",
    "        train_supplement(num,method)"
   ]
  },
  {
   "cell_type": "code",
   "execution_count": 13,
   "metadata": {},
   "outputs": [],
   "source": [
    "\"\"\"利用dt分类器进行分类实验\"\"\"\n",
    "def train_dt(clf_num):\n",
    "    features_path = \"./三类特征统计\"\n",
    "    labels_path = \"./标签信息\"\n",
    "    score_save_path = os.path.join(os.path.join(\"./score数据统计\",\"DT\"),\"class\"+str(clf_num))\n",
    "    feature_sample = [[],[],[],[]]\n",
    "    filename_sample = [[],[],[],[]]\n",
    "    for videoname in sorted(os.listdir(features_path)):\n",
    "        video_feature_path = os.path.join(features_path,videoname)\n",
    "        label_path = os.path.join(labels_path,videoname+\".txt\")\n",
    "        # 读取标签文件\n",
    "        label = []\n",
    "        with open(label_path,\"r\",encoding='utf-8') as f:\n",
    "            while True:\n",
    "                line = f.readline()\n",
    "                if not line:\n",
    "                    break\n",
    "                line = line.split('，')\n",
    "                label.append(eval(line[1]))\n",
    "        # 根据label读取每个clip的特征文件\n",
    "        for i in range(len(label)):\n",
    "            clipname = \"clip\"+str(i+1)+\".txt\"\n",
    "            tmp_path = videoname+\"/\"+clipname\n",
    "            clip_feature_path = os.path.join(video_feature_path,clipname)\n",
    "            feature = np.loadtxt(clip_feature_path,delimiter=',')   # 读取feature文件\n",
    "            feature_sample[label[i]-1].append(feature.tolist())\n",
    "            filename_sample[label[i]-1].append(tmp_path)\n",
    "    print(\"类别1样本数量：\",len(feature_sample[0]),\"类别1文件数量：\",len(filename_sample[0]))\n",
    "    print(\"类别2样本数量：\",len(feature_sample[1]),\"类别2文件数量：\",len(filename_sample[1]))\n",
    "    print(\"类别3样本数量：\",len(feature_sample[2]),\"类别3文件数量：\",len(filename_sample[2]))\n",
    "    print(\"类别4样本数量：\",len(feature_sample[3]),\"类别4文件数量：\",len(filename_sample[3]))\n",
    "    # 对样本数据集进行k折划分\n",
    "    # 选择随机种子\n",
    "    random.seed(0)\n",
    "    if clf_num == 2:\n",
    "        # 二分类\n",
    "        feature_sample_array = sample(feature_sample[0],361)+feature_sample[1]+feature_sample[3]\n",
    "        label_array = [0]*len(sample(feature_sample[0],361))+[1]*len(feature_sample[1]+feature_sample[3])\n",
    "        filename_sample_array = sample(filename_sample[0],361)+filename_sample[1]+filename_sample[3]\n",
    "    elif clf_num == 3:\n",
    "        # 三分类\n",
    "        feature_sample_array = sample(feature_sample[0],159)+sample(feature_sample[1],159)+feature_sample[3]\n",
    "        label_array = [0]*len(sample(feature_sample[0],159))+[1]*len(sample(feature_sample[1],159))+[2]*len(feature_sample[3])\n",
    "        filename_sample_array = sample(filename_sample[0],159)+sample(filename_sample[1],159)+filename_sample[3]\n",
    "    elif clf_num == 4:\n",
    "        # 四分类\n",
    "        feature_sample_array = sample(feature_sample[0],104)+sample(feature_sample[1],104)+feature_sample[2]+sample(feature_sample[3],104)\n",
    "        label_array = [0]*len(sample(feature_sample[0],104))+[1]*len(sample(feature_sample[1],104))+[2]*len(feature_sample[2])+[3]*len(sample(feature_sample[3],104))\n",
    "        filename_sample_array = sample(filename_sample[0],104)+sample(filename_sample[1],104)+filename_sample[2]+sample(filename_sample[3],104)\n",
    "# #     feature_sample_array = feature_sample_array[:,0:2]\n",
    "#     # 选取数目特征和小波特征\n",
    "# #     a = [0,2,3,4,5,6,7,8,9,10,11,12,13,14,15,16,17,18,19,20,21,22,23,24,25,26]\n",
    "# #     feature_sample_array = feature_sample_array[:,a]\n",
    "#     # 选取距离特征和小波特征\n",
    "# #     a = [1,2,3,4,5,6,7,8,9,10,11,12,13,14,15,16,17,18,19,20,21,22,23,24,25,26]\n",
    "# #     feature_sample_array = feature_sample_array[:,a]\n",
    "#     print(\"总样本数据维度：\",feature_sample_array.shape)\n",
    "#     print(\"总样本标签维度：\",label_array.shape)\n",
    "\n",
    "    # 分层k折交叉验证\n",
    "    skf = StratifiedKFold(n_splits=10)\n",
    "    kindex = 0\n",
    "    # 标签二值化\n",
    "    classes = [[0,1],[0,1,2],[0,1,2,3]]\n",
    "    # 储存每一轮的结果\n",
    "    train_score_list = []\n",
    "    test_score_list = []\n",
    "    precision_score_list = []\n",
    "    recall_score_list = []\n",
    "    f1_score_list = []\n",
    "#     feature_sample_array = preprocessing.scale(feature_sample_array)   # processing预处理\n",
    "    for train, test in skf.split(filename_sample_array,label_array):\n",
    "        train_data = np.array(feature_sample_array)[train,:]   # 划分好的训练集\n",
    "        train_label = np.array(label_array)[train]\n",
    "        test_data = np.array(feature_sample_array)[test,:]   # 划分好的测试集\n",
    "        test_label = np.array(label_array)[test]\n",
    "        \n",
    "        clf = DecisionTreeClassifier(random_state=0,max_depth=3)\n",
    "        clf.fit(train_data,train_label)\n",
    "        \n",
    "        # 采用混淆矩阵计算各种评价指标\n",
    "        predicted_train_label = clf.predict(train_data)\n",
    "        predicted_test_label = clf.predict(test_data)\n",
    "        predicted_test_score = clf.predict_proba(test_data)\n",
    "        np.save(os.path.join(score_save_path,\"DT-predicted_train_label\"+\"-k\"+str(kindex)),predicted_train_label)\n",
    "        np.save(os.path.join(score_save_path,\"DT-true_train_label\"+\"-k\"+str(kindex)),train_label)\n",
    "        np.save(os.path.join(score_save_path,\"DT-predicted_test_label\"+\"-k\"+str(kindex)),predicted_test_label)\n",
    "        np.save(os.path.join(score_save_path,\"DT-true_test_label\"+\"-k\"+str(kindex)),test_label)\n",
    "        np.save(os.path.join(score_save_path,\"DT-predicted_test_score\"+\"-k\"+str(kindex)),predicted_test_score)\n",
    "#         print(\"当前折训练集准确率：\",metrics.accuracy_score(train_label,predicted_train_label))\n",
    "        train_score_list.append(metrics.accuracy_score(train_label,predicted_train_label))\n",
    "#         print(\"当前折测试集准确率：\",metrics.accuracy_score(test_label,predicted_test_label))\n",
    "        test_score_list.append(metrics.accuracy_score(test_label,predicted_test_label))\n",
    "#         print(\"当前折精准值：\",metrics.precision_score(test_label,predicted_test_label,average='weighted'))\n",
    "        precision_score_list.append(metrics.precision_score(test_label,predicted_test_label,average='weighted'))\n",
    "#         print(\"当前折召回率：\",metrics.recall_score(test_label,predicted_test_label,average='weighted'))\n",
    "        recall_score_list.append(metrics.recall_score(test_label,predicted_test_label,average='weighted'))\n",
    "#         print(\"当前折F1：\",metrics.f1_score(test_label,predicted_test_label,average='weighted'))\n",
    "        f1_score_list.append(metrics.f1_score(test_label,predicted_test_label,average='weighted'))\n",
    "#         print(\"Done!*****************************************************\")\n",
    "        kindex += 1\n",
    "        \n",
    "    print(\" Clf_num\",clf_num)\n",
    "    print(\"训练集准确率：\",np.array(train_score_list).mean())\n",
    "    print(\"测试集准确率：\",np.array(test_score_list).mean())\n",
    "    print(\"精确率：\",np.array(precision_score_list).mean())\n",
    "    print(\"召回率：\",np.array(recall_score_list).mean())\n",
    "    print(\"F1得分：\",np.array(f1_score_list).mean())"
   ]
  },
  {
   "cell_type": "code",
   "execution_count": 14,
   "metadata": {},
   "outputs": [
    {
     "name": "stdout",
     "output_type": "stream",
     "text": [
      "类别1样本数量： 511 类别1文件数量： 511\n",
      "类别2样本数量： 202 类别2文件数量： 202\n",
      "类别3样本数量： 104 类别3文件数量： 104\n",
      "类别4样本数量： 159 类别4文件数量： 159\n",
      " Clf_num 2\n",
      "训练集准确率： 0.8879651534905773\n",
      "测试集准确率： 0.86837899543379\n",
      "精确率： 0.8781385126371818\n",
      "召回率： 0.86837899543379\n",
      "F1得分： 0.8674672986270892\n",
      "类别1样本数量： 511 类别1文件数量： 511\n",
      "类别2样本数量： 202 类别2文件数量： 202\n",
      "类别3样本数量： 104 类别3文件数量： 104\n",
      "类别4样本数量： 159 类别4文件数量： 159\n",
      " Clf_num 3\n",
      "训练集准确率： 0.7090654306933377\n",
      "测试集准确率： 0.5931737588652484\n",
      "精确率： 0.6029276892349664\n",
      "召回率： 0.5931737588652484\n",
      "F1得分： 0.5832080493458174\n",
      "类别1样本数量： 511 类别1文件数量： 511\n",
      "类别2样本数量： 202 类别2文件数量： 202\n",
      "类别3样本数量： 104 类别3文件数量： 104\n",
      "类别4样本数量： 159 类别4文件数量： 159\n",
      " Clf_num 4\n",
      "训练集准确率： 0.6068484848484849\n",
      "测试集准确率： 0.5265389082462253\n",
      "精确率： 0.5420268869177345\n",
      "召回率： 0.5265389082462253\n",
      "F1得分： 0.5222434694304627\n"
     ]
    },
    {
     "name": "stderr",
     "output_type": "stream",
     "text": [
      "C:\\Users\\admin\\Anaconda3\\envs\\UEX\\lib\\site-packages\\sklearn\\metrics\\_classification.py:1318: UndefinedMetricWarning: Precision is ill-defined and being set to 0.0 in labels with no predicted samples. Use `zero_division` parameter to control this behavior.\n",
      "  _warn_prf(average, modifier, msg_start, len(result))\n"
     ]
    }
   ],
   "source": [
    "cls_num = [2,3,4]\n",
    "for num in cls_num:\n",
    "    train_dt(num)"
   ]
  },
  {
   "cell_type": "code",
   "execution_count": null,
   "metadata": {},
   "outputs": [],
   "source": []
  }
 ],
 "metadata": {
  "kernelspec": {
   "display_name": "Python [conda env:UEX] *",
   "language": "python",
   "name": "conda-env-UEX-py"
  },
  "language_info": {
   "codemirror_mode": {
    "name": "ipython",
    "version": 3
   },
   "file_extension": ".py",
   "mimetype": "text/x-python",
   "name": "python",
   "nbconvert_exporter": "python",
   "pygments_lexer": "ipython3",
   "version": "3.8.12"
  }
 },
 "nbformat": 4,
 "nbformat_minor": 2
}
