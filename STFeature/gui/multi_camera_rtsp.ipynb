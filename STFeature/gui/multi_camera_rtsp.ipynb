{
 "cells": [
  {
   "cell_type": "code",
   "execution_count": 82,
   "id": "b12eddae",
   "metadata": {},
   "outputs": [],
   "source": [
    "import cv2\n",
    "import time\n",
    "import multiprocessing as mp"
   ]
  },
  {
   "cell_type": "code",
   "execution_count": 83,
   "id": "af38bfbb",
   "metadata": {},
   "outputs": [],
   "source": [
    "# 将逐帧采取到的图片放入队列中\n",
    "def queue_img_put(q_put, name, pwd, ip, channel=2):\n",
    "    # 读取摄像头\n",
    "    cap = cv2.VideoCapture(\"rtsp://{}:{}@{}/Streaming/Channels/{}\".format(name, pwd, ip, channel))\n",
    "    while True:\n",
    "        ret, frame = cap.read()\n",
    "        q_put.put(frame) if ret else None\n",
    "        q_put.get() if q_put.qsize()>1 else None"
   ]
  },
  {
   "cell_type": "code",
   "execution_count": 84,
   "id": "33b660c1",
   "metadata": {},
   "outputs": [],
   "source": [
    "# 将逐帧采取到放入队列的图片读取出来\n",
    "def queue_img_get(q_get, window_name):\n",
    "    cv2.namedWindow(window_name, flags=cv2.WINDOW_FREERATIO)\n",
    "    while True:\n",
    "        frame = q_get.get()\n",
    "        cv2.imshow(window_name, frame)\n",
    "        cv2.waitKey(1)"
   ]
  },
  {
   "cell_type": "code",
   "execution_count": 85,
   "id": "0bd29edb",
   "metadata": {},
   "outputs": [],
   "source": [
    "# 多摄像头调用\n",
    "def run_multi_camera():\n",
    "    user_name, user_pwd = \"admin\", \"uex_2022\"\n",
    "    camera_ips = [\n",
    "        \"192.168.1.64\" # 摄像头1\n",
    "    ]\n",
    "    \n",
    "    mp.set_start_method(method='spawn', force=True)\n",
    "    queue_camera = [mp.Queue(maxsize=4) for _ in camera_ips]\n",
    "    \n",
    "    processes = []\n",
    "    for queue, camera_ip in zip(queue_camera, camera_ips):\n",
    "        processes.append(mp.Process(target=queue_img_put, args=(queue, user_name, user_pwd, camera_ip)))\n",
    "        processes.append(mp.Process(target=queue_img_get, args=(queue, camera_ip)))\n",
    "        \n",
    "    for process in processes:\n",
    "        process.daemon = True\n",
    "        process.start()\n",
    "    for process in processes:\n",
    "        process.join()"
   ]
  },
  {
   "cell_type": "code",
   "execution_count": 86,
   "id": "a1dc9320",
   "metadata": {},
   "outputs": [],
   "source": [
    " if __name__ == \"__main__\":\n",
    "    run_multi_camera()"
   ]
  },
  {
   "cell_type": "code",
   "execution_count": null,
   "id": "ea1b7d7a",
   "metadata": {},
   "outputs": [],
   "source": []
  }
 ],
 "metadata": {
  "kernelspec": {
   "display_name": "Python [conda env:UEX] *",
   "language": "python",
   "name": "conda-env-UEX-py"
  },
  "language_info": {
   "codemirror_mode": {
    "name": "ipython",
    "version": 3
   },
   "file_extension": ".py",
   "mimetype": "text/x-python",
   "name": "python",
   "nbconvert_exporter": "python",
   "pygments_lexer": "ipython3",
   "version": "3.8.12"
  }
 },
 "nbformat": 4,
 "nbformat_minor": 5
}
