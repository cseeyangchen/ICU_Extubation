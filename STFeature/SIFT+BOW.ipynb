{
 "cells": [
  {
   "cell_type": "code",
   "execution_count": 1,
   "metadata": {},
   "outputs": [],
   "source": [
    "import cv2\n",
    "import os\n",
    "import numpy as np\n",
    "from scipy.spatial import KDTree\n",
    "import pickle\n",
    "from random import sample\n",
    "import random\n",
    "from sklearn import preprocessing\n",
    "from sklearn.model_selection import StratifiedKFold\n",
    "from sklearn import svm\n",
    "from sklearn.tree import DecisionTreeClassifier\n",
    "from sklearn.neighbors import KNeighborsClassifier\n",
    "from sklearn import metrics"
   ]
  },
  {
   "cell_type": "code",
   "execution_count": 2,
   "metadata": {},
   "outputs": [],
   "source": [
    "\"\"\"step1:对视频进行处理，得到每5s的视频段sift特征\"\"\"\n",
    "\"\"\"对图片进行SIFT特征提取\"\"\"\n",
    "def compute_sift(image):\n",
    "    gray = cv2.cvtColor(image,cv2.COLOR_RGB2GRAY)\n",
    "    # sift特征提取\n",
    "    sift = cv2.xfeatures2d.SIFT_create(nfeatures=30)\n",
    "    kp, des = sift.detectAndCompute(gray, None)  # keypoints, descriptors\n",
    "    return des\n",
    "\n",
    "\"\"\"处理视频\"\"\"\n",
    "def detect_sift(video_input_path,box_coordinate_path,store_path):\n",
    "    video = cv2.VideoCapture(video_input_path)\n",
    "    fps = video.get(cv2.CAP_PROP_FPS)\n",
    "    frame_index = 0\n",
    "    # 对产生的坐标信息进行保存\n",
    "    feature_clip = []\n",
    "    # 打开坐标文件\n",
    "    with open(box_coordinate_path,\"r\") as f:\n",
    "            line1 = f.readline().strip().replace(\"[\",\"\")\n",
    "            line1 = line1.replace(\"]\",\"\")\n",
    "            line1 = line1.split(\",\")\n",
    "            box_coordinate = list(map(int,line1))\n",
    "    while(video.isOpened()):\n",
    "        ret, frame = video.read()   # 读取视频帧\n",
    "        if ret == True:\n",
    "            # 根据box大小剪裁视频\n",
    "            frame = frame[box_coordinate[1]:box_coordinate[3],box_coordinate[0]:box_coordinate[2]]\n",
    "            des = compute_sift(frame)   # sift特征计算\n",
    "            if des is not None:\n",
    "                feature_clip.append(des)\n",
    "            # 保存每段clip的全部帧的sift特征\n",
    "            frame_index += 1\n",
    "        else:\n",
    "            break\n",
    "        ch = 0xFF & cv2.waitKey(1)\n",
    "        if ch == 27:\n",
    "            break\n",
    "    feature_clip_array = np.array(feature_clip)\n",
    "    with open(store_path,\"wb\") as file:\n",
    "        pickle.dump(feature_clip_array,file)"
   ]
  },
  {
   "cell_type": "code",
   "execution_count": 24,
   "metadata": {
    "scrolled": true
   },
   "outputs": [
    {
     "name": "stderr",
     "output_type": "stream",
     "text": [
      "C:\\Users\\admin\\AppData\\Local\\Temp/ipykernel_30372/2669141145.py:29: VisibleDeprecationWarning: Creating an ndarray from ragged nested sequences (which is a list-or-tuple of lists-or-tuples-or ndarrays with different lengths or shapes) is deprecated. If you meant to do this, you must specify 'dtype=object' when creating the ndarray.\n",
      "  feature_clip_array = np.array(feature_clip)\n"
     ]
    }
   ],
   "source": [
    "videos_dir = \"./裁剪后视频段\"\n",
    "boxes_dir = \"./检测框信息\"\n",
    "stores_dir = \"./sift原始特征\"\n",
    "for video_name in os.listdir(videos_dir):\n",
    "    video_path = os.path.join(videos_dir,video_name)\n",
    "    box_path = os.path.join(boxes_dir,video_name+\".txt\")\n",
    "    store_path = os.path.join(stores_dir,video_name)\n",
    "    # 如果路径不存在则建立文件夹\n",
    "    if not os.path.exists(store_path):\n",
    "        os.makedirs(store_path)\n",
    "    for clip_name in os.listdir(video_path):\n",
    "        tmp_name = clip_name.split('.')[0]+\".pkl\"\n",
    "        clip_path = os.path.join(video_path,clip_name)\n",
    "        clip_store_path = os.path.join(store_path,tmp_name)\n",
    "        detect_sift(clip_path,box_path,clip_store_path)"
   ]
  },
  {
   "cell_type": "code",
   "execution_count": 3,
   "metadata": {},
   "outputs": [],
   "source": [
    "\"\"\"step2：构建字典，构建向量\"\"\"\n",
    "\"\"\"统计所有视频的sift向量，构建并训练bow词袋模型\"\"\"\n",
    "def create_dictionary(features):\n",
    "    dictionary_size=20\n",
    "    bow = cv2.BOWKMeansTrainer(dictionary_size)\n",
    "    # 将所有视频的所有clip添加到bow里\n",
    "    for clip_idx, clip in enumerate(features):\n",
    "        for j, frame in enumerate(clip):\n",
    "            bow.add(frame)\n",
    "    # 聚类\n",
    "    dictionary = bow.cluster()\n",
    "    np.savetxt(\"sift_bow_dict.txt\",dictionary)\n",
    "    return dictionary\n",
    "\n",
    "\"\"\"重构词向量\"\"\"\n",
    "def create_bow(dictionary, features, store_paths, method):\n",
    "    kdtree = KDTree(dictionary)\n",
    "    bins = dictionary.shape[0]\n",
    "    for clip_idx, clip in enumerate(features):\n",
    "        clip_list = []\n",
    "        for j, frame in enumerate(clip):\n",
    "            dis, indices = kdtree.query(frame)\n",
    "            hist, _ = np.histogram(indices, bins=bins)\n",
    "            hist = hist / len(indices)\n",
    "            clip_list.append(hist)\n",
    "        clip_list = np.array(clip_list)\n",
    "\n",
    "        if method == \"mean\":\n",
    "            clip_list = np.mean(clip_list, 0)\n",
    "        elif method == \"max\":\n",
    "            clip_list = np.max(clip_list, 0)\n",
    "        else:\n",
    "            raise Exception('Method not found')\n",
    "        np.save(store_paths[clip_idx], clip_list)"
   ]
  },
  {
   "cell_type": "code",
   "execution_count": 18,
   "metadata": {},
   "outputs": [],
   "source": [
    "\"\"\"主函数：处理视频并保存每个clip的bow向量\"\"\"\n",
    "def process():\n",
    "    # 相关文件路径\n",
    "    videos_sift_dir = \"./sift原始特征\"\n",
    "    stores_dir = \"./sift统计\"\n",
    "    \n",
    "    features = []\n",
    "    stores_path = []\n",
    "    # 将所有初始sift特征从文件中提取出来\n",
    "    for filename in sorted(os.listdir(videos_sift_dir)):\n",
    "        video_sift_path = os.path.join(videos_sift_dir,filename)\n",
    "        store_path = os.path.join(stores_dir,filename)\n",
    "        if not os.path.exists(store_path):\n",
    "            os.makedirs(store_path)\n",
    "        for clipname in sorted(os.listdir(video_sift_path)):\n",
    "            clip_sift_path = os.path.join(video_sift_path,clipname)\n",
    "            clip_store_path = os.path.join(store_path,clipname.split(\".\")[0])\n",
    "            stores_path.append(clip_store_path)\n",
    "            with open(clip_sift_path,\"rb\") as file:\n",
    "                clip_feature = pickle.load(file)\n",
    "                features.append(clip_feature)\n",
    "    print(\"Done: features创建完成\")\n",
    "    \n",
    "    # 建立词典--分配词向量\n",
    "    dictionary = create_dictionary(features)\n",
    "    print(\"Done: dictionary 创建完成\")\n",
    "    create_bow(dictionary, features, stores_path, \"mean\")\n",
    "    print(\"Done: bow创建完成\")"
   ]
  },
  {
   "cell_type": "code",
   "execution_count": 19,
   "metadata": {},
   "outputs": [
    {
     "name": "stdout",
     "output_type": "stream",
     "text": [
      "(30, 128)\n",
      "Done: features创建完成\n"
     ]
    },
    {
     "ename": "error",
     "evalue": "OpenCV(4.5.5) D:\\a\\opencv-python\\opencv-python\\opencv\\modules\\features2d\\src\\bagofwords.cpp:94: error: (-215:Assertion failed) !descriptors.empty() in function 'cv::BOWKMeansTrainer::cluster'\n",
     "output_type": "error",
     "traceback": [
      "\u001b[1;31m---------------------------------------------------------------------------\u001b[0m",
      "\u001b[1;31merror\u001b[0m                                     Traceback (most recent call last)",
      "\u001b[1;32m~\\AppData\\Local\\Temp/ipykernel_64732/2946502170.py\u001b[0m in \u001b[0;36m<module>\u001b[1;34m\u001b[0m\n\u001b[1;32m----> 1\u001b[1;33m \u001b[0mprocess\u001b[0m\u001b[1;33m(\u001b[0m\u001b[1;33m)\u001b[0m\u001b[1;33m\u001b[0m\u001b[1;33m\u001b[0m\u001b[0m\n\u001b[0m",
      "\u001b[1;32m~\\AppData\\Local\\Temp/ipykernel_64732/1920642344.py\u001b[0m in \u001b[0;36mprocess\u001b[1;34m()\u001b[0m\n\u001b[0;32m     26\u001b[0m \u001b[1;33m\u001b[0m\u001b[0m\n\u001b[0;32m     27\u001b[0m     \u001b[1;31m# 建立词典--分配词向量\u001b[0m\u001b[1;33m\u001b[0m\u001b[1;33m\u001b[0m\u001b[1;33m\u001b[0m\u001b[0m\n\u001b[1;32m---> 28\u001b[1;33m     \u001b[0mdictionary\u001b[0m \u001b[1;33m=\u001b[0m \u001b[0mcreate_dictionary\u001b[0m\u001b[1;33m(\u001b[0m\u001b[0mfeatures\u001b[0m\u001b[1;33m)\u001b[0m\u001b[1;33m\u001b[0m\u001b[1;33m\u001b[0m\u001b[0m\n\u001b[0m\u001b[0;32m     29\u001b[0m     \u001b[0mprint\u001b[0m\u001b[1;33m(\u001b[0m\u001b[1;34m\"Done: dictionary 创建完成\"\u001b[0m\u001b[1;33m)\u001b[0m\u001b[1;33m\u001b[0m\u001b[1;33m\u001b[0m\u001b[0m\n\u001b[0;32m     30\u001b[0m     \u001b[0mcreate_bow\u001b[0m\u001b[1;33m(\u001b[0m\u001b[0mdictionary\u001b[0m\u001b[1;33m,\u001b[0m \u001b[0mfeatures\u001b[0m\u001b[1;33m,\u001b[0m \u001b[0mstores_path\u001b[0m\u001b[1;33m,\u001b[0m \u001b[1;34m\"mean\"\u001b[0m\u001b[1;33m)\u001b[0m\u001b[1;33m\u001b[0m\u001b[1;33m\u001b[0m\u001b[0m\n",
      "\u001b[1;32m~\\AppData\\Local\\Temp/ipykernel_64732/2554885869.py\u001b[0m in \u001b[0;36mcreate_dictionary\u001b[1;34m(features)\u001b[0m\n\u001b[0;32m      9\u001b[0m             \u001b[0mbow\u001b[0m\u001b[1;33m.\u001b[0m\u001b[0madd\u001b[0m\u001b[1;33m(\u001b[0m\u001b[0mframe\u001b[0m\u001b[1;33m)\u001b[0m\u001b[1;33m\u001b[0m\u001b[1;33m\u001b[0m\u001b[0m\n\u001b[0;32m     10\u001b[0m     \u001b[1;31m# 聚类\u001b[0m\u001b[1;33m\u001b[0m\u001b[1;33m\u001b[0m\u001b[1;33m\u001b[0m\u001b[0m\n\u001b[1;32m---> 11\u001b[1;33m     \u001b[0mdictionary\u001b[0m \u001b[1;33m=\u001b[0m \u001b[0mbow\u001b[0m\u001b[1;33m.\u001b[0m\u001b[0mcluster\u001b[0m\u001b[1;33m(\u001b[0m\u001b[1;33m)\u001b[0m\u001b[1;33m\u001b[0m\u001b[1;33m\u001b[0m\u001b[0m\n\u001b[0m\u001b[0;32m     12\u001b[0m     \u001b[0mnp\u001b[0m\u001b[1;33m.\u001b[0m\u001b[0msavetxt\u001b[0m\u001b[1;33m(\u001b[0m\u001b[1;34m\"sift_bow_dict.txt\"\u001b[0m\u001b[1;33m,\u001b[0m\u001b[0mdictionary\u001b[0m\u001b[1;33m)\u001b[0m\u001b[1;33m\u001b[0m\u001b[1;33m\u001b[0m\u001b[0m\n\u001b[0;32m     13\u001b[0m     \u001b[1;32mreturn\u001b[0m \u001b[0mdictionary\u001b[0m\u001b[1;33m\u001b[0m\u001b[1;33m\u001b[0m\u001b[0m\n",
      "\u001b[1;31merror\u001b[0m: OpenCV(4.5.5) D:\\a\\opencv-python\\opencv-python\\opencv\\modules\\features2d\\src\\bagofwords.cpp:94: error: (-215:Assertion failed) !descriptors.empty() in function 'cv::BOWKMeansTrainer::cluster'\n"
     ]
    }
   ],
   "source": [
    "process()"
   ]
  },
  {
   "cell_type": "code",
   "execution_count": 4,
   "metadata": {},
   "outputs": [],
   "source": [
    "\"\"\"读取保存的bow词特征向量\"\"\"\n",
    "def read_bow():\n",
    "    bow_feature_path = \"./sift统计\"\n",
    "    labels_path = \"./标签信息\"\n",
    "    feature_sample = [[],[],[],[]]\n",
    "    filename_sample = [[],[],[],[]]\n",
    "    for videoname in sorted(os.listdir(bow_feature_path)):\n",
    "        video_feature_path = os.path.join(bow_feature_path,videoname)   # 视频路径\n",
    "        label_path = os.path.join(labels_path,videoname+\".txt\")    # 标签路径\n",
    "        # 读取标签文件\n",
    "        label = []\n",
    "        with open(label_path,\"r\",encoding='utf-8') as f:\n",
    "            while True:\n",
    "                line = f.readline()\n",
    "                if not line:\n",
    "                    break\n",
    "                line = line.split('，')\n",
    "                label.append(eval(line[1]))\n",
    "        # 根据label读取每个clip的特征文件\n",
    "        for i in range(len(label)):\n",
    "            clipname = \"clip\"+str(i+1)+\".npy\"\n",
    "            tmp_path = videoname+\"/\"+clipname\n",
    "            clip_feature_path = os.path.join(video_feature_path,clipname)\n",
    "            feature = np.load(clip_feature_path)   # 读取feature文件\n",
    "            feature_sample[label[i]-1].append(feature.tolist())\n",
    "            filename_sample[label[i]-1].append(tmp_path)\n",
    "    return feature_sample, filename_sample"
   ]
  },
  {
   "cell_type": "code",
   "execution_count": 7,
   "metadata": {},
   "outputs": [],
   "source": [
    "\"\"\"划分数据集并利用svm，knn训练\"\"\"\n",
    "def train_svm_knn(clf_num,method):\n",
    "    feature_sample, filename_sample = read_bow()\n",
    "    print(\"类别1样本数量：\",len(feature_sample[0]),\"类别1文件数量：\",len(filename_sample[0]))\n",
    "    print(\"类别2样本数量：\",len(feature_sample[1]),\"类别2文件数量：\",len(filename_sample[1]))\n",
    "    print(\"类别3样本数量：\",len(feature_sample[2]),\"类别3文件数量：\",len(filename_sample[2]))\n",
    "    print(\"类别4样本数量：\",len(feature_sample[3]),\"类别4文件数量：\",len(filename_sample[3]))\n",
    "    \n",
    "    # 选择随机种子\n",
    "    random.seed(0)\n",
    "    if clf_num == 2:\n",
    "        # 二分类\n",
    "        feature_sample_array = sample(feature_sample[0],361)+feature_sample[1]+feature_sample[3]\n",
    "        label_array = [0]*len(sample(feature_sample[0],361))+[1]*len(feature_sample[1]+feature_sample[3])\n",
    "        filename_sample_array = sample(filename_sample[0],361)+filename_sample[1]+filename_sample[3]\n",
    "    elif clf_num == 3:\n",
    "        # 三分类\n",
    "        feature_sample_array = sample(feature_sample[0],159)+sample(feature_sample[1],159)+feature_sample[3]\n",
    "        label_array = [0]*len(sample(feature_sample[0],159))+[1]*len(sample(feature_sample[1],159))+[2]*len(feature_sample[3])\n",
    "        filename_sample_array = sample(filename_sample[0],159)+sample(filename_sample[1],159)+filename_sample[3]\n",
    "    elif clf_num == 4:\n",
    "        # 四分类\n",
    "        feature_sample_array = sample(feature_sample[0],104)+sample(feature_sample[1],104)+feature_sample[2]+sample(feature_sample[3],104)\n",
    "        label_array = [0]*len(sample(feature_sample[0],104))+[1]*len(sample(feature_sample[1],104))+[2]*len(feature_sample[2])+[3]*len(sample(feature_sample[3],104))\n",
    "        filename_sample_array = sample(filename_sample[0],104)+sample(filename_sample[1],104)+filename_sample[2]+sample(filename_sample[3],104)\n",
    "    \n",
    "    # 分层k折交叉验证\n",
    "    skf = StratifiedKFold(n_splits=10)\n",
    "    # 储存每一轮的结果\n",
    "    train_score_list = []\n",
    "    test_score_list = []\n",
    "    precision_score_list = []\n",
    "    recall_score_list = []\n",
    "    f1_score_list = []\n",
    "    feature_sample_array = preprocessing.scale(feature_sample_array)   # processing预处理\n",
    "    for train, test in skf.split(feature_sample_array,label_array):\n",
    "        train_data = np.array(feature_sample_array)[train,:]   # 划分好的训练集\n",
    "        train_label = np.array(label_array)[train]\n",
    "        test_data = np.array(feature_sample_array)[test,:]   # 划分好的测试集\n",
    "        test_label = np.array(label_array)[test]\n",
    "        if method == \"SVM\":\n",
    "#             clf = svm.SVC(kernel='linear',decision_function_shape='ovr',max_iter=1e7)\n",
    "            clf = svm.SVC(kernel='linear',decision_function_shape='ovr')\n",
    "            clf.fit(train_data,train_label)\n",
    "        if method == \"KNN\":\n",
    "            clf = KNeighborsClassifier(n_neighbors=10)\n",
    "            clf.fit(train_data,train_label)\n",
    "        # 采用混淆矩阵计算各种评价指标\n",
    "        predicted_train_label = clf.predict(train_data)\n",
    "        predicted_test_label = clf.predict(test_data)\n",
    "#         print(\"当前折训练集准确率：\",metrics.accuracy_score(train_label,predicted_train_label))\n",
    "        train_score_list.append(metrics.accuracy_score(train_label,predicted_train_label))\n",
    "#         print(\"当前折测试集准确率：\",metrics.accuracy_score(test_label,predicted_test_label))\n",
    "        test_score_list.append(metrics.accuracy_score(test_label,predicted_test_label))\n",
    "#         print(\"当前折精准值：\",metrics.precision_score(test_label,predicted_test_label,average='weighted'))\n",
    "        precision_score_list.append(metrics.precision_score(test_label,predicted_test_label,average='weighted'))\n",
    "#         print(\"当前折召回率：\",metrics.recall_score(test_label,predicted_test_label,average='weighted'))\n",
    "        recall_score_list.append(metrics.recall_score(test_label,predicted_test_label,average='weighted'))\n",
    "#         print(\"当前折F1：\",metrics.f1_score(test_label,predicted_test_label,average='weighted'))\n",
    "        f1_score_list.append(metrics.f1_score(test_label,predicted_test_label,average='weighted'))\n",
    "#         print(\"Done!*****************************************************\")\n",
    "       \n",
    "    print(\"Method:\",method,\" Clf_num\",clf_num)\n",
    "    print(\"训练集准确率：\",np.array(train_score_list).mean())\n",
    "    print(\"测试集准确率：\",np.array(test_score_list).mean())\n",
    "    print(\"精确率：\",np.array(precision_score_list).mean())\n",
    "    print(\"召回率：\",np.array(recall_score_list).mean())\n",
    "    print(\"F1得分：\",np.array(f1_score_list).mean())"
   ]
  },
  {
   "cell_type": "code",
   "execution_count": 8,
   "metadata": {},
   "outputs": [
    {
     "name": "stdout",
     "output_type": "stream",
     "text": [
      "类别1样本数量： 511 类别1文件数量： 511\n",
      "类别2样本数量： 202 类别2文件数量： 202\n",
      "类别3样本数量： 104 类别3文件数量： 104\n",
      "类别4样本数量： 159 类别4文件数量： 159\n",
      "Method: SVM  Clf_num 2\n",
      "训练集准确率： 0.6883667180277351\n",
      "测试集准确率： 0.5651826484018264\n",
      "精确率： 0.566938468574259\n",
      "召回率： 0.5651826484018264\n",
      "F1得分： 0.5553218774586596\n",
      "类别1样本数量： 511 类别1文件数量： 511\n",
      "类别2样本数量： 202 类别2文件数量： 202\n",
      "类别3样本数量： 104 类别3文件数量： 104\n",
      "类别4样本数量： 159 类别4文件数量： 159\n",
      "Method: KNN  Clf_num 2\n",
      "训练集准确率： 0.8399514045276758\n",
      "测试集准确率： 0.7146499238964992\n",
      "精确率： 0.7214755424830435\n",
      "召回率： 0.7146499238964992\n",
      "F1得分： 0.7112244927189598\n",
      "类别1样本数量： 511 类别1文件数量： 511\n",
      "类别2样本数量： 202 类别2文件数量： 202\n",
      "类别3样本数量： 104 类别3文件数量： 104\n",
      "类别4样本数量： 159 类别4文件数量： 159\n",
      "Method: SVM  Clf_num 3\n",
      "训练集准确率： 0.5942174879384181\n",
      "测试集准确率： 0.4438386524822695\n",
      "精确率： 0.4326307055357269\n",
      "召回率： 0.4438386524822695\n",
      "F1得分： 0.43041958821005427\n",
      "类别1样本数量： 511 类别1文件数量： 511\n",
      "类别2样本数量： 202 类别2文件数量： 202\n",
      "类别3样本数量： 104 类别3文件数量： 104\n",
      "类别4样本数量： 159 类别4文件数量： 159\n",
      "Method: KNN  Clf_num 3\n",
      "训练集准确率： 0.7302564102564102\n",
      "测试集准确率： 0.5216312056737589\n",
      "精确率： 0.5374786318506664\n",
      "召回率： 0.5216312056737589\n",
      "F1得分： 0.5014274321431466\n",
      "类别1样本数量： 511 类别1文件数量： 511\n",
      "类别2样本数量： 202 类别2文件数量： 202\n",
      "类别3样本数量： 104 类别3文件数量： 104\n",
      "类别4样本数量： 159 类别4文件数量： 159\n",
      "Method: SVM  Clf_num 4\n",
      "训练集准确率： 0.5398017825311943\n",
      "测试集准确率： 0.4015098722415796\n",
      "精确率： 0.4111146796852723\n",
      "召回率： 0.4015098722415796\n",
      "F1得分： 0.39346763979717037\n",
      "类别1样本数量： 511 类别1文件数量： 511\n",
      "类别2样本数量： 202 类别2文件数量： 202\n",
      "类别3样本数量： 104 类别3文件数量： 104\n",
      "类别4样本数量： 159 类别4文件数量： 159\n",
      "Method: KNN  Clf_num 4\n",
      "训练集准确率： 0.6551864527629234\n",
      "测试集准确率： 0.4906504065040651\n",
      "精确率： 0.5250707421047143\n",
      "召回率： 0.4906504065040651\n",
      "F1得分： 0.4912005510188652\n"
     ]
    }
   ],
   "source": [
    "\"\"\"进行2，3，4分类，并利用svm，knn为分类器做对比实验\"\"\"\n",
    "cls_num = [2,3,4]\n",
    "methods = [\"SVM\",\"KNN\"]\n",
    "for num in cls_num:\n",
    "    for method in methods:\n",
    "        train_svm_knn(num,method)"
   ]
  },
  {
   "cell_type": "code",
   "execution_count": 13,
   "metadata": {},
   "outputs": [],
   "source": [
    "\"\"\"利用mlp、rvm、random forest分类器进行分类实验\"\"\"\n",
    "\"\"\"补充实验\"\"\"\n",
    "def train_supplement(clf_num,method):\n",
    "    feature_sample, filename_sample = read_bow()\n",
    "    print(\"类别1样本数量：\",len(feature_sample[0]),\"类别1文件数量：\",len(filename_sample[0]))\n",
    "    print(\"类别2样本数量：\",len(feature_sample[1]),\"类别2文件数量：\",len(filename_sample[1]))\n",
    "    print(\"类别3样本数量：\",len(feature_sample[2]),\"类别3文件数量：\",len(filename_sample[2]))\n",
    "    print(\"类别4样本数量：\",len(feature_sample[3]),\"类别4文件数量：\",len(filename_sample[3]))\n",
    "    \n",
    "    # 选择随机种子\n",
    "    random.seed(0)\n",
    "    if clf_num == 2:\n",
    "        # 二分类\n",
    "        feature_sample_array = sample(feature_sample[0],361)+feature_sample[1]+feature_sample[3]\n",
    "        label_array = [0]*len(sample(feature_sample[0],361))+[1]*len(feature_sample[1]+feature_sample[3])\n",
    "        filename_sample_array = sample(filename_sample[0],361)+filename_sample[1]+filename_sample[3]\n",
    "    elif clf_num == 3:\n",
    "        # 三分类\n",
    "        feature_sample_array = sample(feature_sample[0],159)+sample(feature_sample[1],159)+feature_sample[3]\n",
    "        label_array = [0]*len(sample(feature_sample[0],159))+[1]*len(sample(feature_sample[1],159))+[2]*len(feature_sample[3])\n",
    "        filename_sample_array = sample(filename_sample[0],159)+sample(filename_sample[1],159)+filename_sample[3]\n",
    "    elif clf_num == 4:\n",
    "        # 四分类\n",
    "        feature_sample_array = sample(feature_sample[0],104)+sample(feature_sample[1],104)+feature_sample[2]+sample(feature_sample[3],104)\n",
    "        label_array = [0]*len(sample(feature_sample[0],104))+[1]*len(sample(feature_sample[1],104))+[2]*len(feature_sample[2])+[3]*len(sample(feature_sample[3],104))\n",
    "        filename_sample_array = sample(filename_sample[0],104)+sample(filename_sample[1],104)+filename_sample[2]+sample(filename_sample[3],104)\n",
    "    \n",
    "    # 分层k折交叉验证\n",
    "    skf = StratifiedKFold(n_splits=10)\n",
    "    # 储存每一轮的结果\n",
    "    train_score_list = []\n",
    "    test_score_list = []\n",
    "    precision_score_list = []\n",
    "    recall_score_list = []\n",
    "    f1_score_list = []\n",
    "    feature_sample_array = preprocessing.scale(feature_sample_array)   # processing预处理\n",
    "    for train, test in skf.split(feature_sample_array,label_array):\n",
    "        train_data = np.array(feature_sample_array)[train,:]   # 划分好的训练集\n",
    "        train_label = np.array(label_array)[train]\n",
    "        test_data = np.array(feature_sample_array)[test,:]   # 划分好的测试集\n",
    "        test_label = np.array(label_array)[test]\n",
    "        if method == \"MLP\":\n",
    "            # 利用mlp进行多分类\n",
    "            from sklearn.neural_network import MLPClassifier\n",
    "#             clf = MLPClassifier(solver='lbfgs',alpha=1e-6,hidden_layer_sizes=(64,3))\n",
    "#             clf = MLPClassifier(solver='lbfgs',alpha=1e-6,hidden_layer_sizes=(128,6))\n",
    "            clf = MLPClassifier(solver='lbfgs',alpha=1e-6,hidden_layer_sizes=(256,9))\n",
    "            clf.fit(train_data,train_label)\n",
    "        if method == \"RVM\":\n",
    "            from sklearn_rvm import EMRVC\n",
    "            clf = EMRVC(kernel='linear')\n",
    "            clf.fit(train_data,train_label)\n",
    "        if method == \"RandomForest\":\n",
    "            from sklearn.ensemble import RandomForestClassifier\n",
    "            clf = RandomForestClassifier(max_depth=3)\n",
    "            clf.fit(train_data,train_label)\n",
    "        if method == \"RVM\":\n",
    "            from sklearn_rvm import EMRVC\n",
    "            clf = EMRVC(kernel='rbf',max_iter=10)\n",
    "            clf.fit(train_data,train_label)\n",
    "        # 采用混淆矩阵计算各种评价指标\n",
    "        predicted_train_label = clf.predict(train_data)\n",
    "        predicted_test_label = clf.predict(test_data)\n",
    "        print(\"当前折训练集准确率：\",metrics.accuracy_score(train_label,predicted_train_label))\n",
    "        train_score_list.append(metrics.accuracy_score(train_label,predicted_train_label))\n",
    "        print(\"当前折测试集准确率：\",metrics.accuracy_score(test_label,predicted_test_label))\n",
    "        test_score_list.append(metrics.accuracy_score(test_label,predicted_test_label))\n",
    "#         print(\"当前折精准值：\",metrics.precision_score(test_label,predicted_test_label,average='weighted'))\n",
    "        precision_score_list.append(metrics.precision_score(test_label,predicted_test_label,average='weighted'))\n",
    "#         print(\"当前折召回率：\",metrics.recall_score(test_label,predicted_test_label,average='weighted'))\n",
    "        recall_score_list.append(metrics.recall_score(test_label,predicted_test_label,average='weighted'))\n",
    "#         print(\"当前折F1：\",metrics.f1_score(test_label,predicted_test_label,average='weighted'))\n",
    "        f1_score_list.append(metrics.f1_score(test_label,predicted_test_label,average='weighted'))\n",
    "#         print(\"Done!*****************************************************\")\n",
    "       \n",
    "    print(\"Method:\",method,\" Clf_num:\",clf_num)\n",
    "    print(\"训练集准确率：\",np.array(train_score_list).mean())\n",
    "    print(\"测试集准确率：\",np.array(test_score_list).mean())\n",
    "    print(\"精确率：\",np.array(precision_score_list).mean())\n",
    "    print(\"召回率：\",np.array(recall_score_list).mean())\n",
    "    print(\"F1得分：\",np.array(f1_score_list).mean())"
   ]
  },
  {
   "cell_type": "code",
   "execution_count": 14,
   "metadata": {},
   "outputs": [
    {
     "name": "stdout",
     "output_type": "stream",
     "text": [
      "类别1样本数量： 511 类别1文件数量： 511\n",
      "类别2样本数量： 202 类别2文件数量： 202\n",
      "类别3样本数量： 104 类别3文件数量： 104\n",
      "类别4样本数量： 159 类别4文件数量： 159\n"
     ]
    },
    {
     "name": "stderr",
     "output_type": "stream",
     "text": [
      "C:\\Users\\admin\\Anaconda3\\envs\\UEX\\lib\\site-packages\\sklearn_rvm\\em_rvm.py:675: FutureWarning: The default value of gamma will change from 'auto' to 'scale' in version 0.22 to account better for unscaled features. Set gamma explicitly to 'auto' or 'scale' to avoid this warning.\n",
      "  warnings.warn(\"The default value of gamma will change \"\n"
     ]
    },
    {
     "name": "stdout",
     "output_type": "stream",
     "text": [
      "当前折训练集准确率： 0.9722650231124808\n",
      "当前折测试集准确率： 0.6712328767123288\n"
     ]
    },
    {
     "name": "stderr",
     "output_type": "stream",
     "text": [
      "C:\\Users\\admin\\Anaconda3\\envs\\UEX\\lib\\site-packages\\sklearn_rvm\\em_rvm.py:675: FutureWarning: The default value of gamma will change from 'auto' to 'scale' in version 0.22 to account better for unscaled features. Set gamma explicitly to 'auto' or 'scale' to avoid this warning.\n",
      "  warnings.warn(\"The default value of gamma will change \"\n"
     ]
    },
    {
     "name": "stdout",
     "output_type": "stream",
     "text": [
      "当前折训练集准确率： 0.9799691833590138\n",
      "当前折测试集准确率： 0.684931506849315\n"
     ]
    },
    {
     "name": "stderr",
     "output_type": "stream",
     "text": [
      "C:\\Users\\admin\\Anaconda3\\envs\\UEX\\lib\\site-packages\\sklearn_rvm\\em_rvm.py:675: FutureWarning: The default value of gamma will change from 'auto' to 'scale' in version 0.22 to account better for unscaled features. Set gamma explicitly to 'auto' or 'scale' to avoid this warning.\n",
      "  warnings.warn(\"The default value of gamma will change \"\n"
     ]
    },
    {
     "name": "stdout",
     "output_type": "stream",
     "text": [
      "当前折训练集准确率： 0.9676923076923077\n",
      "当前折测试集准确率： 0.8055555555555556\n"
     ]
    },
    {
     "name": "stderr",
     "output_type": "stream",
     "text": [
      "C:\\Users\\admin\\Anaconda3\\envs\\UEX\\lib\\site-packages\\sklearn_rvm\\em_rvm.py:675: FutureWarning: The default value of gamma will change from 'auto' to 'scale' in version 0.22 to account better for unscaled features. Set gamma explicitly to 'auto' or 'scale' to avoid this warning.\n",
      "  warnings.warn(\"The default value of gamma will change \"\n"
     ]
    },
    {
     "name": "stdout",
     "output_type": "stream",
     "text": [
      "当前折训练集准确率： 0.9538461538461539\n",
      "当前折测试集准确率： 0.8194444444444444\n"
     ]
    },
    {
     "name": "stderr",
     "output_type": "stream",
     "text": [
      "C:\\Users\\admin\\Anaconda3\\envs\\UEX\\lib\\site-packages\\sklearn_rvm\\em_rvm.py:675: FutureWarning: The default value of gamma will change from 'auto' to 'scale' in version 0.22 to account better for unscaled features. Set gamma explicitly to 'auto' or 'scale' to avoid this warning.\n",
      "  warnings.warn(\"The default value of gamma will change \"\n"
     ]
    },
    {
     "name": "stdout",
     "output_type": "stream",
     "text": [
      "当前折训练集准确率： 0.9969230769230769\n",
      "当前折测试集准确率： 0.7361111111111112\n"
     ]
    },
    {
     "name": "stderr",
     "output_type": "stream",
     "text": [
      "C:\\Users\\admin\\Anaconda3\\envs\\UEX\\lib\\site-packages\\sklearn_rvm\\em_rvm.py:675: FutureWarning: The default value of gamma will change from 'auto' to 'scale' in version 0.22 to account better for unscaled features. Set gamma explicitly to 'auto' or 'scale' to avoid this warning.\n",
      "  warnings.warn(\"The default value of gamma will change \"\n"
     ]
    },
    {
     "name": "stdout",
     "output_type": "stream",
     "text": [
      "当前折训练集准确率： 0.9723076923076923\n",
      "当前折测试集准确率： 0.5694444444444444\n"
     ]
    },
    {
     "name": "stderr",
     "output_type": "stream",
     "text": [
      "C:\\Users\\admin\\Anaconda3\\envs\\UEX\\lib\\site-packages\\sklearn_rvm\\em_rvm.py:675: FutureWarning: The default value of gamma will change from 'auto' to 'scale' in version 0.22 to account better for unscaled features. Set gamma explicitly to 'auto' or 'scale' to avoid this warning.\n",
      "  warnings.warn(\"The default value of gamma will change \"\n"
     ]
    },
    {
     "name": "stdout",
     "output_type": "stream",
     "text": [
      "当前折训练集准确率： 0.9738461538461538\n",
      "当前折测试集准确率： 0.6111111111111112\n"
     ]
    },
    {
     "name": "stderr",
     "output_type": "stream",
     "text": [
      "C:\\Users\\admin\\Anaconda3\\envs\\UEX\\lib\\site-packages\\sklearn_rvm\\em_rvm.py:675: FutureWarning: The default value of gamma will change from 'auto' to 'scale' in version 0.22 to account better for unscaled features. Set gamma explicitly to 'auto' or 'scale' to avoid this warning.\n",
      "  warnings.warn(\"The default value of gamma will change \"\n"
     ]
    },
    {
     "name": "stdout",
     "output_type": "stream",
     "text": [
      "当前折训练集准确率： 0.9784615384615385\n",
      "当前折测试集准确率： 0.5694444444444444\n"
     ]
    },
    {
     "name": "stderr",
     "output_type": "stream",
     "text": [
      "C:\\Users\\admin\\Anaconda3\\envs\\UEX\\lib\\site-packages\\sklearn_rvm\\em_rvm.py:675: FutureWarning: The default value of gamma will change from 'auto' to 'scale' in version 0.22 to account better for unscaled features. Set gamma explicitly to 'auto' or 'scale' to avoid this warning.\n",
      "  warnings.warn(\"The default value of gamma will change \"\n"
     ]
    },
    {
     "name": "stdout",
     "output_type": "stream",
     "text": [
      "当前折训练集准确率： 0.9676923076923077\n",
      "当前折测试集准确率： 0.7222222222222222\n"
     ]
    },
    {
     "name": "stderr",
     "output_type": "stream",
     "text": [
      "C:\\Users\\admin\\Anaconda3\\envs\\UEX\\lib\\site-packages\\sklearn_rvm\\em_rvm.py:675: FutureWarning: The default value of gamma will change from 'auto' to 'scale' in version 0.22 to account better for unscaled features. Set gamma explicitly to 'auto' or 'scale' to avoid this warning.\n",
      "  warnings.warn(\"The default value of gamma will change \"\n"
     ]
    },
    {
     "name": "stdout",
     "output_type": "stream",
     "text": [
      "当前折训练集准确率： 0.9646153846153847\n",
      "当前折测试集准确率： 0.7083333333333334\n",
      "Method: RVM  Clf_num: 2\n",
      "训练集准确率： 0.9727618821856112\n",
      "测试集准确率： 0.689783105022831\n",
      "精确率： 0.7065408794898554\n",
      "召回率： 0.689783105022831\n",
      "F1得分： 0.6806780993756012\n",
      "类别1样本数量： 511 类别1文件数量： 511\n",
      "类别2样本数量： 202 类别2文件数量： 202\n",
      "类别3样本数量： 104 类别3文件数量： 104\n",
      "类别4样本数量： 159 类别4文件数量： 159\n"
     ]
    },
    {
     "name": "stderr",
     "output_type": "stream",
     "text": [
      "C:\\Users\\admin\\Anaconda3\\envs\\UEX\\lib\\site-packages\\sklearn_rvm\\em_rvm.py:675: FutureWarning: The default value of gamma will change from 'auto' to 'scale' in version 0.22 to account better for unscaled features. Set gamma explicitly to 'auto' or 'scale' to avoid this warning.\n",
      "  warnings.warn(\"The default value of gamma will change \"\n",
      "C:\\Users\\admin\\Anaconda3\\envs\\UEX\\lib\\site-packages\\sklearn_rvm\\em_rvm.py:675: FutureWarning: The default value of gamma will change from 'auto' to 'scale' in version 0.22 to account better for unscaled features. Set gamma explicitly to 'auto' or 'scale' to avoid this warning.\n",
      "  warnings.warn(\"The default value of gamma will change \"\n",
      "C:\\Users\\admin\\Anaconda3\\envs\\UEX\\lib\\site-packages\\sklearn_rvm\\em_rvm.py:675: FutureWarning: The default value of gamma will change from 'auto' to 'scale' in version 0.22 to account better for unscaled features. Set gamma explicitly to 'auto' or 'scale' to avoid this warning.\n",
      "  warnings.warn(\"The default value of gamma will change \"\n",
      "C:\\Users\\admin\\Anaconda3\\envs\\UEX\\lib\\site-packages\\sklearn_rvm\\em_rvm.py:675: FutureWarning: The default value of gamma will change from 'auto' to 'scale' in version 0.22 to account better for unscaled features. Set gamma explicitly to 'auto' or 'scale' to avoid this warning.\n",
      "  warnings.warn(\"The default value of gamma will change \"\n"
     ]
    },
    {
     "name": "stdout",
     "output_type": "stream",
     "text": [
      "当前折训练集准确率： 0.965034965034965\n",
      "当前折测试集准确率： 0.4791666666666667\n"
     ]
    },
    {
     "name": "stderr",
     "output_type": "stream",
     "text": [
      "C:\\Users\\admin\\Anaconda3\\envs\\UEX\\lib\\site-packages\\sklearn_rvm\\em_rvm.py:675: FutureWarning: The default value of gamma will change from 'auto' to 'scale' in version 0.22 to account better for unscaled features. Set gamma explicitly to 'auto' or 'scale' to avoid this warning.\n",
      "  warnings.warn(\"The default value of gamma will change \"\n",
      "C:\\Users\\admin\\Anaconda3\\envs\\UEX\\lib\\site-packages\\sklearn_rvm\\em_rvm.py:675: FutureWarning: The default value of gamma will change from 'auto' to 'scale' in version 0.22 to account better for unscaled features. Set gamma explicitly to 'auto' or 'scale' to avoid this warning.\n",
      "  warnings.warn(\"The default value of gamma will change \"\n",
      "C:\\Users\\admin\\Anaconda3\\envs\\UEX\\lib\\site-packages\\sklearn_rvm\\em_rvm.py:675: FutureWarning: The default value of gamma will change from 'auto' to 'scale' in version 0.22 to account better for unscaled features. Set gamma explicitly to 'auto' or 'scale' to avoid this warning.\n",
      "  warnings.warn(\"The default value of gamma will change \"\n",
      "C:\\Users\\admin\\Anaconda3\\envs\\UEX\\lib\\site-packages\\sklearn_rvm\\em_rvm.py:675: FutureWarning: The default value of gamma will change from 'auto' to 'scale' in version 0.22 to account better for unscaled features. Set gamma explicitly to 'auto' or 'scale' to avoid this warning.\n",
      "  warnings.warn(\"The default value of gamma will change \"\n"
     ]
    },
    {
     "name": "stdout",
     "output_type": "stream",
     "text": [
      "当前折训练集准确率： 0.9836829836829837\n",
      "当前折测试集准确率： 0.4166666666666667\n"
     ]
    },
    {
     "name": "stderr",
     "output_type": "stream",
     "text": [
      "C:\\Users\\admin\\Anaconda3\\envs\\UEX\\lib\\site-packages\\sklearn_rvm\\em_rvm.py:675: FutureWarning: The default value of gamma will change from 'auto' to 'scale' in version 0.22 to account better for unscaled features. Set gamma explicitly to 'auto' or 'scale' to avoid this warning.\n",
      "  warnings.warn(\"The default value of gamma will change \"\n",
      "C:\\Users\\admin\\Anaconda3\\envs\\UEX\\lib\\site-packages\\sklearn_rvm\\em_rvm.py:675: FutureWarning: The default value of gamma will change from 'auto' to 'scale' in version 0.22 to account better for unscaled features. Set gamma explicitly to 'auto' or 'scale' to avoid this warning.\n",
      "  warnings.warn(\"The default value of gamma will change \"\n",
      "C:\\Users\\admin\\Anaconda3\\envs\\UEX\\lib\\site-packages\\sklearn_rvm\\em_rvm.py:675: FutureWarning: The default value of gamma will change from 'auto' to 'scale' in version 0.22 to account better for unscaled features. Set gamma explicitly to 'auto' or 'scale' to avoid this warning.\n",
      "  warnings.warn(\"The default value of gamma will change \"\n",
      "C:\\Users\\admin\\Anaconda3\\envs\\UEX\\lib\\site-packages\\sklearn_rvm\\em_rvm.py:675: FutureWarning: The default value of gamma will change from 'auto' to 'scale' in version 0.22 to account better for unscaled features. Set gamma explicitly to 'auto' or 'scale' to avoid this warning.\n",
      "  warnings.warn(\"The default value of gamma will change \"\n"
     ]
    },
    {
     "name": "stdout",
     "output_type": "stream",
     "text": [
      "当前折训练集准确率： 0.9766899766899767\n",
      "当前折测试集准确率： 0.375\n"
     ]
    },
    {
     "name": "stderr",
     "output_type": "stream",
     "text": [
      "C:\\Users\\admin\\Anaconda3\\envs\\UEX\\lib\\site-packages\\sklearn_rvm\\em_rvm.py:675: FutureWarning: The default value of gamma will change from 'auto' to 'scale' in version 0.22 to account better for unscaled features. Set gamma explicitly to 'auto' or 'scale' to avoid this warning.\n",
      "  warnings.warn(\"The default value of gamma will change \"\n",
      "C:\\Users\\admin\\Anaconda3\\envs\\UEX\\lib\\site-packages\\sklearn_rvm\\em_rvm.py:675: FutureWarning: The default value of gamma will change from 'auto' to 'scale' in version 0.22 to account better for unscaled features. Set gamma explicitly to 'auto' or 'scale' to avoid this warning.\n",
      "  warnings.warn(\"The default value of gamma will change \"\n",
      "C:\\Users\\admin\\Anaconda3\\envs\\UEX\\lib\\site-packages\\sklearn_rvm\\em_rvm.py:675: FutureWarning: The default value of gamma will change from 'auto' to 'scale' in version 0.22 to account better for unscaled features. Set gamma explicitly to 'auto' or 'scale' to avoid this warning.\n",
      "  warnings.warn(\"The default value of gamma will change \"\n",
      "C:\\Users\\admin\\Anaconda3\\envs\\UEX\\lib\\site-packages\\sklearn_rvm\\em_rvm.py:675: FutureWarning: The default value of gamma will change from 'auto' to 'scale' in version 0.22 to account better for unscaled features. Set gamma explicitly to 'auto' or 'scale' to avoid this warning.\n",
      "  warnings.warn(\"The default value of gamma will change \"\n"
     ]
    },
    {
     "name": "stdout",
     "output_type": "stream",
     "text": [
      "当前折训练集准确率： 0.9743589743589743\n",
      "当前折测试集准确率： 0.5625\n"
     ]
    },
    {
     "name": "stderr",
     "output_type": "stream",
     "text": [
      "C:\\Users\\admin\\Anaconda3\\envs\\UEX\\lib\\site-packages\\sklearn_rvm\\em_rvm.py:675: FutureWarning: The default value of gamma will change from 'auto' to 'scale' in version 0.22 to account better for unscaled features. Set gamma explicitly to 'auto' or 'scale' to avoid this warning.\n",
      "  warnings.warn(\"The default value of gamma will change \"\n",
      "C:\\Users\\admin\\Anaconda3\\envs\\UEX\\lib\\site-packages\\sklearn_rvm\\em_rvm.py:675: FutureWarning: The default value of gamma will change from 'auto' to 'scale' in version 0.22 to account better for unscaled features. Set gamma explicitly to 'auto' or 'scale' to avoid this warning.\n",
      "  warnings.warn(\"The default value of gamma will change \"\n",
      "C:\\Users\\admin\\Anaconda3\\envs\\UEX\\lib\\site-packages\\sklearn_rvm\\em_rvm.py:675: FutureWarning: The default value of gamma will change from 'auto' to 'scale' in version 0.22 to account better for unscaled features. Set gamma explicitly to 'auto' or 'scale' to avoid this warning.\n",
      "  warnings.warn(\"The default value of gamma will change \"\n",
      "C:\\Users\\admin\\Anaconda3\\envs\\UEX\\lib\\site-packages\\sklearn_rvm\\em_rvm.py:675: FutureWarning: The default value of gamma will change from 'auto' to 'scale' in version 0.22 to account better for unscaled features. Set gamma explicitly to 'auto' or 'scale' to avoid this warning.\n",
      "  warnings.warn(\"The default value of gamma will change \"\n"
     ]
    },
    {
     "name": "stdout",
     "output_type": "stream",
     "text": [
      "当前折训练集准确率： 0.9743589743589743\n",
      "当前折测试集准确率： 0.6041666666666666\n"
     ]
    },
    {
     "name": "stderr",
     "output_type": "stream",
     "text": [
      "C:\\Users\\admin\\Anaconda3\\envs\\UEX\\lib\\site-packages\\sklearn_rvm\\em_rvm.py:675: FutureWarning: The default value of gamma will change from 'auto' to 'scale' in version 0.22 to account better for unscaled features. Set gamma explicitly to 'auto' or 'scale' to avoid this warning.\n",
      "  warnings.warn(\"The default value of gamma will change \"\n",
      "C:\\Users\\admin\\Anaconda3\\envs\\UEX\\lib\\site-packages\\sklearn_rvm\\em_rvm.py:675: FutureWarning: The default value of gamma will change from 'auto' to 'scale' in version 0.22 to account better for unscaled features. Set gamma explicitly to 'auto' or 'scale' to avoid this warning.\n",
      "  warnings.warn(\"The default value of gamma will change \"\n",
      "C:\\Users\\admin\\Anaconda3\\envs\\UEX\\lib\\site-packages\\sklearn_rvm\\em_rvm.py:675: FutureWarning: The default value of gamma will change from 'auto' to 'scale' in version 0.22 to account better for unscaled features. Set gamma explicitly to 'auto' or 'scale' to avoid this warning.\n",
      "  warnings.warn(\"The default value of gamma will change \"\n",
      "C:\\Users\\admin\\Anaconda3\\envs\\UEX\\lib\\site-packages\\sklearn_rvm\\em_rvm.py:675: FutureWarning: The default value of gamma will change from 'auto' to 'scale' in version 0.22 to account better for unscaled features. Set gamma explicitly to 'auto' or 'scale' to avoid this warning.\n",
      "  warnings.warn(\"The default value of gamma will change \"\n"
     ]
    },
    {
     "name": "stdout",
     "output_type": "stream",
     "text": [
      "当前折训练集准确率： 0.9627039627039627\n",
      "当前折测试集准确率： 0.6458333333333334\n"
     ]
    },
    {
     "name": "stderr",
     "output_type": "stream",
     "text": [
      "C:\\Users\\admin\\Anaconda3\\envs\\UEX\\lib\\site-packages\\sklearn_rvm\\em_rvm.py:675: FutureWarning: The default value of gamma will change from 'auto' to 'scale' in version 0.22 to account better for unscaled features. Set gamma explicitly to 'auto' or 'scale' to avoid this warning.\n",
      "  warnings.warn(\"The default value of gamma will change \"\n",
      "C:\\Users\\admin\\Anaconda3\\envs\\UEX\\lib\\site-packages\\sklearn_rvm\\em_rvm.py:675: FutureWarning: The default value of gamma will change from 'auto' to 'scale' in version 0.22 to account better for unscaled features. Set gamma explicitly to 'auto' or 'scale' to avoid this warning.\n",
      "  warnings.warn(\"The default value of gamma will change \"\n",
      "C:\\Users\\admin\\Anaconda3\\envs\\UEX\\lib\\site-packages\\sklearn_rvm\\em_rvm.py:675: FutureWarning: The default value of gamma will change from 'auto' to 'scale' in version 0.22 to account better for unscaled features. Set gamma explicitly to 'auto' or 'scale' to avoid this warning.\n",
      "  warnings.warn(\"The default value of gamma will change \"\n",
      "C:\\Users\\admin\\Anaconda3\\envs\\UEX\\lib\\site-packages\\sklearn_rvm\\em_rvm.py:675: FutureWarning: The default value of gamma will change from 'auto' to 'scale' in version 0.22 to account better for unscaled features. Set gamma explicitly to 'auto' or 'scale' to avoid this warning.\n",
      "  warnings.warn(\"The default value of gamma will change \"\n"
     ]
    },
    {
     "name": "stdout",
     "output_type": "stream",
     "text": [
      "当前折训练集准确率： 0.958041958041958\n",
      "当前折测试集准确率： 0.6875\n"
     ]
    },
    {
     "name": "stderr",
     "output_type": "stream",
     "text": [
      "C:\\Users\\admin\\Anaconda3\\envs\\UEX\\lib\\site-packages\\sklearn_rvm\\em_rvm.py:675: FutureWarning: The default value of gamma will change from 'auto' to 'scale' in version 0.22 to account better for unscaled features. Set gamma explicitly to 'auto' or 'scale' to avoid this warning.\n",
      "  warnings.warn(\"The default value of gamma will change \"\n",
      "C:\\Users\\admin\\Anaconda3\\envs\\UEX\\lib\\site-packages\\sklearn_rvm\\em_rvm.py:675: FutureWarning: The default value of gamma will change from 'auto' to 'scale' in version 0.22 to account better for unscaled features. Set gamma explicitly to 'auto' or 'scale' to avoid this warning.\n",
      "  warnings.warn(\"The default value of gamma will change \"\n",
      "C:\\Users\\admin\\Anaconda3\\envs\\UEX\\lib\\site-packages\\sklearn_rvm\\em_rvm.py:675: FutureWarning: The default value of gamma will change from 'auto' to 'scale' in version 0.22 to account better for unscaled features. Set gamma explicitly to 'auto' or 'scale' to avoid this warning.\n",
      "  warnings.warn(\"The default value of gamma will change \"\n",
      "C:\\Users\\admin\\Anaconda3\\envs\\UEX\\lib\\site-packages\\sklearn_rvm\\em_rvm.py:675: FutureWarning: The default value of gamma will change from 'auto' to 'scale' in version 0.22 to account better for unscaled features. Set gamma explicitly to 'auto' or 'scale' to avoid this warning.\n",
      "  warnings.warn(\"The default value of gamma will change \"\n"
     ]
    },
    {
     "name": "stdout",
     "output_type": "stream",
     "text": [
      "当前折训练集准确率： 0.9744186046511628\n",
      "当前折测试集准确率： 0.574468085106383\n"
     ]
    },
    {
     "name": "stderr",
     "output_type": "stream",
     "text": [
      "C:\\Users\\admin\\Anaconda3\\envs\\UEX\\lib\\site-packages\\sklearn_rvm\\em_rvm.py:675: FutureWarning: The default value of gamma will change from 'auto' to 'scale' in version 0.22 to account better for unscaled features. Set gamma explicitly to 'auto' or 'scale' to avoid this warning.\n",
      "  warnings.warn(\"The default value of gamma will change \"\n",
      "C:\\Users\\admin\\Anaconda3\\envs\\UEX\\lib\\site-packages\\sklearn_rvm\\em_rvm.py:675: FutureWarning: The default value of gamma will change from 'auto' to 'scale' in version 0.22 to account better for unscaled features. Set gamma explicitly to 'auto' or 'scale' to avoid this warning.\n",
      "  warnings.warn(\"The default value of gamma will change \"\n",
      "C:\\Users\\admin\\Anaconda3\\envs\\UEX\\lib\\site-packages\\sklearn_rvm\\em_rvm.py:675: FutureWarning: The default value of gamma will change from 'auto' to 'scale' in version 0.22 to account better for unscaled features. Set gamma explicitly to 'auto' or 'scale' to avoid this warning.\n",
      "  warnings.warn(\"The default value of gamma will change \"\n",
      "C:\\Users\\admin\\Anaconda3\\envs\\UEX\\lib\\site-packages\\sklearn_rvm\\em_rvm.py:675: FutureWarning: The default value of gamma will change from 'auto' to 'scale' in version 0.22 to account better for unscaled features. Set gamma explicitly to 'auto' or 'scale' to avoid this warning.\n",
      "  warnings.warn(\"The default value of gamma will change \"\n"
     ]
    },
    {
     "name": "stdout",
     "output_type": "stream",
     "text": [
      "当前折训练集准确率： 0.9627906976744186\n",
      "当前折测试集准确率： 0.574468085106383\n"
     ]
    },
    {
     "name": "stderr",
     "output_type": "stream",
     "text": [
      "C:\\Users\\admin\\Anaconda3\\envs\\UEX\\lib\\site-packages\\sklearn_rvm\\em_rvm.py:675: FutureWarning: The default value of gamma will change from 'auto' to 'scale' in version 0.22 to account better for unscaled features. Set gamma explicitly to 'auto' or 'scale' to avoid this warning.\n",
      "  warnings.warn(\"The default value of gamma will change \"\n",
      "C:\\Users\\admin\\Anaconda3\\envs\\UEX\\lib\\site-packages\\sklearn_rvm\\em_rvm.py:675: FutureWarning: The default value of gamma will change from 'auto' to 'scale' in version 0.22 to account better for unscaled features. Set gamma explicitly to 'auto' or 'scale' to avoid this warning.\n",
      "  warnings.warn(\"The default value of gamma will change \"\n",
      "C:\\Users\\admin\\Anaconda3\\envs\\UEX\\lib\\site-packages\\sklearn_rvm\\em_rvm.py:675: FutureWarning: The default value of gamma will change from 'auto' to 'scale' in version 0.22 to account better for unscaled features. Set gamma explicitly to 'auto' or 'scale' to avoid this warning.\n",
      "  warnings.warn(\"The default value of gamma will change \"\n",
      "C:\\Users\\admin\\Anaconda3\\envs\\UEX\\lib\\site-packages\\sklearn_rvm\\em_rvm.py:675: FutureWarning: The default value of gamma will change from 'auto' to 'scale' in version 0.22 to account better for unscaled features. Set gamma explicitly to 'auto' or 'scale' to avoid this warning.\n",
      "  warnings.warn(\"The default value of gamma will change \"\n"
     ]
    },
    {
     "name": "stdout",
     "output_type": "stream",
     "text": [
      "当前折训练集准确率： 0.9720930232558139\n",
      "当前折测试集准确率： 0.48936170212765956\n",
      "Method: RVM  Clf_num: 3\n",
      "训练集准确率： 0.9704174120453191\n",
      "测试集准确率： 0.5409131205673758\n",
      "精确率： 0.547396977676236\n",
      "召回率： 0.5409131205673758\n",
      "F1得分： 0.5272666484399925\n",
      "类别1样本数量： 511 类别1文件数量： 511\n",
      "类别2样本数量： 202 类别2文件数量： 202\n",
      "类别3样本数量： 104 类别3文件数量： 104\n",
      "类别4样本数量： 159 类别4文件数量： 159\n"
     ]
    },
    {
     "name": "stderr",
     "output_type": "stream",
     "text": [
      "C:\\Users\\admin\\Anaconda3\\envs\\UEX\\lib\\site-packages\\sklearn_rvm\\em_rvm.py:675: FutureWarning: The default value of gamma will change from 'auto' to 'scale' in version 0.22 to account better for unscaled features. Set gamma explicitly to 'auto' or 'scale' to avoid this warning.\n",
      "  warnings.warn(\"The default value of gamma will change \"\n",
      "C:\\Users\\admin\\Anaconda3\\envs\\UEX\\lib\\site-packages\\sklearn_rvm\\em_rvm.py:675: FutureWarning: The default value of gamma will change from 'auto' to 'scale' in version 0.22 to account better for unscaled features. Set gamma explicitly to 'auto' or 'scale' to avoid this warning.\n",
      "  warnings.warn(\"The default value of gamma will change \"\n",
      "C:\\Users\\admin\\Anaconda3\\envs\\UEX\\lib\\site-packages\\sklearn_rvm\\em_rvm.py:675: FutureWarning: The default value of gamma will change from 'auto' to 'scale' in version 0.22 to account better for unscaled features. Set gamma explicitly to 'auto' or 'scale' to avoid this warning.\n",
      "  warnings.warn(\"The default value of gamma will change \"\n",
      "C:\\Users\\admin\\Anaconda3\\envs\\UEX\\lib\\site-packages\\sklearn_rvm\\em_rvm.py:675: FutureWarning: The default value of gamma will change from 'auto' to 'scale' in version 0.22 to account better for unscaled features. Set gamma explicitly to 'auto' or 'scale' to avoid this warning.\n",
      "  warnings.warn(\"The default value of gamma will change \"\n",
      "C:\\Users\\admin\\Anaconda3\\envs\\UEX\\lib\\site-packages\\sklearn_rvm\\em_rvm.py:675: FutureWarning: The default value of gamma will change from 'auto' to 'scale' in version 0.22 to account better for unscaled features. Set gamma explicitly to 'auto' or 'scale' to avoid this warning.\n",
      "  warnings.warn(\"The default value of gamma will change \"\n"
     ]
    },
    {
     "name": "stdout",
     "output_type": "stream",
     "text": [
      "当前折训练集准确率： 0.9652406417112299\n",
      "当前折测试集准确率： 0.47619047619047616\n"
     ]
    },
    {
     "name": "stderr",
     "output_type": "stream",
     "text": [
      "C:\\Users\\admin\\Anaconda3\\envs\\UEX\\lib\\site-packages\\sklearn_rvm\\em_rvm.py:675: FutureWarning: The default value of gamma will change from 'auto' to 'scale' in version 0.22 to account better for unscaled features. Set gamma explicitly to 'auto' or 'scale' to avoid this warning.\n",
      "  warnings.warn(\"The default value of gamma will change \"\n",
      "C:\\Users\\admin\\Anaconda3\\envs\\UEX\\lib\\site-packages\\sklearn_rvm\\em_rvm.py:675: FutureWarning: The default value of gamma will change from 'auto' to 'scale' in version 0.22 to account better for unscaled features. Set gamma explicitly to 'auto' or 'scale' to avoid this warning.\n",
      "  warnings.warn(\"The default value of gamma will change \"\n",
      "C:\\Users\\admin\\Anaconda3\\envs\\UEX\\lib\\site-packages\\sklearn_rvm\\em_rvm.py:675: FutureWarning: The default value of gamma will change from 'auto' to 'scale' in version 0.22 to account better for unscaled features. Set gamma explicitly to 'auto' or 'scale' to avoid this warning.\n",
      "  warnings.warn(\"The default value of gamma will change \"\n",
      "C:\\Users\\admin\\Anaconda3\\envs\\UEX\\lib\\site-packages\\sklearn_rvm\\em_rvm.py:675: FutureWarning: The default value of gamma will change from 'auto' to 'scale' in version 0.22 to account better for unscaled features. Set gamma explicitly to 'auto' or 'scale' to avoid this warning.\n",
      "  warnings.warn(\"The default value of gamma will change \"\n",
      "C:\\Users\\admin\\Anaconda3\\envs\\UEX\\lib\\site-packages\\sklearn_rvm\\em_rvm.py:675: FutureWarning: The default value of gamma will change from 'auto' to 'scale' in version 0.22 to account better for unscaled features. Set gamma explicitly to 'auto' or 'scale' to avoid this warning.\n",
      "  warnings.warn(\"The default value of gamma will change \"\n"
     ]
    },
    {
     "name": "stdout",
     "output_type": "stream",
     "text": [
      "当前折训练集准确率： 0.9385026737967914\n",
      "当前折测试集准确率： 0.5714285714285714\n"
     ]
    },
    {
     "name": "stderr",
     "output_type": "stream",
     "text": [
      "C:\\Users\\admin\\Anaconda3\\envs\\UEX\\lib\\site-packages\\sklearn_rvm\\em_rvm.py:675: FutureWarning: The default value of gamma will change from 'auto' to 'scale' in version 0.22 to account better for unscaled features. Set gamma explicitly to 'auto' or 'scale' to avoid this warning.\n",
      "  warnings.warn(\"The default value of gamma will change \"\n",
      "C:\\Users\\admin\\Anaconda3\\envs\\UEX\\lib\\site-packages\\sklearn_rvm\\em_rvm.py:675: FutureWarning: The default value of gamma will change from 'auto' to 'scale' in version 0.22 to account better for unscaled features. Set gamma explicitly to 'auto' or 'scale' to avoid this warning.\n",
      "  warnings.warn(\"The default value of gamma will change \"\n",
      "C:\\Users\\admin\\Anaconda3\\envs\\UEX\\lib\\site-packages\\sklearn_rvm\\em_rvm.py:675: FutureWarning: The default value of gamma will change from 'auto' to 'scale' in version 0.22 to account better for unscaled features. Set gamma explicitly to 'auto' or 'scale' to avoid this warning.\n",
      "  warnings.warn(\"The default value of gamma will change \"\n",
      "C:\\Users\\admin\\Anaconda3\\envs\\UEX\\lib\\site-packages\\sklearn_rvm\\em_rvm.py:675: FutureWarning: The default value of gamma will change from 'auto' to 'scale' in version 0.22 to account better for unscaled features. Set gamma explicitly to 'auto' or 'scale' to avoid this warning.\n",
      "  warnings.warn(\"The default value of gamma will change \"\n",
      "C:\\Users\\admin\\Anaconda3\\envs\\UEX\\lib\\site-packages\\sklearn_rvm\\em_rvm.py:675: FutureWarning: The default value of gamma will change from 'auto' to 'scale' in version 0.22 to account better for unscaled features. Set gamma explicitly to 'auto' or 'scale' to avoid this warning.\n",
      "  warnings.warn(\"The default value of gamma will change \"\n"
     ]
    },
    {
     "name": "stdout",
     "output_type": "stream",
     "text": [
      "当前折训练集准确率： 0.9491978609625669\n",
      "当前折测试集准确率： 0.47619047619047616\n"
     ]
    },
    {
     "name": "stderr",
     "output_type": "stream",
     "text": [
      "C:\\Users\\admin\\Anaconda3\\envs\\UEX\\lib\\site-packages\\sklearn_rvm\\em_rvm.py:675: FutureWarning: The default value of gamma will change from 'auto' to 'scale' in version 0.22 to account better for unscaled features. Set gamma explicitly to 'auto' or 'scale' to avoid this warning.\n",
      "  warnings.warn(\"The default value of gamma will change \"\n",
      "C:\\Users\\admin\\Anaconda3\\envs\\UEX\\lib\\site-packages\\sklearn_rvm\\em_rvm.py:675: FutureWarning: The default value of gamma will change from 'auto' to 'scale' in version 0.22 to account better for unscaled features. Set gamma explicitly to 'auto' or 'scale' to avoid this warning.\n",
      "  warnings.warn(\"The default value of gamma will change \"\n",
      "C:\\Users\\admin\\Anaconda3\\envs\\UEX\\lib\\site-packages\\sklearn_rvm\\em_rvm.py:675: FutureWarning: The default value of gamma will change from 'auto' to 'scale' in version 0.22 to account better for unscaled features. Set gamma explicitly to 'auto' or 'scale' to avoid this warning.\n",
      "  warnings.warn(\"The default value of gamma will change \"\n",
      "C:\\Users\\admin\\Anaconda3\\envs\\UEX\\lib\\site-packages\\sklearn_rvm\\em_rvm.py:675: FutureWarning: The default value of gamma will change from 'auto' to 'scale' in version 0.22 to account better for unscaled features. Set gamma explicitly to 'auto' or 'scale' to avoid this warning.\n",
      "  warnings.warn(\"The default value of gamma will change \"\n",
      "C:\\Users\\admin\\Anaconda3\\envs\\UEX\\lib\\site-packages\\sklearn_rvm\\em_rvm.py:675: FutureWarning: The default value of gamma will change from 'auto' to 'scale' in version 0.22 to account better for unscaled features. Set gamma explicitly to 'auto' or 'scale' to avoid this warning.\n",
      "  warnings.warn(\"The default value of gamma will change \"\n"
     ]
    },
    {
     "name": "stdout",
     "output_type": "stream",
     "text": [
      "当前折训练集准确率： 0.9598930481283422\n",
      "当前折测试集准确率： 0.35714285714285715\n"
     ]
    },
    {
     "name": "stderr",
     "output_type": "stream",
     "text": [
      "C:\\Users\\admin\\Anaconda3\\envs\\UEX\\lib\\site-packages\\sklearn_rvm\\em_rvm.py:675: FutureWarning: The default value of gamma will change from 'auto' to 'scale' in version 0.22 to account better for unscaled features. Set gamma explicitly to 'auto' or 'scale' to avoid this warning.\n",
      "  warnings.warn(\"The default value of gamma will change \"\n",
      "C:\\Users\\admin\\Anaconda3\\envs\\UEX\\lib\\site-packages\\sklearn_rvm\\em_rvm.py:675: FutureWarning: The default value of gamma will change from 'auto' to 'scale' in version 0.22 to account better for unscaled features. Set gamma explicitly to 'auto' or 'scale' to avoid this warning.\n",
      "  warnings.warn(\"The default value of gamma will change \"\n",
      "C:\\Users\\admin\\Anaconda3\\envs\\UEX\\lib\\site-packages\\sklearn_rvm\\em_rvm.py:675: FutureWarning: The default value of gamma will change from 'auto' to 'scale' in version 0.22 to account better for unscaled features. Set gamma explicitly to 'auto' or 'scale' to avoid this warning.\n",
      "  warnings.warn(\"The default value of gamma will change \"\n",
      "C:\\Users\\admin\\Anaconda3\\envs\\UEX\\lib\\site-packages\\sklearn_rvm\\em_rvm.py:675: FutureWarning: The default value of gamma will change from 'auto' to 'scale' in version 0.22 to account better for unscaled features. Set gamma explicitly to 'auto' or 'scale' to avoid this warning.\n",
      "  warnings.warn(\"The default value of gamma will change \"\n",
      "C:\\Users\\admin\\Anaconda3\\envs\\UEX\\lib\\site-packages\\sklearn_rvm\\em_rvm.py:675: FutureWarning: The default value of gamma will change from 'auto' to 'scale' in version 0.22 to account better for unscaled features. Set gamma explicitly to 'auto' or 'scale' to avoid this warning.\n",
      "  warnings.warn(\"The default value of gamma will change \"\n"
     ]
    },
    {
     "name": "stdout",
     "output_type": "stream",
     "text": [
      "当前折训练集准确率： 0.9705882352941176\n",
      "当前折测试集准确率： 0.5476190476190477\n"
     ]
    },
    {
     "name": "stderr",
     "output_type": "stream",
     "text": [
      "C:\\Users\\admin\\Anaconda3\\envs\\UEX\\lib\\site-packages\\sklearn_rvm\\em_rvm.py:675: FutureWarning: The default value of gamma will change from 'auto' to 'scale' in version 0.22 to account better for unscaled features. Set gamma explicitly to 'auto' or 'scale' to avoid this warning.\n",
      "  warnings.warn(\"The default value of gamma will change \"\n",
      "C:\\Users\\admin\\Anaconda3\\envs\\UEX\\lib\\site-packages\\sklearn_rvm\\em_rvm.py:675: FutureWarning: The default value of gamma will change from 'auto' to 'scale' in version 0.22 to account better for unscaled features. Set gamma explicitly to 'auto' or 'scale' to avoid this warning.\n",
      "  warnings.warn(\"The default value of gamma will change \"\n",
      "C:\\Users\\admin\\Anaconda3\\envs\\UEX\\lib\\site-packages\\sklearn_rvm\\em_rvm.py:675: FutureWarning: The default value of gamma will change from 'auto' to 'scale' in version 0.22 to account better for unscaled features. Set gamma explicitly to 'auto' or 'scale' to avoid this warning.\n",
      "  warnings.warn(\"The default value of gamma will change \"\n",
      "C:\\Users\\admin\\Anaconda3\\envs\\UEX\\lib\\site-packages\\sklearn_rvm\\em_rvm.py:675: FutureWarning: The default value of gamma will change from 'auto' to 'scale' in version 0.22 to account better for unscaled features. Set gamma explicitly to 'auto' or 'scale' to avoid this warning.\n",
      "  warnings.warn(\"The default value of gamma will change \"\n",
      "C:\\Users\\admin\\Anaconda3\\envs\\UEX\\lib\\site-packages\\sklearn_rvm\\em_rvm.py:675: FutureWarning: The default value of gamma will change from 'auto' to 'scale' in version 0.22 to account better for unscaled features. Set gamma explicitly to 'auto' or 'scale' to avoid this warning.\n",
      "  warnings.warn(\"The default value of gamma will change \"\n"
     ]
    },
    {
     "name": "stdout",
     "output_type": "stream",
     "text": [
      "当前折训练集准确率： 0.9679144385026738\n",
      "当前折测试集准确率： 0.42857142857142855\n"
     ]
    },
    {
     "name": "stderr",
     "output_type": "stream",
     "text": [
      "C:\\Users\\admin\\Anaconda3\\envs\\UEX\\lib\\site-packages\\sklearn_rvm\\em_rvm.py:675: FutureWarning: The default value of gamma will change from 'auto' to 'scale' in version 0.22 to account better for unscaled features. Set gamma explicitly to 'auto' or 'scale' to avoid this warning.\n",
      "  warnings.warn(\"The default value of gamma will change \"\n",
      "C:\\Users\\admin\\Anaconda3\\envs\\UEX\\lib\\site-packages\\sklearn_rvm\\em_rvm.py:675: FutureWarning: The default value of gamma will change from 'auto' to 'scale' in version 0.22 to account better for unscaled features. Set gamma explicitly to 'auto' or 'scale' to avoid this warning.\n",
      "  warnings.warn(\"The default value of gamma will change \"\n",
      "C:\\Users\\admin\\Anaconda3\\envs\\UEX\\lib\\site-packages\\sklearn_rvm\\em_rvm.py:675: FutureWarning: The default value of gamma will change from 'auto' to 'scale' in version 0.22 to account better for unscaled features. Set gamma explicitly to 'auto' or 'scale' to avoid this warning.\n",
      "  warnings.warn(\"The default value of gamma will change \"\n",
      "C:\\Users\\admin\\Anaconda3\\envs\\UEX\\lib\\site-packages\\sklearn_rvm\\em_rvm.py:675: FutureWarning: The default value of gamma will change from 'auto' to 'scale' in version 0.22 to account better for unscaled features. Set gamma explicitly to 'auto' or 'scale' to avoid this warning.\n",
      "  warnings.warn(\"The default value of gamma will change \"\n",
      "C:\\Users\\admin\\Anaconda3\\envs\\UEX\\lib\\site-packages\\sklearn_rvm\\em_rvm.py:675: FutureWarning: The default value of gamma will change from 'auto' to 'scale' in version 0.22 to account better for unscaled features. Set gamma explicitly to 'auto' or 'scale' to avoid this warning.\n",
      "  warnings.warn(\"The default value of gamma will change \"\n"
     ]
    },
    {
     "name": "stdout",
     "output_type": "stream",
     "text": [
      "当前折训练集准确率： 0.9546666666666667\n",
      "当前折测试集准确率： 0.43902439024390244\n"
     ]
    },
    {
     "name": "stderr",
     "output_type": "stream",
     "text": [
      "C:\\Users\\admin\\Anaconda3\\envs\\UEX\\lib\\site-packages\\sklearn_rvm\\em_rvm.py:675: FutureWarning: The default value of gamma will change from 'auto' to 'scale' in version 0.22 to account better for unscaled features. Set gamma explicitly to 'auto' or 'scale' to avoid this warning.\n",
      "  warnings.warn(\"The default value of gamma will change \"\n",
      "C:\\Users\\admin\\Anaconda3\\envs\\UEX\\lib\\site-packages\\sklearn_rvm\\em_rvm.py:675: FutureWarning: The default value of gamma will change from 'auto' to 'scale' in version 0.22 to account better for unscaled features. Set gamma explicitly to 'auto' or 'scale' to avoid this warning.\n",
      "  warnings.warn(\"The default value of gamma will change \"\n",
      "C:\\Users\\admin\\Anaconda3\\envs\\UEX\\lib\\site-packages\\sklearn_rvm\\em_rvm.py:675: FutureWarning: The default value of gamma will change from 'auto' to 'scale' in version 0.22 to account better for unscaled features. Set gamma explicitly to 'auto' or 'scale' to avoid this warning.\n",
      "  warnings.warn(\"The default value of gamma will change \"\n",
      "C:\\Users\\admin\\Anaconda3\\envs\\UEX\\lib\\site-packages\\sklearn_rvm\\em_rvm.py:675: FutureWarning: The default value of gamma will change from 'auto' to 'scale' in version 0.22 to account better for unscaled features. Set gamma explicitly to 'auto' or 'scale' to avoid this warning.\n",
      "  warnings.warn(\"The default value of gamma will change \"\n",
      "C:\\Users\\admin\\Anaconda3\\envs\\UEX\\lib\\site-packages\\sklearn_rvm\\em_rvm.py:675: FutureWarning: The default value of gamma will change from 'auto' to 'scale' in version 0.22 to account better for unscaled features. Set gamma explicitly to 'auto' or 'scale' to avoid this warning.\n",
      "  warnings.warn(\"The default value of gamma will change \"\n"
     ]
    },
    {
     "name": "stdout",
     "output_type": "stream",
     "text": [
      "当前折训练集准确率： 0.9546666666666667\n",
      "当前折测试集准确率： 0.5365853658536586\n"
     ]
    },
    {
     "name": "stderr",
     "output_type": "stream",
     "text": [
      "C:\\Users\\admin\\Anaconda3\\envs\\UEX\\lib\\site-packages\\sklearn_rvm\\em_rvm.py:675: FutureWarning: The default value of gamma will change from 'auto' to 'scale' in version 0.22 to account better for unscaled features. Set gamma explicitly to 'auto' or 'scale' to avoid this warning.\n",
      "  warnings.warn(\"The default value of gamma will change \"\n",
      "C:\\Users\\admin\\Anaconda3\\envs\\UEX\\lib\\site-packages\\sklearn_rvm\\em_rvm.py:675: FutureWarning: The default value of gamma will change from 'auto' to 'scale' in version 0.22 to account better for unscaled features. Set gamma explicitly to 'auto' or 'scale' to avoid this warning.\n",
      "  warnings.warn(\"The default value of gamma will change \"\n",
      "C:\\Users\\admin\\Anaconda3\\envs\\UEX\\lib\\site-packages\\sklearn_rvm\\em_rvm.py:675: FutureWarning: The default value of gamma will change from 'auto' to 'scale' in version 0.22 to account better for unscaled features. Set gamma explicitly to 'auto' or 'scale' to avoid this warning.\n",
      "  warnings.warn(\"The default value of gamma will change \"\n",
      "C:\\Users\\admin\\Anaconda3\\envs\\UEX\\lib\\site-packages\\sklearn_rvm\\em_rvm.py:675: FutureWarning: The default value of gamma will change from 'auto' to 'scale' in version 0.22 to account better for unscaled features. Set gamma explicitly to 'auto' or 'scale' to avoid this warning.\n",
      "  warnings.warn(\"The default value of gamma will change \"\n",
      "C:\\Users\\admin\\Anaconda3\\envs\\UEX\\lib\\site-packages\\sklearn_rvm\\em_rvm.py:675: FutureWarning: The default value of gamma will change from 'auto' to 'scale' in version 0.22 to account better for unscaled features. Set gamma explicitly to 'auto' or 'scale' to avoid this warning.\n",
      "  warnings.warn(\"The default value of gamma will change \"\n"
     ]
    },
    {
     "name": "stdout",
     "output_type": "stream",
     "text": [
      "当前折训练集准确率： 0.96\n",
      "当前折测试集准确率： 0.5121951219512195\n"
     ]
    },
    {
     "name": "stderr",
     "output_type": "stream",
     "text": [
      "C:\\Users\\admin\\Anaconda3\\envs\\UEX\\lib\\site-packages\\sklearn_rvm\\em_rvm.py:675: FutureWarning: The default value of gamma will change from 'auto' to 'scale' in version 0.22 to account better for unscaled features. Set gamma explicitly to 'auto' or 'scale' to avoid this warning.\n",
      "  warnings.warn(\"The default value of gamma will change \"\n",
      "C:\\Users\\admin\\Anaconda3\\envs\\UEX\\lib\\site-packages\\sklearn_rvm\\em_rvm.py:675: FutureWarning: The default value of gamma will change from 'auto' to 'scale' in version 0.22 to account better for unscaled features. Set gamma explicitly to 'auto' or 'scale' to avoid this warning.\n",
      "  warnings.warn(\"The default value of gamma will change \"\n",
      "C:\\Users\\admin\\Anaconda3\\envs\\UEX\\lib\\site-packages\\sklearn_rvm\\em_rvm.py:675: FutureWarning: The default value of gamma will change from 'auto' to 'scale' in version 0.22 to account better for unscaled features. Set gamma explicitly to 'auto' or 'scale' to avoid this warning.\n",
      "  warnings.warn(\"The default value of gamma will change \"\n",
      "C:\\Users\\admin\\Anaconda3\\envs\\UEX\\lib\\site-packages\\sklearn_rvm\\em_rvm.py:675: FutureWarning: The default value of gamma will change from 'auto' to 'scale' in version 0.22 to account better for unscaled features. Set gamma explicitly to 'auto' or 'scale' to avoid this warning.\n",
      "  warnings.warn(\"The default value of gamma will change \"\n",
      "C:\\Users\\admin\\Anaconda3\\envs\\UEX\\lib\\site-packages\\sklearn_rvm\\em_rvm.py:675: FutureWarning: The default value of gamma will change from 'auto' to 'scale' in version 0.22 to account better for unscaled features. Set gamma explicitly to 'auto' or 'scale' to avoid this warning.\n",
      "  warnings.warn(\"The default value of gamma will change \"\n"
     ]
    },
    {
     "name": "stdout",
     "output_type": "stream",
     "text": [
      "当前折训练集准确率： 0.96\n",
      "当前折测试集准确率： 0.4146341463414634\n",
      "Method: RVM  Clf_num: 4\n",
      "训练集准确率： 0.9580670231729055\n",
      "测试集准确率： 0.47595818815331004\n",
      "精确率： 0.4934140404366117\n",
      "召回率： 0.47595818815331004\n",
      "F1得分： 0.4707782943752651\n"
     ]
    }
   ],
   "source": [
    "cls_num = [2,3,4]\n",
    "methods = [\"RVM\"]\n",
    "for num in cls_num:\n",
    "    for method in methods:\n",
    "        train_supplement(num,method)"
   ]
  },
  {
   "cell_type": "code",
   "execution_count": 9,
   "metadata": {},
   "outputs": [],
   "source": [
    "\"\"\"划分数据集并利用dt训练\"\"\"\n",
    "def train_dt(clf_num):\n",
    "    feature_sample, filename_sample = read_bow()\n",
    "    print(\"类别1样本数量：\",len(feature_sample[0]),\"类别1文件数量：\",len(filename_sample[0]))\n",
    "    print(\"类别2样本数量：\",len(feature_sample[1]),\"类别2文件数量：\",len(filename_sample[1]))\n",
    "    print(\"类别3样本数量：\",len(feature_sample[2]),\"类别3文件数量：\",len(filename_sample[2]))\n",
    "    print(\"类别4样本数量：\",len(feature_sample[3]),\"类别4文件数量：\",len(filename_sample[3]))\n",
    "    \n",
    "    # 选择随机种子\n",
    "    random.seed(0)\n",
    "    if clf_num == 2:\n",
    "        # 二分类\n",
    "        feature_sample_array = sample(feature_sample[0],361)+feature_sample[1]+feature_sample[3]\n",
    "        label_array = [0]*len(sample(feature_sample[0],361))+[1]*len(feature_sample[1]+feature_sample[3])\n",
    "        filename_sample_array = sample(filename_sample[0],361)+filename_sample[1]+filename_sample[3]\n",
    "    elif clf_num == 3:\n",
    "        # 三分类\n",
    "        feature_sample_array = sample(feature_sample[0],159)+sample(feature_sample[1],159)+feature_sample[3]\n",
    "        label_array = [0]*len(sample(feature_sample[0],159))+[1]*len(sample(feature_sample[1],159))+[2]*len(feature_sample[3])\n",
    "        filename_sample_array = sample(filename_sample[0],159)+sample(filename_sample[1],159)+filename_sample[3]\n",
    "    elif clf_num == 4:\n",
    "        # 四分类\n",
    "        feature_sample_array = sample(feature_sample[0],104)+sample(feature_sample[1],104)+feature_sample[2]+sample(feature_sample[3],104)\n",
    "        label_array = [0]*len(sample(feature_sample[0],104))+[1]*len(sample(feature_sample[1],104))+[2]*len(feature_sample[2])+[3]*len(sample(feature_sample[3],104))\n",
    "        filename_sample_array = sample(filename_sample[0],104)+sample(filename_sample[1],104)+filename_sample[2]+sample(filename_sample[3],104)\n",
    "    \n",
    "    # 分层k折交叉验证\n",
    "    skf = StratifiedKFold(n_splits=10)\n",
    "    # 储存每一轮的结果\n",
    "    train_score_list = []\n",
    "    test_score_list = []\n",
    "    precision_score_list = []\n",
    "    recall_score_list = []\n",
    "    f1_score_list = []\n",
    "    feature_sample_array = preprocessing.scale(feature_sample_array)   # processing预处理\n",
    "    for train, test in skf.split(feature_sample_array,label_array):\n",
    "        train_data = np.array(feature_sample_array)[train,:]   # 划分好的训练集\n",
    "        train_label = np.array(label_array)[train]\n",
    "        test_data = np.array(feature_sample_array)[test,:]   # 划分好的测试集\n",
    "        test_label = np.array(label_array)[test]\n",
    "        \n",
    "        clf = DecisionTreeClassifier(random_state=0,max_depth=3)\n",
    "        clf.fit(train_data,train_label)\n",
    "    \n",
    "        # 采用混淆矩阵计算各种评价指标\n",
    "        predicted_train_label = clf.predict(train_data)\n",
    "        predicted_test_label = clf.predict(test_data)\n",
    "#         print(\"当前折训练集准确率：\",metrics.accuracy_score(train_label,predicted_train_label))\n",
    "        train_score_list.append(metrics.accuracy_score(train_label,predicted_train_label))\n",
    "#         print(\"当前折测试集准确率：\",metrics.accuracy_score(test_label,predicted_test_label))\n",
    "        test_score_list.append(metrics.accuracy_score(test_label,predicted_test_label))\n",
    "#         print(\"当前折精准值：\",metrics.precision_score(test_label,predicted_test_label,average='weighted'))\n",
    "        precision_score_list.append(metrics.precision_score(test_label,predicted_test_label,average='weighted'))\n",
    "#         print(\"当前折召回率：\",metrics.recall_score(test_label,predicted_test_label,average='weighted'))\n",
    "        recall_score_list.append(metrics.recall_score(test_label,predicted_test_label,average='weighted'))\n",
    "#         print(\"当前折F1：\",metrics.f1_score(test_label,predicted_test_label,average='weighted'))\n",
    "        f1_score_list.append(metrics.f1_score(test_label,predicted_test_label,average='weighted'))\n",
    "#         print(\"Done!*****************************************************\")\n",
    "       \n",
    "    print(\" Clf_num\",clf_num)\n",
    "    print(\"训练集准确率：\",np.array(train_score_list).mean())\n",
    "    print(\"测试集准确率：\",np.array(test_score_list).mean())\n",
    "    print(\"精确率：\",np.array(precision_score_list).mean())\n",
    "    print(\"召回率：\",np.array(recall_score_list).mean())\n",
    "    print(\"F1得分：\",np.array(f1_score_list).mean())"
   ]
  },
  {
   "cell_type": "code",
   "execution_count": 10,
   "metadata": {},
   "outputs": [
    {
     "name": "stdout",
     "output_type": "stream",
     "text": [
      "类别1样本数量： 511 类别1文件数量： 511\n",
      "类别2样本数量： 202 类别2文件数量： 202\n",
      "类别3样本数量： 104 类别3文件数量： 104\n",
      "类别4样本数量： 159 类别4文件数量： 159\n",
      " Clf_num 2\n",
      "训练集准确率： 0.742691952115681\n",
      "测试集准确率： 0.6830289193302892\n",
      "精确率： 0.6842777700701845\n",
      "召回率： 0.6830289193302892\n",
      "F1得分： 0.6825378033679025\n",
      "类别1样本数量： 511 类别1文件数量： 511\n",
      "类别2样本数量： 202 类别2文件数量： 202\n",
      "类别3样本数量： 104 类别3文件数量： 104\n",
      "类别4样本数量： 159 类别4文件数量： 159\n",
      " Clf_num 3\n",
      "训练集准确率： 0.5613807123109449\n",
      "测试集准确率： 0.4441932624113475\n",
      "精确率： 0.4407710538324934\n",
      "召回率： 0.4441932624113475\n",
      "F1得分： 0.40796698351996047\n"
     ]
    },
    {
     "name": "stderr",
     "output_type": "stream",
     "text": [
      "C:\\Users\\admin\\Anaconda3\\envs\\UEX\\lib\\site-packages\\sklearn\\metrics\\_classification.py:1318: UndefinedMetricWarning: Precision is ill-defined and being set to 0.0 in labels with no predicted samples. Use `zero_division` parameter to control this behavior.\n",
      "  _warn_prf(average, modifier, msg_start, len(result))\n"
     ]
    },
    {
     "name": "stdout",
     "output_type": "stream",
     "text": [
      "类别1样本数量： 511 类别1文件数量： 511\n",
      "类别2样本数量： 202 类别2文件数量： 202\n",
      "类别3样本数量： 104 类别3文件数量： 104\n",
      "类别4样本数量： 159 类别4文件数量： 159\n",
      " Clf_num 4\n",
      "训练集准确率： 0.45432299465240644\n",
      "测试集准确率： 0.31742160278745646\n",
      "精确率： 0.36763168645326\n",
      "召回率： 0.31742160278745646\n",
      "F1得分： 0.27646680398925566\n"
     ]
    },
    {
     "name": "stderr",
     "output_type": "stream",
     "text": [
      "C:\\Users\\admin\\Anaconda3\\envs\\UEX\\lib\\site-packages\\sklearn\\metrics\\_classification.py:1318: UndefinedMetricWarning: Precision is ill-defined and being set to 0.0 in labels with no predicted samples. Use `zero_division` parameter to control this behavior.\n",
      "  _warn_prf(average, modifier, msg_start, len(result))\n",
      "C:\\Users\\admin\\Anaconda3\\envs\\UEX\\lib\\site-packages\\sklearn\\metrics\\_classification.py:1318: UndefinedMetricWarning: Precision is ill-defined and being set to 0.0 in labels with no predicted samples. Use `zero_division` parameter to control this behavior.\n",
      "  _warn_prf(average, modifier, msg_start, len(result))\n",
      "C:\\Users\\admin\\Anaconda3\\envs\\UEX\\lib\\site-packages\\sklearn\\metrics\\_classification.py:1318: UndefinedMetricWarning: Precision is ill-defined and being set to 0.0 in labels with no predicted samples. Use `zero_division` parameter to control this behavior.\n",
      "  _warn_prf(average, modifier, msg_start, len(result))\n"
     ]
    }
   ],
   "source": [
    "\"\"\"进行2，3，4分类，并利用dt为分类器做对比实验\"\"\"\n",
    "cls_num = [2,3,4]\n",
    "for num in cls_num:\n",
    "    train_dt(num)"
   ]
  },
  {
   "cell_type": "code",
   "execution_count": null,
   "metadata": {},
   "outputs": [],
   "source": []
  }
 ],
 "metadata": {
  "kernelspec": {
   "display_name": "Python [conda env:UEX] *",
   "language": "python",
   "name": "conda-env-UEX-py"
  },
  "language_info": {
   "codemirror_mode": {
    "name": "ipython",
    "version": 3
   },
   "file_extension": ".py",
   "mimetype": "text/x-python",
   "name": "python",
   "nbconvert_exporter": "python",
   "pygments_lexer": "ipython3",
   "version": "3.8.12"
  }
 },
 "nbformat": 4,
 "nbformat_minor": 2
}
